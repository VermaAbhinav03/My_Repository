{
 "cells": [
  {
   "cell_type": "markdown",
   "id": "2e1a7ca1-325d-441d-8142-881270e064a0",
   "metadata": {},
   "source": [
    "Q1. Which keyword is used to create a function? Create a function to return a list of odd numbers in the\n",
    "range of 1 to 25."
   ]
  },
  {
   "cell_type": "markdown",
   "id": "d6d32655-8202-4c6c-a3c6-14e56eefb1a8",
   "metadata": {},
   "source": [
    "Ans_1.\n",
    "\n",
    "In Python, the keyword used to create a function is \"def\" (short for \"define\"). Here's an example of a function that returns a list of odd numbers in the range of 1 to 25:"
   ]
  },
  {
   "cell_type": "code",
   "execution_count": 16,
   "id": "4ddff31b-6e2a-497d-9fde-0c82b97a64a3",
   "metadata": {},
   "outputs": [
    {
     "name": "stdout",
     "output_type": "stream",
     "text": [
      "[1, 3, 5, 7, 9, 11, 13, 15, 17, 19, 21, 23, 25]\n"
     ]
    }
   ],
   "source": [
    "def get_odd_numbers():\n",
    "    odd_numbers = []\n",
    "    for num in range(1, 26):\n",
    "        if num % 2 != 0:\n",
    "            odd_numbers.append(num)\n",
    "    return odd_numbers\n",
    "print(get_odd_numbers())"
   ]
  },
  {
   "cell_type": "markdown",
   "id": "1797ed3d-0a9c-459f-b465-f31bb2f1a7a4",
   "metadata": {},
   "source": [
    "Q2. Why *args and **kwargs is used in some functions? Create a function each for *args and **kwargs\n",
    "to demonstrate their use"
   ]
  },
  {
   "cell_type": "markdown",
   "id": "5ad29b90-1d75-4c32-9050-4a4705290238",
   "metadata": {},
   "source": [
    "The *args parameter allows a function to accept a variable number of non-keyword arguments. It collects all the extra  arguments into a tuple within the function. This is useful when you don't know in advance how many arguments will be passed to the function.\n",
    "\n"
   ]
  },
  {
   "cell_type": "code",
   "execution_count": 1,
   "id": "36c59fc7-3418-4ca8-8ad5-b48c07320976",
   "metadata": {},
   "outputs": [],
   "source": [
    "def fun(*args):\n",
    "    return args"
   ]
  },
  {
   "cell_type": "code",
   "execution_count": 2,
   "id": "85dbc837-65bd-486f-af95-4dfbcd81e635",
   "metadata": {},
   "outputs": [
    {
     "data": {
      "text/plain": [
       "(5, 7, 3446, 85)"
      ]
     },
     "execution_count": 2,
     "metadata": {},
     "output_type": "execute_result"
    }
   ],
   "source": [
    "fun(5,7,3446,85)"
   ]
  },
  {
   "cell_type": "code",
   "execution_count": 4,
   "id": "c2d16aae-f43a-4a70-9779-f4b9d65cf03b",
   "metadata": {},
   "outputs": [
    {
     "data": {
      "text/plain": [
       "(53, 'Abhi', 'verma', 3.66)"
      ]
     },
     "execution_count": 4,
     "metadata": {},
     "output_type": "execute_result"
    }
   ],
   "source": [
    "fun(53,'Abhi','verma',3.66)"
   ]
  },
  {
   "cell_type": "markdown",
   "id": "34b8aacd-ad0a-496e-8ffe-4e5d28b7e43b",
   "metadata": {},
   "source": [
    "The **kwargs parameter allows a function to accept a variable number of keyword arguments. It collects all the extra keyword arguments into a dictionary within the function."
   ]
  },
  {
   "cell_type": "code",
   "execution_count": 5,
   "id": "187dbcc4-c5d1-48ab-b2d0-3cf95a5c0feb",
   "metadata": {},
   "outputs": [],
   "source": [
    "def fun2(**kwargs):\n",
    "    return kwargs"
   ]
  },
  {
   "cell_type": "code",
   "execution_count": 6,
   "id": "7c1435e6-8691-43bf-a274-961cbd9969a0",
   "metadata": {},
   "outputs": [
    {
     "data": {
      "text/plain": [
       "{}"
      ]
     },
     "execution_count": 6,
     "metadata": {},
     "output_type": "execute_result"
    }
   ],
   "source": [
    "fun2()"
   ]
  },
  {
   "cell_type": "code",
   "execution_count": 9,
   "id": "ac16d09a-308a-422c-a342-587282a7e0be",
   "metadata": {},
   "outputs": [
    {
     "data": {
      "text/plain": [
       "{'a': 53, 'b': 'Abhi', 'c': 'verma', 'd': 3.66}"
      ]
     },
     "execution_count": 9,
     "metadata": {},
     "output_type": "execute_result"
    }
   ],
   "source": [
    "fun2(a=53,b='Abhi',c='verma',d=3.66)"
   ]
  },
  {
   "cell_type": "markdown",
   "id": "5ac4c75e-7166-4da6-b1de-527c16abbf61",
   "metadata": {},
   "source": [
    "Q3. What is an iterator in python? Name the method used to initialise the iterator object and the method\n",
    "used for iteration. Use these methods to print the first five elements of the given list [2, 4, 6, 8, 10, 12, 14,\n",
    "16, 18, 20]."
   ]
  },
  {
   "cell_type": "markdown",
   "id": "a088334d-892c-49b2-b2b2-4157b811562f",
   "metadata": {},
   "source": [
    "In Python, an iterator is an object that implements the iterator protocol, which allows it to be iterated over using a loop or other iterable constructs. It provides a way to access the elements of a container or sequence one at a time."
   ]
  },
  {
   "cell_type": "markdown",
   "id": "33cc4e3f-76aa-474f-af34-48327d77a05e",
   "metadata": {},
   "source": [
    "The method used to initialize the iterator object is __iter__(). It is responsible for returning the iterator object itself and is called when the iterator is created or when the iter() function is called on the iterable object."
   ]
  },
  {
   "cell_type": "code",
   "execution_count": 13,
   "id": "1fb1bebc-5123-4ac1-aa66-064b3dc39c03",
   "metadata": {},
   "outputs": [
    {
     "name": "stdout",
     "output_type": "stream",
     "text": [
      "2\n",
      "4\n",
      "6\n",
      "8\n",
      "10\n"
     ]
    }
   ],
   "source": [
    "my_list = [2, 4, 6, 8, 10, 12, 14, 16, 18, 20]\n",
    "\n",
    "# Create an iterator object\n",
    "my_iterator = iter(my_list)\n",
    "\n",
    "# Print the first five elements\n",
    "for _ in range(5):\n",
    "    element = next(my_iterator)\n",
    "    print(element)\n"
   ]
  },
  {
   "cell_type": "markdown",
   "id": "3143789a-45b1-413b-a4ec-1c1e3c5f9968",
   "metadata": {},
   "source": [
    "Q4. What is a generator function in python? Why yield keyword is used? Give an example of a generator\n",
    "function."
   ]
  },
  {
   "cell_type": "markdown",
   "id": "5188db96-26f2-48ec-bf5a-f87545ebdf8f",
   "metadata": {},
   "source": [
    "In Python, a generator function is a special type of function that returns an iterator (also known as a generator). It allows you to define an iterable sequence using a concise and memory-efficient syntax. Generator functions use the yield keyword instead of the return keyword to produce a series of values. "
   ]
  },
  {
   "cell_type": "code",
   "execution_count": 15,
   "id": "d743f75c-9244-480b-b9be-cdd1935ac220",
   "metadata": {},
   "outputs": [
    {
     "name": "stdout",
     "output_type": "stream",
     "text": [
      "0\n",
      "1\n",
      "4\n",
      "9\n",
      "16\n",
      "25\n",
      "36\n",
      "49\n",
      "64\n",
      "81\n"
     ]
    }
   ],
   "source": [
    "def square_generator(n):\n",
    "    for i in range(n):\n",
    "        yield i ** 2\n",
    "\n",
    "# Usage\n",
    "squares = square_generator(10)\n",
    "\n",
    "# Print each square value\n",
    "for square in squares:\n",
    "    print(square)\n"
   ]
  },
  {
   "cell_type": "markdown",
   "id": "5f6523c4-a11e-4658-aef1-8c1b2a4afb94",
   "metadata": {},
   "source": [
    "Q5. Create a generator function for prime numbers less than 1000. Use the next() method to print the\n",
    "first 20 prime numbers."
   ]
  },
  {
   "cell_type": "code",
   "execution_count": 16,
   "id": "9c7e19cb-e87d-4e26-8b9e-f6074439d9dd",
   "metadata": {},
   "outputs": [
    {
     "name": "stdout",
     "output_type": "stream",
     "text": [
      "2\n",
      "3\n",
      "5\n",
      "7\n",
      "11\n",
      "13\n",
      "17\n",
      "19\n",
      "23\n",
      "29\n",
      "31\n",
      "37\n",
      "41\n",
      "43\n",
      "47\n",
      "53\n",
      "59\n",
      "61\n",
      "67\n",
      "71\n"
     ]
    }
   ],
   "source": [
    "def prime_generator():\n",
    "    primes = []\n",
    "    num = 2\n",
    "    while num < 1000:\n",
    "        is_prime = True\n",
    "        for prime in primes:\n",
    "            if num % prime == 0:\n",
    "                is_prime = False\n",
    "                break\n",
    "        if is_prime:\n",
    "            primes.append(num)\n",
    "            yield num\n",
    "        num += 1\n",
    "\n",
    "# Usage\n",
    "prime_gen = prime_generator()\n",
    "\n",
    "# Print the first 20 prime numbers\n",
    "for _ in range(20):\n",
    "    prime = next(prime_gen)\n",
    "    print(prime)\n"
   ]
  },
  {
   "cell_type": "markdown",
   "id": "b8a9e2a3-3363-4360-9f34-48ee087071c8",
   "metadata": {},
   "source": [
    "Q6. Write a python program to print the first 10 Fibonacci numbers using a while loop."
   ]
  },
  {
   "cell_type": "code",
   "execution_count": 2,
   "id": "d4c724ed-7e40-44bf-a92a-5d633bb0f192",
   "metadata": {},
   "outputs": [
    {
     "name": "stdout",
     "output_type": "stream",
     "text": [
      "0\n",
      "1\n",
      "1\n",
      "2\n",
      "3\n",
      "5\n",
      "8\n",
      "13\n",
      "21\n",
      "34\n"
     ]
    }
   ],
   "source": [
    "# Function to print the first 10 Fibonacci numbers\n",
    "def print_fibonacci():\n",
    "    num1, num2 = 0, 1\n",
    "    # Counter to keep track of the number of Fibonacci numbers printed\n",
    "    count = 0\n",
    "\n",
    "    # Iterate until the count reaches 10\n",
    "    while count < 10:\n",
    "        # Print the current Fibonacci number\n",
    "        print(num1)\n",
    "\n",
    "        # Update the Fibonacci sequence\n",
    "        num1, num2 = num2, num1 + num2\n",
    "\n",
    "        # Increment the count\n",
    "        count += 1\n",
    "\n",
    "# Call the function to print the Fibonacci numbers\n",
    "print_fibonacci()\n"
   ]
  },
  {
   "cell_type": "markdown",
   "id": "54a68d3f-ec2d-46d9-9bf9-e43653964e85",
   "metadata": {},
   "source": [
    "Q7. Write a List Comprehension to iterate through the given string: ‘pwskills’.\n",
    "\n",
    "Expected output: ['p', 'w', 's', 'k', 'i', 'l', 'l', 's']"
   ]
  },
  {
   "cell_type": "code",
   "execution_count": 3,
   "id": "bab8a4fa-0b77-4ebf-aa6c-1d78968af781",
   "metadata": {},
   "outputs": [],
   "source": [
    "s = \"pwskills\""
   ]
  },
  {
   "cell_type": "code",
   "execution_count": 4,
   "id": "b0b5ed6e-4192-4bc7-8166-0a48bc8a22f3",
   "metadata": {},
   "outputs": [
    {
     "data": {
      "text/plain": [
       "'pwskills'"
      ]
     },
     "execution_count": 4,
     "metadata": {},
     "output_type": "execute_result"
    }
   ],
   "source": [
    "s"
   ]
  },
  {
   "cell_type": "code",
   "execution_count": 5,
   "id": "9f647224-afbb-4570-8da5-2f051112560b",
   "metadata": {},
   "outputs": [],
   "source": [
    "s_iter = iter('pwskills')"
   ]
  },
  {
   "cell_type": "code",
   "execution_count": 7,
   "id": "1cf196a9-cc0b-457b-822c-e589e8f0d6cd",
   "metadata": {},
   "outputs": [
    {
     "name": "stdout",
     "output_type": "stream",
     "text": [
      "['p', 'w', 's', 'k', 'i', 'l', 'l', 's']\n"
     ]
    }
   ],
   "source": [
    "print(list(s_iter))"
   ]
  },
  {
   "cell_type": "markdown",
   "id": "392a4d21-3482-4916-9a27-15b65bb522d0",
   "metadata": {},
   "source": [
    "Q8. Write a python program to check whether a given number is Palindrome or not using a while loop."
   ]
  },
  {
   "cell_type": "code",
   "execution_count": 8,
   "id": "fefd1c05-bdbc-4c4b-a6a6-106acaad7c00",
   "metadata": {},
   "outputs": [
    {
     "name": "stdin",
     "output_type": "stream",
     "text": [
      "Enter a number:  234432\n"
     ]
    },
    {
     "name": "stdout",
     "output_type": "stream",
     "text": [
      "234432 is a palindrome.\n"
     ]
    }
   ],
   "source": [
    "def is_palindrome(num):\n",
    "    # Store the original number\n",
    "    original_num = num\n",
    "\n",
    "    # Initialize the reverse number\n",
    "    reverse_num = 0\n",
    "\n",
    "    # Reverse the number using a while loop\n",
    "    while num > 0:\n",
    "        # Extract the last digit of the number\n",
    "        digit = num % 10\n",
    "\n",
    "        # Append the digit to the reverse number\n",
    "        reverse_num = (reverse_num * 10) + digit\n",
    "\n",
    "        # Remove the last digit from the number\n",
    "        num = num // 10\n",
    "\n",
    "    # Check if the original number is equal to the reverse number\n",
    "    if original_num == reverse_num:\n",
    "        return True\n",
    "    else:\n",
    "        return False\n",
    "\n",
    "# Get input from the user\n",
    "num = int(input(\"Enter a number: \"))\n",
    "\n",
    "# Check if the number is a palindrome\n",
    "if is_palindrome(num):\n",
    "    print(num, \"is a palindrome.\")\n",
    "else:\n",
    "    print(num, \"is not a palindrome.\")\n"
   ]
  },
  {
   "cell_type": "markdown",
   "id": "138115ca-1538-4cb8-8589-5471d4ad9170",
   "metadata": {},
   "source": [
    "Q9. Write a code to print odd numbers from 1 to 100 using list comprehension.\n",
    "\n",
    "Note: Use a list comprehension to create a list from 1 to 100 and use another List comprehension to filter\n",
    "out odd numbers."
   ]
  },
  {
   "cell_type": "code",
   "execution_count": 9,
   "id": "23087a6c-9ba5-4b36-901b-35e6585c2ba2",
   "metadata": {},
   "outputs": [
    {
     "name": "stdout",
     "output_type": "stream",
     "text": [
      "[1, 3, 5, 7, 9, 11, 13, 15, 17, 19, 21, 23, 25, 27, 29, 31, 33, 35, 37, 39, 41, 43, 45, 47, 49, 51, 53, 55, 57, 59, 61, 63, 65, 67, 69, 71, 73, 75, 77, 79, 81, 83, 85, 87, 89, 91, 93, 95, 97, 99]\n"
     ]
    }
   ],
   "source": [
    "# Create a list from 1 to 100 using a list comprehension\n",
    "numbers = [num for num in range(1, 101)]\n",
    "\n",
    "# Filter out odd numbers using another list comprehension\n",
    "odd_numbers = [num for num in numbers if num % 2 != 0]\n",
    "\n",
    "# Print the filtered odd numbers\n",
    "print(odd_numbers)\n"
   ]
  },
  {
   "cell_type": "code",
   "execution_count": null,
   "id": "815eca24-9ced-44f7-96a0-8e83aa65d3d2",
   "metadata": {},
   "outputs": [],
   "source": []
  }
 ],
 "metadata": {
  "kernelspec": {
   "display_name": "Python 3 (ipykernel)",
   "language": "python",
   "name": "python3"
  },
  "language_info": {
   "codemirror_mode": {
    "name": "ipython",
    "version": 3
   },
   "file_extension": ".py",
   "mimetype": "text/x-python",
   "name": "python",
   "nbconvert_exporter": "python",
   "pygments_lexer": "ipython3",
   "version": "3.10.8"
  }
 },
 "nbformat": 4,
 "nbformat_minor": 5
}
