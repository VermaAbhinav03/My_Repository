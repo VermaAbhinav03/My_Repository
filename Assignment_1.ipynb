{
 "cells": [
  {
   "cell_type": "markdown",
   "id": "510dceb8-722d-4c79-a124-1ac24ddc8e6e",
   "metadata": {},
   "source": [
    "Q1. Create one variable containing following type of data:\n",
    "(i) string\n",
    "(ii) list\n",
    "(iii) float\n",
    "(iv) tuple"
   ]
  },
  {
   "cell_type": "code",
   "execution_count": null,
   "id": "d0f682c4-1dac-4bad-8df2-0603e29d4439",
   "metadata": {},
   "outputs": [],
   "source": [
    "                                             # String"
   ]
  },
  {
   "cell_type": "code",
   "execution_count": 18,
   "id": "0f81575f-0248-4539-b582-70efc1453cc7",
   "metadata": {},
   "outputs": [],
   "source": [
    "S = 'abhi'               "
   ]
  },
  {
   "cell_type": "code",
   "execution_count": 19,
   "id": "b6e258bd-abd7-421d-810a-cc176912a5fa",
   "metadata": {},
   "outputs": [
    {
     "data": {
      "text/plain": [
       "str"
      ]
     },
     "execution_count": 19,
     "metadata": {},
     "output_type": "execute_result"
    }
   ],
   "source": [
    "type(S)"
   ]
  },
  {
   "cell_type": "code",
   "execution_count": 20,
   "id": "f243a539-5bff-44fa-997a-da2c4c4690fe",
   "metadata": {},
   "outputs": [
    {
     "name": "stdout",
     "output_type": "stream",
     "text": [
      "abhi\n"
     ]
    }
   ],
   "source": [
    "print(S)"
   ]
  },
  {
   "cell_type": "code",
   "execution_count": 21,
   "id": "78492c73-8f51-4423-b84f-d9f8698df287",
   "metadata": {},
   "outputs": [
    {
     "data": {
      "text/plain": [
       "'a'"
      ]
     },
     "execution_count": 21,
     "metadata": {},
     "output_type": "execute_result"
    }
   ],
   "source": [
    "S[0]"
   ]
  },
  {
   "cell_type": "code",
   "execution_count": null,
   "id": "788ee002-8bcb-4d2f-8888-002aaf19f453",
   "metadata": {},
   "outputs": [],
   "source": [
    "                                               # list"
   ]
  },
  {
   "cell_type": "code",
   "execution_count": 10,
   "id": "87d1c5d4-9241-45ad-b5e8-73dce3c0f474",
   "metadata": {},
   "outputs": [],
   "source": [
    "L = [\"abc\", 34, True, 40, \"male\"]"
   ]
  },
  {
   "cell_type": "code",
   "execution_count": 11,
   "id": "14b64a30-27b8-4f38-936f-c475f31ec0a7",
   "metadata": {},
   "outputs": [
    {
     "data": {
      "text/plain": [
       "list"
      ]
     },
     "execution_count": 11,
     "metadata": {},
     "output_type": "execute_result"
    }
   ],
   "source": [
    "type(L)"
   ]
  },
  {
   "cell_type": "code",
   "execution_count": 12,
   "id": "23a8fbcf-5e07-429d-9a5a-8031ec392d27",
   "metadata": {},
   "outputs": [
    {
     "data": {
      "text/plain": [
       "['abc', 34, True, 40, 'male']"
      ]
     },
     "execution_count": 12,
     "metadata": {},
     "output_type": "execute_result"
    }
   ],
   "source": [
    "L"
   ]
  },
  {
   "cell_type": "code",
   "execution_count": 14,
   "id": "bd494ac5-ef48-4fd0-ab18-6aa56dde96b3",
   "metadata": {},
   "outputs": [
    {
     "data": {
      "text/plain": [
       "'abc'"
      ]
     },
     "execution_count": 14,
     "metadata": {},
     "output_type": "execute_result"
    }
   ],
   "source": [
    "\n",
    "L[0]"
   ]
  },
  {
   "cell_type": "code",
   "execution_count": 22,
   "id": "193160f6-5f2d-4882-a2dd-2c705c958738",
   "metadata": {},
   "outputs": [
    {
     "data": {
      "text/plain": [
       "'male'"
      ]
     },
     "execution_count": 22,
     "metadata": {},
     "output_type": "execute_result"
    }
   ],
   "source": [
    "L[-1]"
   ]
  },
  {
   "cell_type": "code",
   "execution_count": null,
   "id": "79331ecc-3892-4958-a7b4-d9596bd4c6d6",
   "metadata": {},
   "outputs": [],
   "source": [
    "                                           # float"
   ]
  },
  {
   "cell_type": "code",
   "execution_count": 23,
   "id": "45caab52-1663-472c-8af3-dca8f8b08d7a",
   "metadata": {},
   "outputs": [],
   "source": [
    "f = 1.00"
   ]
  },
  {
   "cell_type": "code",
   "execution_count": 24,
   "id": "a86112bb-def5-4e8e-abf4-515df7f03320",
   "metadata": {},
   "outputs": [
    {
     "data": {
      "text/plain": [
       "float"
      ]
     },
     "execution_count": 24,
     "metadata": {},
     "output_type": "execute_result"
    }
   ],
   "source": [
    "type(f)"
   ]
  },
  {
   "cell_type": "code",
   "execution_count": 25,
   "id": "171fe0fa-fbd2-4500-bc82-903f44d85873",
   "metadata": {},
   "outputs": [],
   "source": [
    "                                           # tupple"
   ]
  },
  {
   "cell_type": "code",
   "execution_count": 26,
   "id": "14a2fee9-7bfc-48df-a0c3-9724ec0550c0",
   "metadata": {},
   "outputs": [],
   "source": [
    "tup = (\"hello\", \"aana\", \"cry\")"
   ]
  },
  {
   "cell_type": "code",
   "execution_count": 27,
   "id": "43998845-064e-4d42-b0b1-ecf19e51dbfd",
   "metadata": {},
   "outputs": [
    {
     "data": {
      "text/plain": [
       "('hello', 'aana', 'cry')"
      ]
     },
     "execution_count": 27,
     "metadata": {},
     "output_type": "execute_result"
    }
   ],
   "source": [
    "tup"
   ]
  },
  {
   "cell_type": "code",
   "execution_count": 29,
   "id": "2f77aa6e-aed0-4804-8543-74d339cc872c",
   "metadata": {},
   "outputs": [
    {
     "data": {
      "text/plain": [
       "'hello'"
      ]
     },
     "execution_count": 29,
     "metadata": {},
     "output_type": "execute_result"
    }
   ],
   "source": [
    "tup[0]"
   ]
  },
  {
   "cell_type": "code",
   "execution_count": 30,
   "id": "617309fc-4707-469a-9ec6-6b1077d55103",
   "metadata": {},
   "outputs": [
    {
     "data": {
      "text/plain": [
       "tuple"
      ]
     },
     "execution_count": 30,
     "metadata": {},
     "output_type": "execute_result"
    }
   ],
   "source": [
    "type(tup)"
   ]
  },
  {
   "cell_type": "markdown",
   "id": "3b6954fc-052b-41f8-bab3-3745ffd4c002",
   "metadata": {},
   "source": [
    "Q2. Given are some following variables containing data:\n",
    "(i) var1 = ‘ ‘\n",
    "(ii) var2 = ‘[ DS , ML , Python]’\n",
    "(iii) var3 = [ ‘DS’ , ’ML’ , ‘Python’ ]\n",
    "(iv) var4 = 1."
   ]
  },
  {
   "cell_type": "code",
   "execution_count": null,
   "id": "d24a1d58-b398-4377-add2-71260beff630",
   "metadata": {},
   "outputs": [],
   "source": [
    "                                           #ans-1"
   ]
  },
  {
   "cell_type": "code",
   "execution_count": 32,
   "id": "83aa0c24-a12b-482b-96c9-9b154df0028a",
   "metadata": {},
   "outputs": [],
   "source": [
    "var1 = ' '"
   ]
  },
  {
   "cell_type": "code",
   "execution_count": 33,
   "id": "31196e93-318f-4325-9323-2fa7213378e9",
   "metadata": {},
   "outputs": [
    {
     "data": {
      "text/plain": [
       "str"
      ]
     },
     "execution_count": 33,
     "metadata": {},
     "output_type": "execute_result"
    }
   ],
   "source": [
    "type(var1)"
   ]
  },
  {
   "cell_type": "code",
   "execution_count": 34,
   "id": "9581a0e4-f9eb-4c37-b260-eb8ea18c56a5",
   "metadata": {},
   "outputs": [],
   "source": [
    "                                           #ans-2"
   ]
  },
  {
   "cell_type": "code",
   "execution_count": 39,
   "id": "ef85b3d1-9ff3-4082-99a3-e4bf1385c2f4",
   "metadata": {},
   "outputs": [],
   "source": [
    "var2 = '[ DS , ML , Python]'"
   ]
  },
  {
   "cell_type": "code",
   "execution_count": 40,
   "id": "fc6f2ee3-192d-4502-b671-11d603208288",
   "metadata": {},
   "outputs": [
    {
     "data": {
      "text/plain": [
       "str"
      ]
     },
     "execution_count": 40,
     "metadata": {},
     "output_type": "execute_result"
    }
   ],
   "source": [
    "type(var2)"
   ]
  },
  {
   "cell_type": "code",
   "execution_count": 41,
   "id": "ef25c29a-3fdc-4bea-944e-c3fb76e44b82",
   "metadata": {},
   "outputs": [],
   "source": [
    "                                            #ans-3"
   ]
  },
  {
   "cell_type": "code",
   "execution_count": 43,
   "id": "2284256a-cdf0-42ae-ab65-f02a29d36491",
   "metadata": {},
   "outputs": [],
   "source": [
    "var3 = [ 'DS' , 'ML' , 'Python' ]"
   ]
  },
  {
   "cell_type": "code",
   "execution_count": 44,
   "id": "f9ca5cdb-5032-4de0-ae64-aa24086160cd",
   "metadata": {},
   "outputs": [
    {
     "data": {
      "text/plain": [
       "list"
      ]
     },
     "execution_count": 44,
     "metadata": {},
     "output_type": "execute_result"
    }
   ],
   "source": [
    "type(var3)"
   ]
  },
  {
   "cell_type": "code",
   "execution_count": 45,
   "id": "205a46a1-ffd0-42c1-aad5-8e9e84158378",
   "metadata": {},
   "outputs": [],
   "source": [
    "                                             #ans-4 "
   ]
  },
  {
   "cell_type": "code",
   "execution_count": 46,
   "id": "f7c67810-d602-4baa-a728-f4bc8544a046",
   "metadata": {},
   "outputs": [],
   "source": [
    "var4 = 1."
   ]
  },
  {
   "cell_type": "code",
   "execution_count": 47,
   "id": "a7392346-a597-4e01-9102-4951248812f9",
   "metadata": {},
   "outputs": [
    {
     "data": {
      "text/plain": [
       "float"
      ]
     },
     "execution_count": 47,
     "metadata": {},
     "output_type": "execute_result"
    }
   ],
   "source": [
    "type(var4)"
   ]
  },
  {
   "cell_type": "markdown",
   "id": "6a2281ae-7b49-49a1-9610-a1e9767980cc",
   "metadata": {},
   "source": [
    "Q3. Explain the use of the following operators using an example:\n",
    "(i) /\n",
    "(ii) %\n",
    "(iii) //\n",
    "(iv) **"
   ]
  },
  {
   "cell_type": "code",
   "execution_count": 50,
   "id": "20d2e429-6a0b-4e87-9cdc-1def2d1f1b53",
   "metadata": {},
   "outputs": [],
   "source": [
    "#  ans-1.            / (Division) – Divide two operands and gives the quotient as the answer."
   ]
  },
  {
   "cell_type": "code",
   "execution_count": 48,
   "id": "cd12bc28-5c4c-498f-baef-6c6cf2f9881a",
   "metadata": {},
   "outputs": [
    {
     "data": {
      "text/plain": [
       "4.5"
      ]
     },
     "execution_count": 48,
     "metadata": {},
     "output_type": "execute_result"
    }
   ],
   "source": [
    "9/2"
   ]
  },
  {
   "cell_type": "code",
   "execution_count": 51,
   "id": "657cbf59-5ffd-4701-8cf9-2356ed3a6439",
   "metadata": {},
   "outputs": [],
   "source": [
    "#  ans_2.     % (Modulus operation) – Find the remains of two integers"
   ]
  },
  {
   "cell_type": "code",
   "execution_count": 52,
   "id": "24e4e467-1be5-47b8-a9b1-6606f34e3f88",
   "metadata": {},
   "outputs": [
    {
     "data": {
      "text/plain": [
       "1"
      ]
     },
     "execution_count": 52,
     "metadata": {},
     "output_type": "execute_result"
    }
   ],
   "source": [
    "9%2"
   ]
  },
  {
   "cell_type": "code",
   "execution_count": null,
   "id": "a86651f5-d80b-4d2c-8d29-c3d73e910d23",
   "metadata": {},
   "outputs": [],
   "source": [
    "#  ans_3.      // it gives floor of Quotient"
   ]
  },
  {
   "cell_type": "code",
   "execution_count": 54,
   "id": "123067ea-e233-4323-9b27-dda4a8948b9e",
   "metadata": {},
   "outputs": [
    {
     "data": {
      "text/plain": [
       "6"
      ]
     },
     "execution_count": 54,
     "metadata": {},
     "output_type": "execute_result"
    }
   ],
   "source": [
    "13//2"
   ]
  },
  {
   "cell_type": "code",
   "execution_count": 55,
   "id": "ecb7dadf-96b5-4a5e-8c8c-fb03178598a3",
   "metadata": {},
   "outputs": [],
   "source": [
    "#  ans_4.         ** (exponent operation)  "
   ]
  },
  {
   "cell_type": "code",
   "execution_count": 57,
   "id": "42120a20-8388-4564-88dd-55a6b3d20283",
   "metadata": {},
   "outputs": [
    {
     "data": {
      "text/plain": [
       "8"
      ]
     },
     "execution_count": 57,
     "metadata": {},
     "output_type": "execute_result"
    }
   ],
   "source": [
    "2**3"
   ]
  },
  {
   "cell_type": "markdown",
   "id": "0721007b-57fe-4781-92c1-2f5ec8ccfd02",
   "metadata": {},
   "source": [
    "Q4. Create a list of length 10 of your choice containing multiple types of data. Using for loop print the\n",
    "element and its data type."
   ]
  },
  {
   "cell_type": "code",
   "execution_count": 61,
   "id": "9f9560fd-c131-4ad2-8e43-965cc0c8c3f7",
   "metadata": {},
   "outputs": [],
   "source": [
    "l = [\"abc\", 34, True, 40, \"male\",\"xyz\", 76, False, 10, \"my\"]"
   ]
  },
  {
   "cell_type": "code",
   "execution_count": 63,
   "id": "7dfd2669-30eb-40a7-bd7d-1659d524fd51",
   "metadata": {},
   "outputs": [
    {
     "name": "stdout",
     "output_type": "stream",
     "text": [
      "abc\n",
      "34\n",
      "True\n",
      "40\n",
      "male\n",
      "xyz\n",
      "76\n",
      "False\n",
      "10\n",
      "my\n"
     ]
    }
   ],
   "source": [
    "for i in l :\n",
    "    print(i)"
   ]
  },
  {
   "cell_type": "code",
   "execution_count": 64,
   "id": "2547898c-1af5-4056-beb5-b200d48b34a6",
   "metadata": {},
   "outputs": [
    {
     "name": "stdout",
     "output_type": "stream",
     "text": [
      "<class 'str'>\n",
      "<class 'int'>\n",
      "<class 'bool'>\n",
      "<class 'int'>\n",
      "<class 'str'>\n",
      "<class 'str'>\n",
      "<class 'int'>\n",
      "<class 'bool'>\n",
      "<class 'int'>\n",
      "<class 'str'>\n"
     ]
    }
   ],
   "source": [
    "for i in l :\n",
    "    print(type(i))"
   ]
  },
  {
   "cell_type": "markdown",
   "id": "6b8861e3-4175-41a5-a12e-53951f4bdae1",
   "metadata": {},
   "source": [
    "Q5. Using a while loop, verify if the number A is purely divisible by number B and if so then how many\n",
    "times it can be divisible."
   ]
  },
  {
   "cell_type": "code",
   "execution_count": 78,
   "id": "0225464e-a8e8-4079-b52f-5546e03568d4",
   "metadata": {},
   "outputs": [
    {
     "name": "stdin",
     "output_type": "stream",
     "text": [
      " 8\n"
     ]
    }
   ],
   "source": [
    "x=int (input ())"
   ]
  },
  {
   "cell_type": "code",
   "execution_count": 88,
   "id": "74ad9d94-8ee6-4901-8891-8bb625383a64",
   "metadata": {},
   "outputs": [
    {
     "name": "stdin",
     "output_type": "stream",
     "text": [
      " 3\n"
     ]
    }
   ],
   "source": [
    "y=int (input ())"
   ]
  },
  {
   "cell_type": "code",
   "execution_count": 89,
   "id": "212ec8b7-c454-4066-b782-aab2d21bf8e7",
   "metadata": {},
   "outputs": [
    {
     "name": "stdout",
     "output_type": "stream",
     "text": [
      "x is not divisible by y\n"
     ]
    }
   ],
   "source": [
    "while x%y == 0 :\n",
    "    print('x is divisible by y','and x is divisible by y for',x/y,'times')\n",
    "    break\n",
    "else :\n",
    "    print('x is not divisible by y')"
   ]
  },
  {
   "cell_type": "markdown",
   "id": "a7d11077-94ec-493e-94dc-249f15babeca",
   "metadata": {},
   "source": [
    "Q6. Create a list containing 25 int type data. Using for loop and if-else condition print if the element is\n",
    "divisible by 3 or not."
   ]
  },
  {
   "cell_type": "code",
   "execution_count": 91,
   "id": "6d2a457b-cbfe-42d8-8ab2-a353e6522cb2",
   "metadata": {},
   "outputs": [],
   "source": [
    "L=[1,2,3,4,5,6,7,8,9,10,11,12,13,14,15,16,17,18,19,20,21,22,23,24,25]"
   ]
  },
  {
   "cell_type": "code",
   "execution_count": 92,
   "id": "9f2ebf2c-5c67-461e-8ed7-749cfee1f8b5",
   "metadata": {},
   "outputs": [
    {
     "data": {
      "text/plain": [
       "[1,\n",
       " 2,\n",
       " 3,\n",
       " 4,\n",
       " 5,\n",
       " 6,\n",
       " 7,\n",
       " 8,\n",
       " 9,\n",
       " 10,\n",
       " 11,\n",
       " 12,\n",
       " 13,\n",
       " 14,\n",
       " 15,\n",
       " 16,\n",
       " 17,\n",
       " 18,\n",
       " 19,\n",
       " 20,\n",
       " 21,\n",
       " 22,\n",
       " 23,\n",
       " 24,\n",
       " 25]"
      ]
     },
     "execution_count": 92,
     "metadata": {},
     "output_type": "execute_result"
    }
   ],
   "source": [
    "L"
   ]
  },
  {
   "cell_type": "code",
   "execution_count": 99,
   "id": "964e4977-cf3a-4ffd-916b-e4a23fce22bc",
   "metadata": {},
   "outputs": [
    {
     "name": "stdout",
     "output_type": "stream",
     "text": [
      "not divisible by 3 1\n",
      "not divisible by 3 2\n",
      "is divisible by 3 3\n",
      "not divisible by 3 4\n",
      "not divisible by 3 5\n",
      "is divisible by 3 6\n",
      "not divisible by 3 7\n",
      "not divisible by 3 8\n",
      "is divisible by 3 9\n",
      "not divisible by 3 10\n",
      "not divisible by 3 11\n",
      "is divisible by 3 12\n",
      "not divisible by 3 13\n",
      "not divisible by 3 14\n",
      "is divisible by 3 15\n",
      "not divisible by 3 16\n",
      "not divisible by 3 17\n",
      "is divisible by 3 18\n",
      "not divisible by 3 19\n",
      "not divisible by 3 20\n",
      "is divisible by 3 21\n",
      "not divisible by 3 22\n",
      "not divisible by 3 23\n",
      "is divisible by 3 24\n",
      "not divisible by 3 25\n"
     ]
    }
   ],
   "source": [
    "for i in L :\n",
    "    if i%3==0 :\n",
    "        print('is divisible by 3',i)\n",
    "    else :\n",
    "            print('not divisible by 3',i)"
   ]
  },
  {
   "cell_type": "markdown",
   "id": "5f9cd196-b3bd-476d-baa6-70051a2ea377",
   "metadata": {},
   "source": [
    "Q7. What do you understand about mutable and immutable data types? Give examples for both showing\n",
    "this property."
   ]
  },
  {
   "cell_type": "code",
   "execution_count": 100,
   "id": "e441b276-c6f1-4a4e-8a72-074ff237df20",
   "metadata": {},
   "outputs": [],
   "source": [
    "#Mutable data types in python are those which can be changed, once created but immutable objects are those which cannot be changed, once they are instantiated. Example of mutable data types are list. whereas examples of Immutable datatypes or objects are string."
   ]
  },
  {
   "cell_type": "code",
   "execution_count": 102,
   "id": "4f3310d1-43a6-40be-8e5c-4fcecf0082e0",
   "metadata": {},
   "outputs": [],
   "source": [
    "Li=[456,'yusdftyf','gfsdyhg',56754]                #List is mutable"
   ]
  },
  {
   "cell_type": "code",
   "execution_count": 103,
   "id": "25f6a599-dcbf-403d-ad0f-3c3a14000db1",
   "metadata": {},
   "outputs": [
    {
     "data": {
      "text/plain": [
       "[456, 'yusdftyf', 'gfsdyhg', 56754]"
      ]
     },
     "execution_count": 103,
     "metadata": {},
     "output_type": "execute_result"
    }
   ],
   "source": [
    "Li"
   ]
  },
  {
   "cell_type": "code",
   "execution_count": 104,
   "id": "4cea2fb7-796a-48af-849a-eebb49b1fe08",
   "metadata": {},
   "outputs": [
    {
     "data": {
      "text/plain": [
       "456"
      ]
     },
     "execution_count": 104,
     "metadata": {},
     "output_type": "execute_result"
    }
   ],
   "source": [
    "Li[0]"
   ]
  },
  {
   "cell_type": "code",
   "execution_count": 105,
   "id": "170ff4b4-9695-4e8d-9a27-f17a711c3678",
   "metadata": {},
   "outputs": [],
   "source": [
    "Li[0]=57"
   ]
  },
  {
   "cell_type": "code",
   "execution_count": 106,
   "id": "de18746a-a896-4532-8f83-87be12e92df8",
   "metadata": {},
   "outputs": [
    {
     "data": {
      "text/plain": [
       "[57, 'yusdftyf', 'gfsdyhg', 56754]"
      ]
     },
     "execution_count": 106,
     "metadata": {},
     "output_type": "execute_result"
    }
   ],
   "source": [
    "Li"
   ]
  },
  {
   "cell_type": "code",
   "execution_count": 110,
   "id": "bd863de7-0482-446f-9e98-e1fc1e465eb9",
   "metadata": {},
   "outputs": [],
   "source": [
    "STR = 'feryi'                        #String is immutable"
   ]
  },
  {
   "cell_type": "code",
   "execution_count": 108,
   "id": "379f934e-89d0-48f9-ac59-f37951a16a61",
   "metadata": {},
   "outputs": [
    {
     "data": {
      "text/plain": [
       "'f'"
      ]
     },
     "execution_count": 108,
     "metadata": {},
     "output_type": "execute_result"
    }
   ],
   "source": [
    "STR[0]"
   ]
  },
  {
   "cell_type": "code",
   "execution_count": 109,
   "id": "189c1bb5-3936-4049-9407-e5f715fb2b7c",
   "metadata": {},
   "outputs": [
    {
     "ename": "TypeError",
     "evalue": "'str' object does not support item assignment",
     "output_type": "error",
     "traceback": [
      "\u001b[0;31m---------------------------------------------------------------------------\u001b[0m",
      "\u001b[0;31mTypeError\u001b[0m                                 Traceback (most recent call last)",
      "Cell \u001b[0;32mIn[109], line 1\u001b[0m\n\u001b[0;32m----> 1\u001b[0m \u001b[43mSTR\u001b[49m\u001b[43m[\u001b[49m\u001b[38;5;241;43m0\u001b[39;49m\u001b[43m]\u001b[49m \u001b[38;5;241m=\u001b[39m \u001b[38;5;124m'\u001b[39m\u001b[38;5;124mh\u001b[39m\u001b[38;5;124m'\u001b[39m\n",
      "\u001b[0;31mTypeError\u001b[0m: 'str' object does not support item assignment"
     ]
    }
   ],
   "source": [
    "STR[0] = 'h'"
   ]
  },
  {
   "cell_type": "code",
   "execution_count": null,
   "id": "6dac3820-17a7-43a0-a360-d5e9533c6297",
   "metadata": {},
   "outputs": [],
   "source": []
  }
 ],
 "metadata": {
  "kernelspec": {
   "display_name": "Python 3 (ipykernel)",
   "language": "python",
   "name": "python3"
  },
  "language_info": {
   "codemirror_mode": {
    "name": "ipython",
    "version": 3
   },
   "file_extension": ".py",
   "mimetype": "text/x-python",
   "name": "python",
   "nbconvert_exporter": "python",
   "pygments_lexer": "ipython3",
   "version": "3.10.8"
  }
 },
 "nbformat": 4,
 "nbformat_minor": 5
}
