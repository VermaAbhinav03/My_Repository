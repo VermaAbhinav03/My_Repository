{
 "cells": [
  {
   "cell_type": "markdown",
   "id": "00f54dd1-ac74-444e-8772-8e1249c20a95",
   "metadata": {},
   "source": [
    "Q1. Explain Class and Object with respect to Object-Oriented Programming. Give a suitable example."
   ]
  },
  {
   "cell_type": "markdown",
   "id": "cc04db2b-65dd-4d9b-8a0b-466286876fa6",
   "metadata": {},
   "source": [
    "\n",
    "In Object-Oriented Programming (OOP), a class is a blueprint or a template for creating objects. It defines the attributes (data) and behaviors (methods) that objects of that class will have. A class provides a structure to represent a specific type of object and defines its properties and actions.\n"
   ]
  },
  {
   "cell_type": "code",
   "execution_count": 11,
   "id": "5df8bd60-7dc0-4946-a03d-28f4f281be67",
   "metadata": {},
   "outputs": [
    {
     "name": "stdout",
     "output_type": "stream",
     "text": [
      "Toyota\n",
      "Black\n",
      "Toyota Camry Silver 25000\n",
      "None\n",
      "Honda Accord Black 28000\n",
      "None\n"
     ]
    }
   ],
   "source": [
    "class Car:\n",
    "    def __init__(self, brand, model, color, price):\n",
    "        self.brand = brand\n",
    "        self.model = model\n",
    "        self.color = color\n",
    "        self.price = price\n",
    "    \n",
    "    def car_details(self) :\n",
    "        print(self.brand , self.model , self.color , self.price)\n",
    "\n",
    "\n",
    "car1 = Car(\"Toyota\", \"Camry\", \"Silver\", 25000)\n",
    "car2 = Car(\"Honda\", \"Accord\", \"Black\", 28000)\n",
    "\n",
    "\n",
    "print(car1.brand)  \n",
    "print(car2.color)\n",
    "print(car1.car_details())\n",
    "print(car2.car_details())"
   ]
  },
  {
   "cell_type": "markdown",
   "id": "193b927a-6cf6-4222-b5b6-93fbca17e8c0",
   "metadata": {},
   "source": [
    "Q2. Name the four pillars of OOPs."
   ]
  },
  {
   "cell_type": "markdown",
   "id": "f86277a4-cd5c-4594-99fd-e7f8faf05083",
   "metadata": {},
   "source": [
    "\n",
    "There are four pillers of OOPs are given below :--\n",
    "\n",
    "1.Encapsulation: Encapsulation refers to the bundling of data and methods into a single unit called an object. It allows the object to control access to its internal state, ensuring that data is accessed and modified only through defined methods. Encapsulation helps in achieving data hiding and abstraction.\n",
    "\n",
    "2.Inheritance: Inheritance enables the creation of new classes based on existing classes, allowing the derived classes to inherit the properties and behaviors of the base class. It promotes code reuse and hierarchical organization of classes. The derived classes can add new features or modify existing ones through overriding or extending the inherited methods.\n",
    "\n",
    "3.Polymorphism: Polymorphism allows objects of different classes to be treated as objects of a common superclass. It refers to the ability to present a single interface with multiple implementations. Polymorphism enables the use of a generic interface to work with objects of different types, providing flexibility and extensibility in programming.\n",
    "\n",
    "4.Abstraction: Abstraction involves simplifying complex systems by representing essential features while hiding unnecessary details. It allows the creation of abstract classes or interfaces that define the common structure and behavior without specifying implementation details. Abstraction helps in managing complexity, enhancing modularity, and providing a clear separation between the interface and implementation.\n",
    "\n"
   ]
  },
  {
   "cell_type": "markdown",
   "id": "8238aaa5-9288-4ffb-9be5-20cd77654a08",
   "metadata": {},
   "source": [
    "Q3. Explain why the __init__() function is used. Give a suitable example."
   ]
  },
  {
   "cell_type": "markdown",
   "id": "38f0c0c4-f344-41ae-b40d-4216ebee5918",
   "metadata": {},
   "source": [
    "\n",
    "The __init__() method allows you to define and set the initial values for the object's attributes. It takes the self parameter, which refers to the instance of the object being created, and additional parameters to initialize the object's attributes. Within the __init__() method, you can assign values to the object's attributes based on the provided arguments.\n"
   ]
  },
  {
   "cell_type": "markdown",
   "id": "0bd506a6-57c9-4d7b-a819-874c4e2543a1",
   "metadata": {},
   "source": [
    "\n",
    "Let's consider an example to understand the usage of the __init__() method:\n"
   ]
  },
  {
   "cell_type": "code",
   "execution_count": 12,
   "id": "c9296a4a-fa7a-4bea-8be9-36ea579b90d4",
   "metadata": {},
   "outputs": [
    {
     "name": "stdout",
     "output_type": "stream",
     "text": [
      "Abhinav Verma\n",
      "21\n",
      "Name: Abhinav Verma\n",
      "Age: 21\n"
     ]
    }
   ],
   "source": [
    "class Person:\n",
    "    def __init__(self, name, age):\n",
    "        self.name = name\n",
    "        self.age = age\n",
    "\n",
    "    def display_info(self):\n",
    "        print(f\"Name: {self.name}\")\n",
    "        print(f\"Age: {self.age}\")\n",
    "\n",
    "person1 = Person(\"Abhinav Verma\", 21)\n",
    "\n",
    "\n",
    "print(person1.name) \n",
    "print(person1.age)   \n",
    "\n",
    "\n",
    "person1.display_info()\n"
   ]
  },
  {
   "cell_type": "markdown",
   "id": "9dfe746d-2e30-40ec-8da0-9dcb3344e2e7",
   "metadata": {},
   "source": [
    "\n",
    "Q4. Why self is used in OOPs?\n"
   ]
  },
  {
   "cell_type": "markdown",
   "id": "d150c848-a4bd-4f20-8a07-c1cc5ecf05fb",
   "metadata": {},
   "source": [
    "\n",
    "In Object-Oriented Programming (OOP), the self keyword is used as a reference to the current instance of a class. It acts as a placeholder that allows us to access the attributes and methods of an object within its own class.\n",
    "\n",
    "When a class is defined, it serves as a blueprint for creating objects. However, when we want to access or manipulate the attributes or methods of an object, we need a way to refer to that specific instance of the class. This is where the self keyword comes into play.\n",
    "\n",
    "Here's an example to illustrate the usage of self:"
   ]
  },
  {
   "cell_type": "code",
   "execution_count": 13,
   "id": "e7bc8165-1584-470b-aef0-f7602d0f0b4b",
   "metadata": {},
   "outputs": [
    {
     "name": "stdout",
     "output_type": "stream",
     "text": [
      "5\n",
      "78.5\n"
     ]
    }
   ],
   "source": [
    "class Circle:\n",
    "    def __init__(self, radius):\n",
    "        self.radius = radius\n",
    "\n",
    "    def calculate_area(self):\n",
    "        area = 3.14 * self.radius * self.radius\n",
    "        return area\n",
    "\n",
    "circle = Circle(5)\n",
    "\n",
    "\n",
    "print(circle.radius)\n",
    "\n",
    "area = circle.calculate_area()\n",
    "print(area)  "
   ]
  },
  {
   "cell_type": "markdown",
   "id": "b510cf1c-2df8-45c5-80ac-bbb890bf0e79",
   "metadata": {},
   "source": [
    "\n",
    "Q5. What is inheritance? Give an example for each type of inheritance.\n"
   ]
  },
  {
   "cell_type": "markdown",
   "id": "3e976e19-c3a6-44a4-b4b4-76c66fcd4b9a",
   "metadata": {},
   "source": [
    "\n",
    "Inheritance is a fundamental concept in Object-Oriented Programming (OOP) that allows new classes to be created based on existing classes. It enables the creation of a hierarchy of classes, where derived classes inherit the properties and behaviors of a base class. Inheritance promotes code reuse, modularity, and the concept of \"is-a\" relationship.\n"
   ]
  },
  {
   "cell_type": "markdown",
   "id": "f5a33938-b75b-454c-aa5c-d37d9ab1fda9",
   "metadata": {},
   "source": [
    "\n",
    "There are several types of inheritance in OOP:\n",
    "    "
   ]
  },
  {
   "cell_type": "markdown",
   "id": "e9c9c1f6-b9a0-41fa-ad08-a2f1e61fbf28",
   "metadata": {},
   "source": [
    "\n",
    "1.Single Inheritance: Single inheritance involves one class inheriting from a single base class. \n"
   ]
  },
  {
   "cell_type": "code",
   "execution_count": 14,
   "id": "0f0c77a7-aaca-4d43-b82a-35281435be22",
   "metadata": {},
   "outputs": [
    {
     "name": "stdout",
     "output_type": "stream",
     "text": [
      "Driving the vehicle.\n",
      "Accelerating the car.\n"
     ]
    }
   ],
   "source": [
    "class Vehicle:\n",
    "    def drive(self):\n",
    "        print(\"Driving the vehicle.\")\n",
    "\n",
    "class Car(Vehicle):\n",
    "    def accelerate(self):\n",
    "        print(\"Accelerating the car.\")\n",
    "\n",
    "\n",
    "car = Car()\n",
    "\n",
    "\n",
    "car.drive()     \n",
    "car.accelerate()  \n"
   ]
  },
  {
   "cell_type": "markdown",
   "id": "5e5219c8-fde6-49a4-bc60-ff66254d250b",
   "metadata": {},
   "source": [
    "\n",
    "2.Multiple Inheritance: Multiple inheritance involves a class inheriting from multiple base classes. \n"
   ]
  },
  {
   "cell_type": "code",
   "execution_count": 15,
   "id": "3e48a007-e339-438c-afb4-00e4cb02ffe2",
   "metadata": {},
   "outputs": [
    {
     "name": "stdout",
     "output_type": "stream",
     "text": [
      "Flying like a bird.\n",
      "Running like a mammal.\n",
      "Feeding like a bat.\n"
     ]
    }
   ],
   "source": [
    "class Bird:\n",
    "    def fly(self):\n",
    "        print(\"Flying like a bird.\")\n",
    "\n",
    "class Mammal:\n",
    "    def run(self):\n",
    "        print(\"Running like a mammal.\")\n",
    "\n",
    "class Bat(Bird, Mammal):\n",
    "    def feed(self):\n",
    "        print(\"Feeding like a bat.\")\n",
    "\n",
    "bat = Bat()\n",
    "\n",
    "\n",
    "bat.fly()   \n",
    "bat.run()   \n",
    "bat.feed()  \n"
   ]
  },
  {
   "cell_type": "markdown",
   "id": "d28d7094-0db6-4898-8016-99b4d8d5cf57",
   "metadata": {},
   "source": [
    "\n",
    "3.Multilevel Inheritance: Multilevel inheritance involves a class deriving from another derived class, creating a hierarchy of classes.\n"
   ]
  },
  {
   "cell_type": "code",
   "execution_count": 16,
   "id": "c8f39da6-581e-429a-a373-987e7f9aeb1c",
   "metadata": {},
   "outputs": [
    {
     "name": "stdout",
     "output_type": "stream",
     "text": [
      "Breathing as an animal.\n",
      "Crawling as a reptile.\n",
      "Slithering like a snake.\n"
     ]
    }
   ],
   "source": [
    "class Animal:\n",
    "    def breathe(self):\n",
    "        print(\"Breathing as an animal.\")\n",
    "\n",
    "class Reptile(Animal):\n",
    "    def crawl(self):\n",
    "        print(\"Crawling as a reptile.\")\n",
    "\n",
    "class Snake(Reptile):\n",
    "    def slither(self):\n",
    "        print(\"Slithering like a snake.\")\n",
    "\n",
    "snake = Snake()\n",
    "\n",
    "\n",
    "snake.breathe()\n",
    "snake.crawl()   \n",
    "snake.slither() \n"
   ]
  }
 ],
 "metadata": {
  "kernelspec": {
   "display_name": "Python 3 (ipykernel)",
   "language": "python",
   "name": "python3"
  },
  "language_info": {
   "codemirror_mode": {
    "name": "ipython",
    "version": 3
   },
   "file_extension": ".py",
   "mimetype": "text/x-python",
   "name": "python",
   "nbconvert_exporter": "python",
   "pygments_lexer": "ipython3",
   "version": "3.10.8"
  }
 },
 "nbformat": 4,
 "nbformat_minor": 5
}
