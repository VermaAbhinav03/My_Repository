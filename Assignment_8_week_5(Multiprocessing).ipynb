{
 "cells": [
  {
   "cell_type": "markdown",
   "id": "ab05d5fd-b957-44de-ae50-65fcee2132b8",
   "metadata": {},
   "source": [
    "Q1. What is multiprocessing in python? Why is it useful? \n",
    "\n"
   ]
  },
  {
   "cell_type": "markdown",
   "id": "ee1dd453-4cae-43a1-b53a-b744fb6eda67",
   "metadata": {},
   "source": [
    "Multiprocessing in Python refers to the capability of running multiple processes simultaneously, utilizing multiple CPU cores or processors. It allows parallel execution of code, enabling the execution of multiple tasks concurrently rather than sequentially.\n",
    "\n",
    "The multiprocessing module in Python provides a way to create and manage processes, allowing for parallelism and improved performance in certain scenarios. Here are some reasons why multiprocessing is useful:\n",
    "\n",
    "1.Increased performance: By leveraging multiple processors or CPU cores, multiprocessing can significantly enhance the performance of computationally intensive tasks. It allows the execution of multiple tasks simultaneously, reducing overall processing time.\n",
    "\n",
    "2.Parallelism: Multiprocessing enables the execution of multiple independent tasks concurrently. This is particularly beneficial when dealing with tasks that can be divided into smaller subtasks that can be executed independently.\n",
    "\n",
    "3.Utilization of multiple CPU cores: With the proliferation of multi-core processors, multiprocessing allows Python programs to make full use of the available resources. It enables efficient utilization of all the CPU cores, resulting in faster execution.\n",
    "\n",
    "4.Improved responsiveness: When performing CPU-bound tasks, such as heavy calculations or data processing, using multiprocessing prevents the application from becoming unresponsive or freezing. By distributing the workload across multiple processes, the main program can remain responsive and handle user interactions.\n",
    "\n",
    "5.Isolation and fault tolerance: Each process in multiprocessing operates in its own memory space, providing isolation. If one process encounters an error or crashes, it does not affect other processes, ensuring fault tolerance."
   ]
  },
  {
   "cell_type": "markdown",
   "id": "c9fe5730-8b46-4adf-bb1a-2389d9cfb7d9",
   "metadata": {},
   "source": [
    "Q2. What are the differences between multiprocessing and multithreading?"
   ]
  },
  {
   "cell_type": "markdown",
   "id": "1ba4e340-8e5b-4e96-bc81-ca81dbedb321",
   "metadata": {},
   "source": [
    "Difference between Multiprocessing and Multithreading:"
   ]
  },
  {
   "cell_type": "markdown",
   "id": "837d35d4-4a5b-4cf9-85ea-db1c0ca1eab3",
   "metadata": {},
   "source": [
    "1.In Multiprocessing, CPUs are added for increasing computing power While In Multithreading, many threads are created of a single process for increasing computing     power.\n",
    "2.In Multiprocessing, Many processes are executed simultaneously While in multithreading, many threads of a process are executed simultaneously.\n",
    "3.Multiprocessing are classified into Symmetric and Asymmetric While Multithreading is not classified in any categories.\n",
    "4.In Multiprocessing, Process creation is a time-consuming process While in Multithreading, process creation is according to economical.\n",
    "5.In Multiprocessing, every process owned a separate address space While in Multithreading, a common address space is shared by all the threads."
   ]
  },
  {
   "cell_type": "markdown",
   "id": "7b08c16b-7697-4c79-96b7-662e6567b334",
   "metadata": {},
   "source": [
    "Q3. Write a python code to create a process using the multiprocessing module."
   ]
  },
  {
   "cell_type": "code",
   "execution_count": 2,
   "id": "81540296-52dc-4483-b216-78672aaf47e4",
   "metadata": {},
   "outputs": [
    {
     "name": "stdout",
     "output_type": "stream",
     "text": [
      "Worker process started\n",
      "Worker process finished\n",
      "Main process finished\n"
     ]
    }
   ],
   "source": [
    "import multiprocessing\n",
    "\n",
    "def worker():\n",
    "   \n",
    "    print(\"Worker process started\")\n",
    "    print(\"Worker process finished\")\n",
    "\n",
    "if __name__ == \"__main__\":\n",
    "    \n",
    "    process = multiprocessing.Process(target=worker)\n",
    "\n",
    "    process.start()\n",
    "    process.join()\n",
    "\n",
    "    print(\"Main process finished\")\n"
   ]
  },
  {
   "cell_type": "markdown",
   "id": "97c24528-64f8-4102-bc5b-6d7bf21b0010",
   "metadata": {},
   "source": [
    "Q4. What is a multiprocessing pool in python? Why is it used?"
   ]
  },
  {
   "cell_type": "markdown",
   "id": "9b4080e7-e4f9-4d7d-a63b-996747c786d6",
   "metadata": {},
   "source": [
    "A multiprocessing pool in Python, specifically the multiprocessing.Pool class, is a built-in feature of the multiprocessing module that provides a convenient way to parallelize the execution of multiple tasks across a specified number of worker processes.\n",
    "\n",
    "A pool is a collection of worker processes that can be used to execute tasks concurrently. The main advantage of using a pool is that it abstracts away the process management details, allowing you to focus on dividing the work and processing the results.\n",
    "\n",
    "Here's an overview of how a multiprocessing pool works:\n",
    "\n",
    "1.You create a pool object by instantiating the multiprocessing.Pool class and specifying the desired number of worker processes (usually based on the number of available CPU cores).\n",
    "\n",
    "2.You submit tasks to the pool using one of the methods provided by the pool object (apply, map, imap, etc.). These methods distribute the tasks among the worker processes in the pool.\n",
    "\n",
    "3.The worker processes execute the tasks in parallel. Each worker pulls a task from the pool, executes it, and returns the result (if any).\n",
    "\n",
    "4.The main process can then collect the results from the worker processes and continue its execution.\n",
    "\n",
    "The multiprocessing pool is used for parallelizing CPU-bound or I/O-bound tasks across multiple processes, which can lead to significant performance improvements. It allows you to distribute the workload among multiple processes and take advantage of the available CPU cores. By using a pool, you can avoid the complexities of managing individual processes and focus on dividing the tasks and processing the results.\n",
    "\n",
    "The multiprocessing.Pool class provides various methods for submitting tasks, such as apply (for a single task), map (for mapping tasks to inputs), and imap (for mapping tasks asynchronously). These methods handle the task distribution and result collection, making it easier to parallelize your code and take advantage of multiprocessing capabilities."
   ]
  },
  {
   "cell_type": "markdown",
   "id": "c5dc41eb-ac03-450a-b89f-2fe1378f69fc",
   "metadata": {},
   "source": [
    "Q5. How can we create a pool of worker processes in python using the multiprocessing module?"
   ]
  },
  {
   "cell_type": "markdown",
   "id": "9c15b544-3dca-483f-b2b6-e4c0f115f270",
   "metadata": {},
   "source": [
    "To create a pool of worker processes in Python using the multiprocessing module, you can follow these steps:\n",
    "\n",
    "1.Import the multiprocessing module:"
   ]
  },
  {
   "cell_type": "code",
   "execution_count": 10,
   "id": "8c7a486a-1237-4fc6-874a-da21033e2591",
   "metadata": {},
   "outputs": [],
   "source": [
    "import multiprocessing\n"
   ]
  },
  {
   "cell_type": "markdown",
   "id": "3c52bc0a-e0e7-49a4-b0f2-14d28bbd1775",
   "metadata": {},
   "source": [
    "2.Determine the number of worker processes you want to create. This is typically based on the number of available CPU cores. You can use multiprocessing.cpu_count() to get the number of available cores:"
   ]
  },
  {
   "cell_type": "code",
   "execution_count": 11,
   "id": "7084e138-8afb-4dc3-a3fc-fedf4fa4e7fb",
   "metadata": {},
   "outputs": [],
   "source": [
    "num_processes = multiprocessing.cpu_count()"
   ]
  },
  {
   "cell_type": "markdown",
   "id": "7ae53b33-fdbd-4981-ae09-919802adc5a7",
   "metadata": {},
   "source": [
    "3.Create a Pool object by instantiating the multiprocessing.Pool class and specifying the desired number of worker processes:"
   ]
  },
  {
   "cell_type": "code",
   "execution_count": 12,
   "id": "bc15b937-aa87-4a12-a2c9-56f60c96e21e",
   "metadata": {},
   "outputs": [],
   "source": [
    "pool = multiprocessing.Pool(processes=num_processes)"
   ]
  },
  {
   "cell_type": "markdown",
   "id": "42658c80-7979-4919-9f00-b131ad654ebc",
   "metadata": {},
   "source": [
    "4.Once you have the Pool object, you can submit tasks to it using one of the available methods. Here are a few common methods:\n",
    "\n",
    "apply: Submit a single task to the pool. It blocks until the          task completes and returns the result.\n",
    "map: Submit multiple tasks to the pool and get the results as \n",
    "     a list. It blocks until all tasks complete.\n",
    "imap: Submit multiple tasks to the pool and get the results         asynchronously as an iterator.\n",
    "Here's an example using the map method:"
   ]
  },
  {
   "cell_type": "code",
   "execution_count": null,
   "id": "733170da-1315-4995-a7c3-401137b45a5b",
   "metadata": {},
   "outputs": [],
   "source": [
    "def worker(task):\n",
    "    \"\"\"Function to be executed by the worker process\"\"\"\n",
    "    # Perform some task\n",
    "    result = task * 2\n",
    "    return result\n",
    "\n",
    "# Define the tasks\n",
    "tasks = [1, 2, 3, 4, 5]\n",
    "\n",
    "# Submit the tasks to the pool using the map method\n",
    "results = pool.map(worker, tasks)\n",
    "\n",
    "# Print the results\n",
    "print(results)\n"
   ]
  },
  {
   "cell_type": "markdown",
   "id": "c3aa2784-a114-4a7e-b946-67aafb6fbc02",
   "metadata": {},
   "source": [
    "In this example, we define a worker function that takes a task as input and performs some computation on it. We create a list of tasks, and then use the map method of the pool to submit the tasks to the worker processes. The map method returns the results as a list, which we print at the end.\n",
    "\n",
    "Remember to call the close() method of the Pool object to prevent any more tasks from being submitted, and then call the join() method to wait for all the tasks to complete before proceeding with the rest of your code:"
   ]
  },
  {
   "cell_type": "code",
   "execution_count": 13,
   "id": "a20e7c35-f635-4951-9baa-fea328fcbc5c",
   "metadata": {},
   "outputs": [],
   "source": [
    "pool.close()\n",
    "pool.join()"
   ]
  },
  {
   "cell_type": "markdown",
   "id": "1efc7f33-f140-4411-a8cf-04c45ee53b59",
   "metadata": {},
   "source": [
    "These steps allow you to create a pool of worker processes and efficiently distribute tasks across them for parallel execution."
   ]
  },
  {
   "cell_type": "markdown",
   "id": "98c1a0c8-92ce-49ca-b292-ba12e1d44496",
   "metadata": {},
   "source": [
    "Q6. Write a python program to create 4 processes, each process should print a different number using the \n",
    "multiprocessing module in python."
   ]
  },
  {
   "cell_type": "markdown",
   "id": "f819277a-a173-49d8-8559-a0a3c2b1446a",
   "metadata": {},
   "source": [
    " Here's a Python program that creates four processes using the multiprocessing module, and each process prints a different number:"
   ]
  },
  {
   "cell_type": "code",
   "execution_count": 14,
   "id": "95064827-3b58-4df7-9b46-0a6831b53e80",
   "metadata": {},
   "outputs": [
    {
     "name": "stdout",
     "output_type": "stream",
     "text": [
      "Process Process-135Process  printsProcess-136  1printsProcess\n",
      "  2\n",
      "Process-137 printsProcess  3Process-138\n",
      " prints 4\n",
      "All processes finished\n"
     ]
    }
   ],
   "source": [
    "import multiprocessing\n",
    "\n",
    "def print_number(num):\n",
    "    \"\"\"Function to print a number\"\"\"\n",
    "    print(\"Process\", multiprocessing.current_process().name, \"prints\", num)\n",
    "\n",
    "if __name__ == \"__main__\":\n",
    "    # Create a list of numbers\n",
    "    numbers = [1, 2, 3, 4]\n",
    "\n",
    "    # Create a process for each number\n",
    "    processes = []\n",
    "    for num in numbers:\n",
    "        process = multiprocessing.Process(target=print_number, args=(num,))\n",
    "        processes.append(process)\n",
    "        process.start()\n",
    "\n",
    "    # Wait for all processes to finish\n",
    "    for process in processes:\n",
    "        process.join()\n",
    "\n",
    "    print(\"All processes finished\")\n"
   ]
  },
  {
   "cell_type": "markdown",
   "id": "ef9c35df-ceac-45c8-ad9f-b12e03828c24",
   "metadata": {},
   "source": [
    "In this example, we define the print_number function, which takes a number as an argument and prints it along with the name of the process that is executing it.\n",
    "\n",
    "In the if __name__ == \"__main__\": block, we create a list of numbers [1, 2, 3, 4]. Then, for each number, we create a separate process using the multiprocessing.Process class. We pass the print_number function as the target function for each process, along with the corresponding number as an argument.\n",
    "\n",
    "We start each process using the start() method, and then wait for all processes to finish using the join() method in a loop.\n",
    "\n",
    "When you run this program, you will see that each process prints a different number along with its process name. The execution order of the processes may vary, as they run in parallel. Finally, the main process will print \"All processes finished\" once all the child processes have completed."
   ]
  }
 ],
 "metadata": {
  "kernelspec": {
   "display_name": "Python 3 (ipykernel)",
   "language": "python",
   "name": "python3"
  },
  "language_info": {
   "codemirror_mode": {
    "name": "ipython",
    "version": 3
   },
   "file_extension": ".py",
   "mimetype": "text/x-python",
   "name": "python",
   "nbconvert_exporter": "python",
   "pygments_lexer": "ipython3",
   "version": "3.10.8"
  }
 },
 "nbformat": 4,
 "nbformat_minor": 5
}
