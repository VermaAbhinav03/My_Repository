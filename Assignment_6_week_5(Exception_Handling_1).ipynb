{
 "cells": [
  {
   "cell_type": "markdown",
   "id": "cd65d6aa-e8c0-4b36-97f2-249cac382d72",
   "metadata": {},
   "source": [
    "Q1. What is exceptions in python? Write the difference between exceptions and syntax errors."
   ]
  },
  {
   "cell_type": "markdown",
   "id": "58d58506-3753-4d69-97f8-9b69a07c7475",
   "metadata": {},
   "source": [
    "exceptions in python:--\n",
    "                        In Python, exceptions disrupt the normal flow of the program. When an exceptional condition arises, Python raises an exception, which is an object representing the error. This allows you to handle the error gracefully and take appropriate actions.\n",
    "Exceptions can occur for various reasons, such as invalid user input, file not found, division by zero, and so on.\n",
    "\n",
    "\n",
    "Syntax errors:--\n",
    "                Syntax errors, on the other hand, are errors that occur due to violations of the Python syntax rules.\n",
    "\n",
    "Syntax errors indicate that there is something wrong with the structure or grammar of your code. Common examples of syntax errors include missing parentheses, mismatched quotes, and invalid variable names.\n",
    "\n",
    "\n",
    "\n",
    "Difference between exceptions and syntax errors:-->\n",
    "                                                \n",
    "                                                \n",
    "1.Detection: Syntax errors are detected by the Python interpreter during the parsing phase, while exceptions are raised during the execution of the program.\n",
    "\n",
    "2.Timing: Syntax errors prevent the program from running at all, whereas exceptions occur while the program is running and can be caught and handled.\n",
    "\n",
    "3.Cause: Syntax errors are typically caused by violations of the Python syntax rules, while exceptions are raised when exceptional conditions occur during program execution.\n",
    "\n",
    "4.Handling: Syntax errors need to be fixed by correcting the code, whereas exceptions can be handled using try-except blocks to catch the exception and perform appropriate actions."
   ]
  },
  {
   "cell_type": "markdown",
   "id": "5bd71c3e-53a4-4487-ae43-35504c12b407",
   "metadata": {},
   "source": [
    "\n",
    "\n",
    "Q2. What happens when an exceptions is not handled? Explain with an example.\n",
    "\n"
   ]
  },
  {
   "cell_type": "markdown",
   "id": "9a496f76-736d-4eef-b4cb-be285e0493a6",
   "metadata": {},
   "source": [
    "When an exception is not handled, it leads to an unhandled exception error, and the program terminates means normal flow of the program is disrupted, and any subsequent code after the unhandled exception is not executed.\n",
    "\n",
    "Example:-->\n"
   ]
  },
  {
   "cell_type": "code",
   "execution_count": 3,
   "id": "9534c617-4bc5-4503-b4ad-a6aa0c8c1104",
   "metadata": {},
   "outputs": [
    {
     "ename": "ZeroDivisionError",
     "evalue": "division by zero",
     "output_type": "error",
     "traceback": [
      "\u001b[0;31m---------------------------------------------------------------------------\u001b[0m",
      "\u001b[0;31mZeroDivisionError\u001b[0m                         Traceback (most recent call last)",
      "Cell \u001b[0;32mIn[3], line 2\u001b[0m\n\u001b[1;32m      1\u001b[0m a \u001b[38;5;241m=\u001b[39m \u001b[38;5;241m101\u001b[39m\n\u001b[0;32m----> 2\u001b[0m \u001b[43ma\u001b[49m\u001b[38;5;241;43m/\u001b[39;49m\u001b[38;5;241;43m0\u001b[39;49m\n\u001b[1;32m      3\u001b[0m \u001b[38;5;28mprint\u001b[39m(\u001b[38;5;124m\"\u001b[39m\u001b[38;5;124merror\u001b[39m\u001b[38;5;124m\"\u001b[39m)\n",
      "\u001b[0;31mZeroDivisionError\u001b[0m: division by zero"
     ]
    }
   ],
   "source": [
    "a = 101\n",
    "a/0\n",
    "print(\"error\")"
   ]
  },
  {
   "cell_type": "markdown",
   "id": "e5491636-b185-4099-9d8f-be4e3627dab3",
   "metadata": {},
   "source": [
    "It gives the Zero Division Errror and print operation after it cann't be run."
   ]
  },
  {
   "cell_type": "markdown",
   "id": "67f9e8c9-589d-4c58-ad25-974b4e052034",
   "metadata": {},
   "source": [
    "Q3. Which python statements are used to catch and handle exceptions? Explain with an example."
   ]
  },
  {
   "cell_type": "markdown",
   "id": "1436adc8-1841-49ec-b065-1fe4186405c8",
   "metadata": {},
   "source": [
    "In Python, the try and except statements are used to catch and handle exceptions. The try block is used to enclose the code that might raise an exception, and the except block is used to specify the code that should be executed when a specific exception occurs."
   ]
  },
  {
   "cell_type": "code",
   "execution_count": 9,
   "id": "0f92b373-7e8d-4f93-beca-a3082a41c047",
   "metadata": {},
   "outputs": [
    {
     "name": "stdout",
     "output_type": "stream",
     "text": [
      "Cannot divide by zero.\n"
     ]
    }
   ],
   "source": [
    "try:\n",
    "    num1 = 7\n",
    "    num2 = 0\n",
    "    print(\"The division result is:\",  num1 / num2)\n",
    "except ZeroDivisionError:\n",
    "    print(\"Cannot divide by zero.\")"
   ]
  },
  {
   "cell_type": "markdown",
   "id": "7b29f158-9eb6-4470-bc37-d5a650a76280",
   "metadata": {},
   "source": [
    "Q4. Explain with an example:-\n",
    "a. try and else\n",
    "b. finally\n",
    "c. raise"
   ]
  },
  {
   "cell_type": "markdown",
   "id": "ead82cd1-5705-40bd-b677-9e182b90f012",
   "metadata": {},
   "source": [
    "Ans (a).  The try and else blocks are used together in Python to handle exceptions. The try block is used to enclose the code that might raise an exception, and the else block is executed if no exception occurs within the try block"
   ]
  },
  {
   "cell_type": "code",
   "execution_count": 1,
   "id": "66b566b7-2c82-4dc4-a986-418473ec47c3",
   "metadata": {},
   "outputs": [
    {
     "name": "stdout",
     "output_type": "stream",
     "text": [
      "this is my except block [Errno 2] No such file or directory: 'text.txt'\n"
     ]
    },
    {
     "data": {
      "text/plain": [
       "9"
      ]
     },
     "execution_count": 1,
     "metadata": {},
     "output_type": "execute_result"
    }
   ],
   "source": [
    "try :\n",
    "    f = open(\"text.txt\" , 'r')\n",
    "except Exception as e :\n",
    "    print(\"this is my except block\" , e)\n",
    "a = 4+5\n",
    "a"
   ]
  },
  {
   "cell_type": "markdown",
   "id": "50169b19-e48f-45c1-8a98-c3532880b0df",
   "metadata": {},
   "source": [
    "Ans (b). The finally block is used in conjunction with try-except blocks to specify code that must be executed regardless of whether an exception occurred or not."
   ]
  },
  {
   "cell_type": "code",
   "execution_count": 2,
   "id": "168f3759-b05d-4d0e-96cb-4a75a0f4a1ee",
   "metadata": {},
   "outputs": [
    {
     "name": "stdout",
     "output_type": "stream",
     "text": [
      "this is will be executed once your try will execute without error\n"
     ]
    },
    {
     "ename": "FileNotFoundError",
     "evalue": "[Errno 2] No such file or directory: 'text.txt'",
     "output_type": "error",
     "traceback": [
      "\u001b[0;31m---------------------------------------------------------------------------\u001b[0m",
      "\u001b[0;31mFileNotFoundError\u001b[0m                         Traceback (most recent call last)",
      "Cell \u001b[0;32mIn[2], line 2\u001b[0m\n\u001b[1;32m      1\u001b[0m \u001b[38;5;28;01mtry\u001b[39;00m :\n\u001b[0;32m----> 2\u001b[0m     f \u001b[38;5;241m=\u001b[39m \u001b[38;5;28;43mopen\u001b[39;49m\u001b[43m(\u001b[49m\u001b[38;5;124;43m\"\u001b[39;49m\u001b[38;5;124;43mtext.txt\u001b[39;49m\u001b[38;5;124;43m\"\u001b[39;49m\u001b[43m \u001b[49m\u001b[43m,\u001b[49m\u001b[43m \u001b[49m\u001b[38;5;124;43m'\u001b[39;49m\u001b[38;5;124;43mr\u001b[39;49m\u001b[38;5;124;43m'\u001b[39;49m\u001b[43m)\u001b[49m\n\u001b[1;32m      3\u001b[0m     f\u001b[38;5;241m.\u001b[39mwrite(\u001b[38;5;124m\"\u001b[39m\u001b[38;5;124mwrite anything in my file\u001b[39m\u001b[38;5;124m\"\u001b[39m)\n\u001b[1;32m      4\u001b[0m     f\u001b[38;5;241m.\u001b[39mclose()\n",
      "File \u001b[0;32m/opt/conda/lib/python3.10/site-packages/IPython/core/interactiveshell.py:282\u001b[0m, in \u001b[0;36m_modified_open\u001b[0;34m(file, *args, **kwargs)\u001b[0m\n\u001b[1;32m    275\u001b[0m \u001b[38;5;28;01mif\u001b[39;00m file \u001b[38;5;129;01min\u001b[39;00m {\u001b[38;5;241m0\u001b[39m, \u001b[38;5;241m1\u001b[39m, \u001b[38;5;241m2\u001b[39m}:\n\u001b[1;32m    276\u001b[0m     \u001b[38;5;28;01mraise\u001b[39;00m \u001b[38;5;167;01mValueError\u001b[39;00m(\n\u001b[1;32m    277\u001b[0m         \u001b[38;5;124mf\u001b[39m\u001b[38;5;124m\"\u001b[39m\u001b[38;5;124mIPython won\u001b[39m\u001b[38;5;124m'\u001b[39m\u001b[38;5;124mt let you open fd=\u001b[39m\u001b[38;5;132;01m{\u001b[39;00mfile\u001b[38;5;132;01m}\u001b[39;00m\u001b[38;5;124m by default \u001b[39m\u001b[38;5;124m\"\u001b[39m\n\u001b[1;32m    278\u001b[0m         \u001b[38;5;124m\"\u001b[39m\u001b[38;5;124mas it is likely to crash IPython. If you know what you are doing, \u001b[39m\u001b[38;5;124m\"\u001b[39m\n\u001b[1;32m    279\u001b[0m         \u001b[38;5;124m\"\u001b[39m\u001b[38;5;124myou can use builtins\u001b[39m\u001b[38;5;124m'\u001b[39m\u001b[38;5;124m open.\u001b[39m\u001b[38;5;124m\"\u001b[39m\n\u001b[1;32m    280\u001b[0m     )\n\u001b[0;32m--> 282\u001b[0m \u001b[38;5;28;01mreturn\u001b[39;00m \u001b[43mio_open\u001b[49m\u001b[43m(\u001b[49m\u001b[43mfile\u001b[49m\u001b[43m,\u001b[49m\u001b[43m \u001b[49m\u001b[38;5;241;43m*\u001b[39;49m\u001b[43margs\u001b[49m\u001b[43m,\u001b[49m\u001b[43m \u001b[49m\u001b[38;5;241;43m*\u001b[39;49m\u001b[38;5;241;43m*\u001b[39;49m\u001b[43mkwargs\u001b[49m\u001b[43m)\u001b[49m\n",
      "\u001b[0;31mFileNotFoundError\u001b[0m: [Errno 2] No such file or directory: 'text.txt'"
     ]
    }
   ],
   "source": [
    "try :\n",
    "    f = open(\"text.txt\" , 'r')\n",
    "    f.write(\"write anything in my file\")\n",
    "    f.close()\n",
    "finally:\n",
    "    print(\"this is will be executed once your try will execute without error\")\n",
    "    "
   ]
  },
  {
   "cell_type": "markdown",
   "id": "9e0da247-e5ae-48ea-b5bd-ab0f1de10ab7",
   "metadata": {},
   "source": [
    "Ans (c).  The raise statement is used to explicitly raise an exception in Python. It allows you to generate exceptions and customize the exception flow within your program. "
   ]
  },
  {
   "cell_type": "code",
   "execution_count": 4,
   "id": "a12d5b52-418f-4784-b56c-1d1cf4097249",
   "metadata": {},
   "outputs": [
    {
     "name": "stdin",
     "output_type": "stream",
     "text": [
      "Enter your age:  121\n"
     ]
    },
    {
     "name": "stdout",
     "output_type": "stream",
     "text": [
      "Error: Invalid age. Please enter a realistic value.\n"
     ]
    }
   ],
   "source": [
    "def validate_age(age):\n",
    "    if age < 0:\n",
    "        raise ValueError(\"Age cannot be negative.\")\n",
    "    if age > 120:\n",
    "        raise ValueError(\"Invalid age. Please enter a realistic value.\")\n",
    "\n",
    "try:\n",
    "    user_age = int(input(\"Enter your age: \"))\n",
    "    validate_age(user_age)\n",
    "    print(\"Valid age entered.\")\n",
    "except ValueError as e:\n",
    "    print(\"Error:\", str(e))\n"
   ]
  },
  {
   "cell_type": "markdown",
   "id": "031055d9-7324-47eb-9180-494ee79b5626",
   "metadata": {},
   "source": [
    "Q5. What are Custom Exceptions in python? Why do we need Custom Exceptions? Explain with \n",
    "an example."
   ]
  },
  {
   "cell_type": "markdown",
   "id": "d30b8c80-43bf-41e9-b1f4-fc4e36f7991b",
   "metadata": {},
   "source": [
    "In Python, custom exceptions are user-defined exceptions that allow you to create your own exception classes. These exception classes inherit from the built-in Exception class or any of its subclasses. By creating custom exceptions, you can define specific exceptional conditions that are relevant to your program and handle them differently from the built-in exceptions.\n",
    "\n",
    "There are several reasons why we may need custom exceptions:------\n",
    "1.Specific Error Handling: Custom exceptions allow you to differentiate between different exceptional situations and handle them in a specific manner. \n",
    "2.Readability and Maintainability: Custom exceptions can make your code more readable and maintainable. \n",
    "3.Code Organization and Modularity: Custom exceptions can help in organizing and modularizing your code. "
   ]
  },
  {
   "cell_type": "markdown",
   "id": "adbe908b-61f1-4f05-aaab-9cb7a18775d7",
   "metadata": {},
   "source": [
    "For example we can consider the Q6 in which we have created a custom exception through class and used it into atry and except block."
   ]
  },
  {
   "cell_type": "markdown",
   "id": "3acadc0a-24ea-47e3-a928-6d0097170881",
   "metadata": {},
   "source": [
    "Q6. Create a custom exception class. Use this class to handle an exception."
   ]
  },
  {
   "cell_type": "code",
   "execution_count": 4,
   "id": "48838403-094d-483d-af72-1f8369058485",
   "metadata": {},
   "outputs": [
    {
     "name": "stdin",
     "output_type": "stream",
     "text": [
      "Enter a number:  12\n"
     ]
    },
    {
     "name": "stdout",
     "output_type": "stream",
     "text": [
      "Exception occurred: Invalid Age\n"
     ]
    }
   ],
   "source": [
    "class InvalidAgeException(Exception):\n",
    "    \"Raised when the input value is less than 18\"\n",
    "    pass\n",
    "\n",
    "try:\n",
    "    input_num = int(input(\"Enter a number: \"))\n",
    "    if input_num < number:\n",
    "        raise InvalidAgeException\n",
    "    else:\n",
    "        print(\"Eligible to Vote\")\n",
    "        \n",
    "except InvalidAgeException:\n",
    "    print(\"Exception occurred: Invalid Age\")"
   ]
  },
  {
   "cell_type": "markdown",
   "id": "49dca9f9-85e3-4905-981b-5d6e2512ae20",
   "metadata": {},
   "source": [
    "In the above code I have created a custom exception 'InvalidAgeException' and I have used it to handle a exception."
   ]
  }
 ],
 "metadata": {
  "kernelspec": {
   "display_name": "Python 3 (ipykernel)",
   "language": "python",
   "name": "python3"
  },
  "language_info": {
   "codemirror_mode": {
    "name": "ipython",
    "version": 3
   },
   "file_extension": ".py",
   "mimetype": "text/x-python",
   "name": "python",
   "nbconvert_exporter": "python",
   "pygments_lexer": "ipython3",
   "version": "3.10.8"
  }
 },
 "nbformat": 4,
 "nbformat_minor": 5
}
