{
 "cells": [
  {
   "cell_type": "markdown",
   "id": "855b0686-ec41-4db2-979b-a30fb6616f87",
   "metadata": {},
   "source": [
    "Q1. What is multithreading in python? Why is it used? Name the module used to handle threads in python."
   ]
  },
  {
   "cell_type": "markdown",
   "id": "9e4f3e02-0ad9-46b9-b3f0-02d76f934141",
   "metadata": {},
   "source": [
    "\n",
    "Multithreading in Python refers to the concurrent execution of multiple threads within a single process. A thread is a lightweight unit of execution that operates independently but shares the same memory space as other threads within a process.\n",
    "\n",
    "Threads are used to achieve parallelism or concurrent execution of tasks. They allow different parts of a program to run simultaneously, making efficient use of system resources and improving responsiveness in certain scenarios. Multithreading is particularly useful when dealing with tasks that involve I/O operations, such as network communication or file processing, as it allows other parts of the program to continue executing while waiting for I/O to complete.\n",
    "\n",
    "The module used to handle threads in Python is called threading. It provides a high-level interface for creating and managing threads in Python. The threading module allows you to create and start threads, synchronize their execution, and coordinate shared resources among them."
   ]
  },
  {
   "cell_type": "markdown",
   "id": "a56200f8-cb6c-4bf8-9eb4-238fd6872214",
   "metadata": {},
   "source": [
    "Q2. Why threading module used? Write the use of the following functions:\n",
    "1. activeCount()\n",
    "2. currentThread()\n",
    "3. enumerate()"
   ]
  },
  {
   "cell_type": "markdown",
   "id": "aa9fd1fa-1307-43b7-8fb4-a62c3b260a56",
   "metadata": {},
   "source": [
    "The threading module in Python is used to handle threads and provides a high-level interface for creating, managing, and synchronizing threads. It offers various functions and classes to work with threads efficiently. Let's discuss the use of the following functions in the threading module:\n",
    "\n",
    "1.activeCount(): This function returns the number of currently active Thread objects. An active thread is a thread that has been started and has not yet finished. It is useful to check the current number of active threads in order to monitor the progress or manage resource allocation in a multithreaded application."
   ]
  },
  {
   "cell_type": "code",
   "execution_count": 1,
   "id": "a88b2f64-fe37-40f9-8acf-9489e84a4dbf",
   "metadata": {},
   "outputs": [
    {
     "name": "stdout",
     "output_type": "stream",
     "text": [
      "8\n"
     ]
    },
    {
     "name": "stderr",
     "output_type": "stream",
     "text": [
      "/tmp/ipykernel_1028/3067634609.py:3: DeprecationWarning: activeCount() is deprecated, use active_count() instead\n",
      "  print(threading.activeCount())\n"
     ]
    }
   ],
   "source": [
    "import threading\n",
    "\n",
    "print(threading.activeCount())\n"
   ]
  },
  {
   "cell_type": "markdown",
   "id": "ca062424-e2b1-488e-b542-35ed2fe9bba6",
   "metadata": {},
   "source": [
    "This code snippet will print the number of active threads at the point of execution."
   ]
  },
  {
   "cell_type": "markdown",
   "id": "4d83f5d2-c842-49ab-b77f-32989ac8bd83",
   "metadata": {},
   "source": [
    "2.currentThread(): This function returns the Thread object representing the current thread of execution. It is commonly used to obtain information about the currently running thread, such as its name or identification."
   ]
  },
  {
   "cell_type": "code",
   "execution_count": 2,
   "id": "b0069c32-c907-408f-8126-fafe9796c08e",
   "metadata": {},
   "outputs": [
    {
     "name": "stdout",
     "output_type": "stream",
     "text": [
      "MainThread\n"
     ]
    },
    {
     "name": "stderr",
     "output_type": "stream",
     "text": [
      "/tmp/ipykernel_1028/1961220619.py:3: DeprecationWarning: currentThread() is deprecated, use current_thread() instead\n",
      "  current_thread = threading.currentThread()\n",
      "/tmp/ipykernel_1028/1961220619.py:4: DeprecationWarning: getName() is deprecated, get the name attribute instead\n",
      "  print(current_thread.getName())\n"
     ]
    }
   ],
   "source": [
    "import threading\n",
    "\n",
    "current_thread = threading.currentThread()\n",
    "print(current_thread.getName())\n"
   ]
  },
  {
   "cell_type": "markdown",
   "id": "2ed196cb-32c9-4a2f-867b-612b3e5415ac",
   "metadata": {},
   "source": [
    "This code snippet retrieves the current thread object and prints its name."
   ]
  },
  {
   "cell_type": "markdown",
   "id": "38368113-12db-4261-9e24-f15c619ab8d9",
   "metadata": {},
   "source": [
    "3.enumerate(): This function returns a list of all currently active Thread objects. It is helpful for obtaining a list of all active threads in the application, which can be useful for monitoring or performing operations on each thread."
   ]
  },
  {
   "cell_type": "code",
   "execution_count": 3,
   "id": "182d0601-d828-4e79-899d-aaaeb53df701",
   "metadata": {},
   "outputs": [
    {
     "name": "stdout",
     "output_type": "stream",
     "text": [
      "MainThread\n",
      "IOPub\n",
      "Heartbeat\n",
      "Thread-3 (_watch_pipe_fd)\n",
      "Thread-4 (_watch_pipe_fd)\n",
      "Control\n",
      "IPythonHistorySavingThread\n",
      "Thread-2\n"
     ]
    },
    {
     "name": "stderr",
     "output_type": "stream",
     "text": [
      "/tmp/ipykernel_1028/2299869845.py:5: DeprecationWarning: getName() is deprecated, get the name attribute instead\n",
      "  print(thread.getName())\n"
     ]
    }
   ],
   "source": [
    "import threading\n",
    "\n",
    "thread_list = threading.enumerate()\n",
    "for thread in thread_list:\n",
    "    print(thread.getName())\n"
   ]
  },
  {
   "cell_type": "markdown",
   "id": "9824552e-cf96-4431-95e5-284f3a2c60db",
   "metadata": {},
   "source": [
    "This code snippet retrieves a list of all active threads and iterates over each thread, printing its name."
   ]
  },
  {
   "cell_type": "markdown",
   "id": "5b8cdfc6-7f93-479e-952a-c4d19f693253",
   "metadata": {},
   "source": [
    "These functions provide useful insights and utilities when working with threads in Python. They allow you to gather information about active threads, access the current thread, and obtain a list of all active threads for various management and monitoring purposes."
   ]
  },
  {
   "cell_type": "markdown",
   "id": "6b6c12b7-8c2f-4a63-b233-04a61d87cf4d",
   "metadata": {},
   "source": [
    "Q3. Explain the following functions:\n",
    "  1. run()\n",
    "  2. start()\n",
    "  3. join()\n",
    "  4. isAlive()"
   ]
  },
  {
   "cell_type": "markdown",
   "id": "e22c3987-ff12-4841-b3ec-5b706630f7d5",
   "metadata": {},
   "source": [
    "The functions run(), start(), join(), and isAlive() are related to the lifecycle and synchronization of threads in the threading module of Python. Let's explore each function and its purpose:\n",
    "\n",
    "1.run(): This method is called to start the execution of a thread's activity. It is typically overridden in a custom thread class and contains the code that will be executed when the thread starts. The run() method should not be called directly; instead, it is automatically invoked when a thread's start() method is called.\n",
    "\n",
    "2.start(): This method is used to start the execution of a thread by allocating necessary resources and invoking the thread's run() method. When start() is called, a new thread is created, and its run() method is executed in parallel with other threads in the program. It is important to note that start() can only be called once for a given thread object.\n",
    "\n",
    "3.join(): This method blocks the execution of the calling thread until the thread it is called on completes its execution. When a thread reaches the join() method, the calling thread waits until the joined thread finishes before proceeding with its own execution. This is useful for synchronizing threads and ensuring that specific operations are completed before continuing. Optionally, you can specify a timeout value for join() to limit the waiting time.\n",
    "\n",
    "4.isAlive(): This method is used to determine if a thread is currently executing. It returns a boolean value indicating whether the thread is still active. If the thread has started but not yet completed, isAlive() will return True. Once the thread has finished execution, isAlive() will return False."
   ]
  },
  {
   "cell_type": "markdown",
   "id": "47434135-d182-4caf-b811-bbba53ae4b02",
   "metadata": {},
   "source": [
    "Q4.  Write a python program to create two threads. Thread one must print the list of squares and thread \n",
    "two must print the list of cubes."
   ]
  },
  {
   "cell_type": "markdown",
   "id": "29c82e99-5600-47e6-843b-2575511b4ed1",
   "metadata": {},
   "source": [
    "Here's a Python program that creates two threads: one thread prints a list of squares, and the other thread prints a list of cubes:"
   ]
  },
  {
   "cell_type": "code",
   "execution_count": 4,
   "id": "57c1637d-d4d1-41fa-b97e-45a7e96be001",
   "metadata": {},
   "outputs": [
    {
     "name": "stdout",
     "output_type": "stream",
     "text": [
      "List of squares: [1, 4, 9, 16, 25]\n",
      "List of cubes: [1, 8, 27, 64, 125]\n",
      "Main thread finished\n"
     ]
    }
   ],
   "source": [
    "import threading\n",
    "\n",
    "def print_squares(numbers):\n",
    "    \"\"\"Function to print the list of squares\"\"\"\n",
    "    squares = [num ** 2 for num in numbers]\n",
    "    print(\"List of squares:\", squares)\n",
    "\n",
    "def print_cubes(numbers):\n",
    "    \"\"\"Function to print the list of cubes\"\"\"\n",
    "    cubes = [num ** 3 for num in numbers]\n",
    "    print(\"List of cubes:\", cubes)\n",
    "\n",
    "if __name__ == \"__main__\":\n",
    "    numbers = [1, 2, 3, 4, 5]\n",
    "\n",
    "    thread_squares = threading.Thread(target=print_squares, args=(numbers,))\n",
    "\n",
    "    thread_cubes = threading.Thread(target=print_cubes, args=(numbers,))\n",
    "\n",
    "    thread_squares.start()\n",
    "    thread_cubes.start()\n",
    "    thread_squares.join()\n",
    "    thread_cubes.join()\n",
    "\n",
    "    print(\"Main thread finished\")\n"
   ]
  },
  {
   "cell_type": "markdown",
   "id": "0b455ff2-b1e9-4632-a22f-ca8f30442467",
   "metadata": {},
   "source": [
    "Q5. State advantages and disadvantages of multithreading."
   ]
  },
  {
   "cell_type": "markdown",
   "id": "3e9cc9ee-1389-47c7-ad74-219fa665e5c4",
   "metadata": {},
   "source": [
    "Advantages of Multithreading:\n",
    "\n",
    "1. Improved Responsiveness: Multithreading allows a program to remain responsive during time-consuming operations by executing multiple tasks concurrently. This enhances user experience and responsiveness in applications.\n",
    "\n",
    "2. Efficient Resource Sharing: Threads share the same memory space and resources within a process, facilitating efficient communication and data sharing. It simplifies resource sharing among different parts of a program.\n",
    "\n",
    "3. Enhanced Performance: Multithreading can boost the performance of applications, especially those involving I/O-bound tasks or waiting for external resources. It harnesses parallelism to utilize available processing power and reduce overall execution time.\n",
    "\n",
    "\n",
    "Disadvantages of Multithreading:\n",
    "\n",
    "1. Complexity and Synchronization: Multithreading introduces complexity due to the need for synchronization and coordination among threads. Without proper synchronization mechanisms, concurrent access to shared resources can lead to synchronization issues, including race conditions and deadlocks.\n",
    "\n",
    "2. Increased Memory Overhead: Each thread requires its own stack space and associated data structures, leading to increased memory usage compared to single-threaded programs. Additionally, thread creation and context switching incur overhead that can impact performance in some cases.\n",
    "\n",
    "3. Debugging Challenges: Debugging multithreaded programs can be difficult, as issues such as race conditions or deadlocks may be intermittent and hard to reproduce. Detecting and fixing these problems often requires advanced debugging techniques and a thorough understanding of thread interactions.\n",
    "\n",
    "\n",
    "Considering these advantages and disadvantages is crucial when deciding whether to employ multithreading in a specific application. The suitability of multithreading depends on the nature of the problem, available resources, and application requirements."
   ]
  },
  {
   "cell_type": "code",
   "execution_count": null,
   "id": "562d214f-63a7-46a4-9f76-3a31273426ea",
   "metadata": {},
   "outputs": [],
   "source": [
    "Q6. Explain deadlocks and race conditions."
   ]
  },
  {
   "cell_type": "markdown",
   "id": "4741bf40-8907-4262-9fd1-868878f83cb0",
   "metadata": {},
   "source": [
    "Deadlocks and race conditions are two common concurrency-related issues that can occur when working with multithreaded or concurrent programs. Let's explore each of them:\n",
    "\n",
    "1. Deadlocks:\n",
    "A deadlock occurs when two or more threads are blocked indefinitely, waiting for each other to release resources that they hold. It is a situation where the threads cannot proceed because they are stuck in a circular dependency.\n",
    "\n",
    "In order for a deadlock to happen, four conditions must hold simultaneously, known as the \"deadlock conditions\":\n",
    "- Mutual Exclusion: At least one resource must be held in a non-sharable mode, preventing other threads from accessing it.\n",
    "- Hold and Wait: A thread holds a resource and waits for another resource simultaneously.\n",
    "- No Preemption: Resources cannot be forcibly taken away from a thread; they can only be released voluntarily.\n",
    "- Circular Wait: There is a circular chain of two or more threads, where each thread is waiting for a resource held by the next thread in the chain.\n",
    "\n",
    "\n",
    "2. Race Conditions:\n",
    "A race condition occurs when multiple threads access and modify shared data concurrently, resulting in unpredictable and undesired outcomes. It happens when the final outcome of the program depends on the relative timing or ordering of thread execution.\n",
    "\n",
    "Race conditions can lead to incorrect results, data corruption, and program instability. They typically arise when threads perform non-atomic operations on shared data without proper synchronization. Non-atomic operations are those that are not executed in a single, indivisible step.\n",
    "\n",
    "To mitigate race conditions, synchronization mechanisms should be used to ensure that only one thread can access or modify the shared data at a time. Techniques such as locks, semaphores, and mutexes are employed to establish critical sections, where only one thread can execute the code block at a time. Synchronization mechanisms provide mutual exclusion and ensure data consistency, preventing race conditions.\n",
    "\n",
    "Overall, deadlocks and race conditions are both critical issues in concurrent programming that can cause program failures, incorrect results, or unexpected behavior. Understanding and addressing these issues are essential for developing reliable and robust multithreaded applications."
   ]
  },
  {
   "cell_type": "code",
   "execution_count": null,
   "id": "19606e45-b199-4d61-8508-cbbafcf40ad2",
   "metadata": {},
   "outputs": [],
   "source": []
  }
 ],
 "metadata": {
  "kernelspec": {
   "display_name": "Python 3 (ipykernel)",
   "language": "python",
   "name": "python3"
  },
  "language_info": {
   "codemirror_mode": {
    "name": "ipython",
    "version": 3
   },
   "file_extension": ".py",
   "mimetype": "text/x-python",
   "name": "python",
   "nbconvert_exporter": "python",
   "pygments_lexer": "ipython3",
   "version": "3.10.8"
  }
 },
 "nbformat": 4,
 "nbformat_minor": 5
}
