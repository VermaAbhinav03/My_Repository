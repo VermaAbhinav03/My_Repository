{
 "cells": [
  {
   "cell_type": "markdown",
   "id": "68d4e75c-e463-4803-83e2-7b13b6412480",
   "metadata": {},
   "source": [
    "Q1. What is MongoDB? Explain non-relational databases in short. In which scenarios it is preferred to use\n",
    "MongoDB over SQL databases?"
   ]
  },
  {
   "cell_type": "markdown",
   "id": "e73b935e-ffd6-4c11-a077-0366d8297405",
   "metadata": {},
   "source": [
    "MongoDB is a popular NoSQL database system that stores data in a flexible, JSON-like format called BSON (Binary JSON). It is designed for scalability, high performance, and ease of development. MongoDB uses a document-oriented data model, where data is organized into collections of documents. Each document is a self-contained unit of data with a dynamic schema, allowing for flexibility in data representation.\n",
    "\n",
    "\n",
    "\n",
    "\n",
    "Non-relational databases, also known as NoSQL databases, are a type of database management system that do not rely on the traditional tabular structures used in relational databases. Instead, they use various data models, such as document-oriented, key-value, column-oriented, or graph-based models, to store and retrieve data. NoSQL databases offer flexibility in data modeling, scalability, and are often optimized for specific use cases like real-time analytics, content management, or caching.\n",
    "\n",
    "\n",
    "\n",
    "\n",
    "Scenarios where MongoDB is preferred over SQL databases:\n",
    "\n",
    "1. Flexible Schema: MongoDB's dynamic schema allows for flexible data modeling, making it suitable for applications with evolving or unpredictable data requirements. Unlike SQL databases, MongoDB does not require predefined schemas, allowing developers to easily modify and extend the data model as needed.\n",
    "\n",
    "2. Scalability: MongoDB is designed to scale horizontally, meaning it can easily handle large volumes of data by distributing it across multiple servers or nodes. This makes it well-suited for applications that require high scalability and performance, such as real-time analytics or content management systems.\n",
    "\n",
    "3. Complex Data Structures: MongoDB's document-oriented data model allows for the storage of complex data structures, including nested arrays and objects within documents. This makes it ideal for applications that deal with hierarchical or nested data, such as social media platforms or e-commerce websites.\n",
    "\n",
    "4. High Availability: MongoDB provides built-in support for replica sets and automatic failover, ensuring high availability and data redundancy. This makes it suitable for mission-critical applications that require continuous availability and fault tolerance.\n",
    "\n",
    "5. Developer Productivity**: MongoDB's JSON-like document format and flexible query language make it easy for developers to work with, reducing development time and effort. Its rich set of features, including indexing, aggregation, and geospatial queries, further enhances developer productivity.\n",
    "\n",
    "Overall, MongoDB is preferred over SQL databases in scenarios where flexibility, scalability, high availability, and developer productivity are important considerations for the application.\n",
    "\n",
    "             \n",
    "             \n",
    "             \n",
    "             \n"
   ]
  },
  {
   "cell_type": "markdown",
   "id": "a7711ebb-8be8-42b3-b325-8187e7dcfbfa",
   "metadata": {},
   "source": [
    "Q2. State and Explain the features of MongoDB."
   ]
  },
  {
   "cell_type": "markdown",
   "id": "3d451a9f-5229-4798-becc-42840ccede21",
   "metadata": {},
   "source": [
    "MongoDB is a powerful NoSQL database system that offers a wide range of features to meet the needs of modern applications. Some of the key features of MongoDB include:\n",
    "\n",
    "1. Document-Oriented: MongoDB stores data in flexible, JSON-like documents called BSON (Binary JSON). Each document can have a different structure, allowing for dynamic schemas and easy representation of complex data structures.\n",
    "\n",
    "2. Scalability: MongoDB is designed to scale horizontally, meaning it can handle large volumes of data by distributing it across multiple servers or nodes. It supports sharding, allowing data to be partitioned and distributed across a cluster of machines for improved scalability and performance.\n",
    "\n",
    "3. High Performance: MongoDB offers high performance for read and write operations, thanks to its efficient storage engine and in-memory caching. It supports indexes, which can be created on any field in a document to improve query performance.\n",
    "\n",
    "4. Rich Query Language: MongoDB provides a powerful and flexible query language that supports a wide range of operations, including CRUD (Create, Read, Update, Delete), aggregation, sorting, filtering, and geospatial queries. It also supports full-text search and regular expressions for advanced querying capabilities.\n",
    "\n",
    "5. Geospatial Capabilities: MongoDB has built-in support for geospatial data and queries, allowing developers to store and query location-based data easily. It supports various geometric shapes and operations, such as point, line, polygon, and radius-based queries.\n",
    "\n",
    "6. Flexible Data Model: MongoDB's flexible data model allows for easy representation of hierarchical and nested data structures. It supports arrays and nested documents within documents, making it suitable for storing complex data types.\n",
    "\n",
    "7. Automatic Failover and Replication: MongoDB provides built-in support for replica sets, which are groups of MongoDB instances that maintain the same data set. Replica sets offer automatic failover and data redundancy, ensuring high availability and fault tolerance.\n",
    "\n",
    "8. Aggregation Framework: MongoDB's aggregation framework allows for complex data processing and analysis tasks to be performed directly within the database. It supports a wide range of aggregation operations, such as grouping, filtering, sorting, and computing aggregate functions.\n",
    "\n",
    "9. Schema Validation: MongoDB allows developers to enforce document validation rules at the database level using schema validation. This ensures that data meets certain criteria before it is inserted or updated in the database, improving data quality and consistency.\n",
    "\n",
    "10. Security: MongoDB provides robust security features, including authentication, authorization, encryption, and auditing. It supports role-based access control (RBAC), SSL/TLS encryption, and client-side field-level encryption for data protection.\n",
    "\n",
    "Overall, MongoDB offers a comprehensive set of features that make it a popular choice for building modern applications that require flexibility, scalability, high performance, and rich data modeling capabilities.\n",
    "\n",
    "\n"
   ]
  },
  {
   "cell_type": "markdown",
   "id": "23ac61f8-6d44-4a5e-9c09-b394f01846be",
   "metadata": {},
   "source": [
    "Q3. Write a code to connect MongoDB to Python. Also, create a database and a collection in MongoDB."
   ]
  },
  {
   "cell_type": "markdown",
   "id": "d54385b1-37d7-4b84-86a4-0f564e41660b",
   "metadata": {},
   "source": [
    "\n",
    "To connect MongoDB to Python, you can use the pymongo library. First, you need to install the library if you haven't already:"
   ]
  },
  {
   "cell_type": "code",
   "execution_count": 1,
   "id": "c8328cea-71f6-4cc8-a9fe-b2595a2c4c76",
   "metadata": {},
   "outputs": [
    {
     "name": "stdout",
     "output_type": "stream",
     "text": [
      "Collecting pymongo\n",
      "  Downloading pymongo-4.6.1-cp310-cp310-manylinux_2_17_x86_64.manylinux2014_x86_64.whl (677 kB)\n",
      "\u001b[2K     \u001b[90m━━━━━━━━━━━━━━━━━━━━━━━━━━━━━━━━━━━━━━\u001b[0m \u001b[32m677.1/677.1 kB\u001b[0m \u001b[31m43.4 MB/s\u001b[0m eta \u001b[36m0:00:00\u001b[0m\n",
      "\u001b[?25hCollecting dnspython<3.0.0,>=1.16.0\n",
      "  Downloading dnspython-2.5.0-py3-none-any.whl (305 kB)\n",
      "\u001b[2K     \u001b[90m━━━━━━━━━━━━━━━━━━━━━━━━━━━━━━━━━━━━━━\u001b[0m \u001b[32m305.4/305.4 kB\u001b[0m \u001b[31m37.5 MB/s\u001b[0m eta \u001b[36m0:00:00\u001b[0m\n",
      "\u001b[?25hInstalling collected packages: dnspython, pymongo\n",
      "Successfully installed dnspython-2.5.0 pymongo-4.6.1\n",
      "Note: you may need to restart the kernel to use updated packages.\n"
     ]
    }
   ],
   "source": [
    "pip install pymongo\n"
   ]
  },
  {
   "cell_type": "markdown",
   "id": "f07749f5-9fbd-4ca4-b116-3f43cc37ac70",
   "metadata": {},
   "source": [
    "Then, you can use the following Python code to connect to MongoDB, create a database, and create a collection:"
   ]
  },
  {
   "cell_type": "code",
   "execution_count": null,
   "id": "17030a46-a82c-467a-9f5c-b39fa41a1531",
   "metadata": {},
   "outputs": [],
   "source": [
    "import pymongo\n",
    "\n",
    "# Establish connection to MongoDB\n",
    "client = pymongo.MongoClient(\"mongodb://localhost:27017/\")  # Connect to MongoDB running locally\n",
    "\n",
    "# Create a new database\n",
    "db = client[\"mydatabase\"]  # Replace \"mydatabase\" with your preferred database name\n",
    "\n",
    "# Create a new collection\n",
    "collection = db[\"mycollection\"]  # Replace \"mycollection\" with your preferred collection name\n",
    "\n",
    "# Check if the collection exists\n",
    "if \"mycollection\" in db.list_collection_names():\n",
    "    print(\"Collection 'mycollection' already exists.\")\n",
    "else:\n",
    "    print(\"Collection 'mycollection' created successfully.\")\n",
    "\n",
    "# Close the connection to MongoDB\n",
    "client.close()\n"
   ]
  },
  {
   "cell_type": "markdown",
   "id": "4e519568-7d07-42d2-99e7-98a90f4df424",
   "metadata": {},
   "source": [
    "In this code:\n",
    "\n",
    "We import the pymongo library to work with MongoDB in Python.\n",
    "We establish a connection to MongoDB running locally on the default port (27017) using pymongo.MongoClient().\n",
    "We create a new database named \"mydatabase\" using client[\"mydatabase\"].\n",
    "We create a new collection named \"mycollection\" within the \"mydatabase\" using db[\"mycollection\"].\n",
    "We check if the collection exists in the database using db.list_collection_names().\n",
    "Finally, we close the connection to MongoDB using client.close().\n",
    "Make sure to replace \"mydatabase\" and \"mycollection\" with your preferred database and collection names. Also, ensure that MongoDB is running locally on your machine before running this code.\n",
    "\n",
    "\n",
    "\n"
   ]
  },
  {
   "cell_type": "markdown",
   "id": "7b29ac72-7142-4cb6-8b47-f138d9ac39fd",
   "metadata": {},
   "source": [
    "Q4. Using the database and the collection created in question number 3, write a code to insert one record,\n",
    "and insert many records. Use the find() and find_one() methods to print the inserted record."
   ]
  },
  {
   "cell_type": "markdown",
   "id": "adcd4125-5179-48ff-899e-f66b2601e00a",
   "metadata": {},
   "source": [
    "Here's the Python code to insert one record and insert many records into the collection created in question number 3, and then use the find() and find_one() methods to print the inserted records:"
   ]
  },
  {
   "cell_type": "code",
   "execution_count": null,
   "id": "936186ac-1382-4ebc-a180-c099a2210937",
   "metadata": {},
   "outputs": [],
   "source": [
    "import pymongo\n",
    "\n",
    "# Establish connection to MongoDB\n",
    "client = pymongo.MongoClient(\"mongodb://localhost:27017/\")  # Connect to MongoDB running locally\n",
    "\n",
    "# Access the database and collection\n",
    "db = client[\"mydatabase\"]  # Replace \"mydatabase\" with your preferred database name\n",
    "collection = db[\"mycollection\"]  # Replace \"mycollection\" with your preferred collection name\n",
    "\n",
    "# Insert one record\n",
    "record_one = {\"name\": \"John\", \"age\": 30, \"city\": \"New York\"}\n",
    "insert_one_result = collection.insert_one(record_one)\n",
    "print(\"Inserted record ID (one):\", insert_one_result.inserted_id)\n",
    "\n",
    "# Insert many records\n",
    "records_many = [\n",
    "    {\"name\": \"Alice\", \"age\": 25, \"city\": \"London\"},\n",
    "    {\"name\": \"Bob\", \"age\": 35, \"city\": \"Paris\"},\n",
    "    {\"name\": \"Emma\", \"age\": 28, \"city\": \"Berlin\"}\n",
    "]\n",
    "insert_many_result = collection.insert_many(records_many)\n",
    "print(\"Inserted record IDs (many):\", insert_many_result.inserted_ids)\n",
    "\n",
    "# Print the inserted records using find() method\n",
    "print(\"\\nInserted records (find()):\")\n",
    "for record in collection.find():\n",
    "    print(record)\n",
    "\n",
    "# Print the first inserted record using find_one() method\n",
    "print(\"\\nFirst inserted record (find_one()):\")\n",
    "print(collection.find_one({\"name\": \"John\"}))\n",
    "\n",
    "# Close the connection to MongoDB\n",
    "client.close()\n"
   ]
  },
  {
   "cell_type": "markdown",
   "id": "1b3b8566-e5ef-4477-b311-c35dd66e363f",
   "metadata": {},
   "source": [
    "In this code:\n",
    "\n",
    "We access the database and collection created earlier.\n",
    "We insert one record using insert_one() method and print the inserted record ID.\n",
    "We insert many records using insert_many() method and print the inserted record IDs.\n",
    "We use the find() method to print all inserted records.\n",
    "We use the find_one() method to print the first inserted record that matches the specified query.\n",
    "Finally, we close the connection to MongoDB.\n",
    "Make sure to replace \"mydatabase\" and \"mycollection\" with your preferred database and collection names. Run this code after running the code from question number 3 to ensure that the database and collection exist.\n",
    "\n",
    "\n",
    "\n",
    "\n",
    "\n"
   ]
  },
  {
   "cell_type": "code",
   "execution_count": null,
   "id": "fe7bc566-eb57-482c-93bc-b81e698b3da3",
   "metadata": {},
   "outputs": [],
   "source": [
    "Q5. Explain how you can use the find() method to query the MongoDB database. Write a simple code to\n",
    "demonstrate this."
   ]
  },
  {
   "cell_type": "markdown",
   "id": "3d058112-f431-4c00-8ada-95b94de80a45",
   "metadata": {},
   "source": [
    "In MongoDB, the `find()` method is used to query documents in a collection based on specified criteria. It allows you to retrieve documents that match a given query filter. The `find()` method returns a cursor object, which can be iterated to access the matched documents.\n",
    "\n",
    "Here's how you can use the `find()` method to query the MongoDB database:\n",
    "\n",
    "1. **Basic Querying**:\n",
    "   - You can use the `find()` method without any parameters to retrieve all documents in a collection.\n",
    "\n",
    "2. **Query with Filters**:\n",
    "   - You can pass a query filter as a parameter to the `find()` method to retrieve documents that match specific criteria.\n",
    "   - The query filter is a dictionary object where keys represent field names and values represent matching criteria.\n",
    "   - MongoDB supports various query operators, such as equality (`$eq`), comparison (`$gt`, `$lt`), logical (`$and`, `$or`), etc., which can be used in the query filter to perform complex queries.\n",
    "\n",
    "3. **Projection**:\n",
    "   - You can specify the fields to include or exclude from the result using the projection parameter in the `find()` method.\n",
    "   - The projection parameter is a dictionary where keys represent field names and values represent inclusion (`1`) or exclusion (`0`).\n",
    "\n",
    "Here's a simple Python code to demonstrate how to use the `find()` method to query the MongoDB database:"
   ]
  },
  {
   "cell_type": "code",
   "execution_count": null,
   "id": "e37cd389-b271-4cf7-9ebd-a31490ec4728",
   "metadata": {},
   "outputs": [],
   "source": [
    "import pymongo\n",
    "\n",
    "# Establish connection to MongoDB\n",
    "client = pymongo.MongoClient(\"mongodb://localhost:27017/\")  # Connect to MongoDB running locally\n",
    "\n",
    "# Access the database and collection\n",
    "db = client[\"mydatabase\"]  # Replace \"mydatabase\" with your preferred database name\n",
    "collection = db[\"mycollection\"]  # Replace \"mycollection\" with your preferred collection name\n",
    "\n",
    "# Basic querying - Retrieve all documents in the collection\n",
    "print(\"All documents in the collection:\")\n",
    "for document in collection.find():\n",
    "    print(document)\n",
    "\n",
    "# Query with filters - Retrieve documents where age is greater than 30\n",
    "print(\"\\nDocuments where age is greater than 30:\")\n",
    "for document in collection.find({\"age\": {\"$gt\": 30}}):\n",
    "    print(document)\n",
    "\n",
    "# Projection - Retrieve documents with only name and age fields (exclude _id)\n",
    "print(\"\\nDocuments with only name and age fields:\")\n",
    "for document in collection.find({}, {\"_id\": 0, \"name\": 1, \"age\": 1}):\n",
    "    print(document)\n",
    "\n",
    "# Close the connection to MongoDB\n",
    "client.close()"
   ]
  },
  {
   "cell_type": "markdown",
   "id": "e369dc48-522a-4e43-97a8-d8a54853058c",
   "metadata": {},
   "source": [
    "\n",
    "In this code:\n",
    "- We establish a connection to MongoDB and access the database and collection.\n",
    "- We use the `find()` method to perform basic querying, query with filters, and projection.\n",
    "- We iterate over the cursor object returned by the `find()` method to access the matched documents.\n",
    "- Finally, we close the connection to MongoDB."
   ]
  },
  {
   "cell_type": "markdown",
   "id": "659e9005-0e4c-421d-9102-9e6e164b29cd",
   "metadata": {},
   "source": [
    "Q6. Explain the sort() method. Give an example to demonstrate sorting in MongoDB."
   ]
  },
  {
   "cell_type": "markdown",
   "id": "0c3c7b50-20bc-4121-9759-94e0a843097a",
   "metadata": {},
   "source": [
    "In MongoDB, the sort() method is used to sort the documents returned by a query based on one or more fields. It allows you to specify the sorting order (ascending or descending) for each field.\n",
    "\n",
    "Here's an explanation of the sort() method:\n",
    "\n",
    "Basic Syntax: The sort() method takes a sort specification as its parameter, which is a dictionary where keys represent field names and values represent the sorting order (1 for ascending, -1 for descending).\n",
    "\n",
    "Single Field Sorting: You can specify a single field for sorting by providing the field name as the key in the sort specification.\n",
    "\n",
    "Multiple Field Sorting: You can sort by multiple fields by including multiple key-value pairs in the sort specification.\n",
    "\n",
    "Index Usage: MongoDB can use indexes to efficiently perform sorting, especially when sorting on indexed fields.\n",
    "\n",
    "Here's a simple example to demonstrate sorting in MongoDB using the sort() method:\n",
    "\n"
   ]
  },
  {
   "cell_type": "code",
   "execution_count": null,
   "id": "9a2a6335-2f07-42a9-bcce-5c36e2258e89",
   "metadata": {},
   "outputs": [],
   "source": [
    "import pymongo\n",
    "\n",
    "# Establish connection to MongoDB\n",
    "client = pymongo.MongoClient(\"mongodb://localhost:27017/\")  # Connect to MongoDB running locally\n",
    "\n",
    "# Access the database and collection\n",
    "db = client[\"mydatabase\"]  # Replace \"mydatabase\" with your preferred database name\n",
    "collection = db[\"mycollection\"]  # Replace \"mycollection\" with your preferred collection name\n",
    "\n",
    "# Insert sample data into the collection\n",
    "collection.insert_many([\n",
    "    {\"name\": \"Alice\", \"age\": 25},\n",
    "    {\"name\": \"Bob\", \"age\": 35},\n",
    "    {\"name\": \"Charlie\", \"age\": 30}\n",
    "])\n",
    "\n",
    "# Query documents and sort by age in ascending order\n",
    "print(\"Sorted by age in ascending order:\")\n",
    "for document in collection.find().sort(\"age\", 1):\n",
    "    print(document)\n",
    "\n",
    "# Query documents and sort by name in descending order\n",
    "print(\"\\nSorted by name in descending order:\")\n",
    "for document in collection.find().sort(\"name\", -1):\n",
    "    print(document)\n",
    "\n",
    "# Close the connection to MongoDB\n",
    "client.close()\n"
   ]
  },
  {
   "cell_type": "markdown",
   "id": "638b4471-d387-4597-8c31-68a2c2b6c0e0",
   "metadata": {},
   "source": [
    "In this example:\n",
    "\n",
    "We establish a connection to MongoDB and access the database and collection.\n",
    "We insert sample data into the collection.\n",
    "We use the find() method to query documents from the collection and the sort() method to specify sorting criteria.\n",
    "We demonstrate sorting by age in ascending order and sorting by name in descending order.\n",
    "Finally, we close the connection to MongoDB.\n",
    "\n",
    "\n"
   ]
  },
  {
   "cell_type": "markdown",
   "id": "a05c96be-2952-4b76-8d1d-cba05c30862a",
   "metadata": {},
   "source": [
    "Q7. Explain why delete_one(), delete_many(), and drop() is used."
   ]
  },
  {
   "cell_type": "markdown",
   "id": "11ba2a77-da1f-4b15-8238-095baa9c4d81",
   "metadata": {},
   "source": [
    "In MongoDB, the `delete_one()`, `delete_many()`, and `drop()` methods are used to remove documents or collections from the database. Here's an explanation of each method:\n",
    "1. delete_one() Method:\n",
    "   - The `delete_one()` method is used to delete a single document that matches the specified filter criteria.\n",
    "   - It takes a filter parameter, which is a dictionary specifying the criteria for selecting the document to delete.\n",
    "   - If multiple documents match the filter criteria, only the first document found will be deleted.\n",
    "\n",
    "2. delete_many() Method:\n",
    "   - The `delete_many()` method is used to delete multiple documents that match the specified filter criteria.\n",
    "   - It takes a filter parameter, similar to the `delete_one()` method, specifying the criteria for selecting the documents to delete.\n",
    "   - All documents that match the filter criteria will be deleted.\n",
    "\n",
    "3. drop() Method:\n",
    "   - The `drop()` method is used to drop (delete) an entire collection from the database.\n",
    "   - It does not take any parameters. When called on a collection, it removes the collection along with all its documents permanently.\n",
    "   - Dropping a collection is irreversible and should be used with caution, as it permanently deletes all data in the collection.\n",
    "\n",
    "These methods are commonly used in MongoDB to manage data and collections in the database. They provide flexibility in deleting documents or collections based on specific criteria or dropping entire collections when necessary. It's important to use these methods carefully to avoid unintended data loss."
   ]
  }
 ],
 "metadata": {
  "kernelspec": {
   "display_name": "Python 3 (ipykernel)",
   "language": "python",
   "name": "python3"
  },
  "language_info": {
   "codemirror_mode": {
    "name": "ipython",
    "version": 3
   },
   "file_extension": ".py",
   "mimetype": "text/x-python",
   "name": "python",
   "nbconvert_exporter": "python",
   "pygments_lexer": "ipython3",
   "version": "3.10.8"
  }
 },
 "nbformat": 4,
 "nbformat_minor": 5
}
