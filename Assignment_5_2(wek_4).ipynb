{
 "cells": [
  {
   "cell_type": "markdown",
   "id": "7eb39e2f-8af9-44af-bba7-10074b4a0bcb",
   "metadata": {},
   "source": [
    "Q1. What is Abstraction in OOps? Explain with an example."
   ]
  },
  {
   "cell_type": "markdown",
   "id": "d7746c9a-1188-459a-a358-9ec625f496d2",
   "metadata": {},
   "source": [
    "\n",
    "\n",
    "\n",
    "Abstraction is a fundamental principle in Object-Oriented Programming (OOP) that involves simplifying complex systems by representing essential features while hiding unnecessary details. It focuses on defining the interface and behavior of an object, without exposing the internal implementation. Abstraction allows us to work with objects at a higher level of conceptualization, without needing to understand the intricacies of their implementation.\n",
    "\n",
    "In OOP, abstraction is achieved through the use of abstract classes and interfaces. \n",
    "\n"
   ]
  },
  {
   "cell_type": "code",
   "execution_count": 4,
   "id": "700ce94e-be92-4d8d-9c38-1aa9bffb2943",
   "metadata": {},
   "outputs": [
    {
     "name": "stdout",
     "output_type": "stream",
     "text": [
      "I have 2 stars\n",
      "I have 3 stars\n",
      "I have 4 stars\n",
      "I have 5 stars\n"
     ]
    }
   ],
   "source": [
    "from abc import ABC, abstractmethod\n",
    "\n",
    "class car(ABC):\n",
    "\n",
    "\t@abstractmethod\n",
    "\tdef car_safety(self):\n",
    "\t\tpass\n",
    "\n",
    "class car1(car):\n",
    "\n",
    "\tdef car_safety(self):\n",
    "\t\tprint(\"I have 2 stars\")\n",
    "\n",
    "class car2(car):\n",
    "\n",
    "\tdef car_safety(self):\n",
    "\t\tprint(\"I have 3 stars\")\n",
    "\n",
    "class car3(car):\n",
    "\n",
    "\tdef car_safety(self):\n",
    "\t\tprint(\"I have 4 stars\")\n",
    "\n",
    "class car4(car):\n",
    "\n",
    "\tdef car_safety(self):\n",
    "\t\tprint(\"I have 5 stars\")\n",
    "\n",
    "C = car1()\n",
    "C.car_safety()\n",
    "\n",
    "C = car2()\n",
    "C.car_safety()\n",
    "\n",
    "C = car3()\n",
    "C.car_safety()\n",
    "\n",
    "C = car4()\n",
    "C.car_safety()"
   ]
  },
  {
   "cell_type": "markdown",
   "id": "99cb99cd-8200-4104-9061-9172a629a10c",
   "metadata": {},
   "source": [
    "\n",
    "\n",
    "Q2. Differentiate between Abstraction and Encapsulation. Explain with an example ?\n",
    "\n"
   ]
  },
  {
   "cell_type": "markdown",
   "id": "e76b3d6f-1d63-43eb-804a-4363c71179d1",
   "metadata": {},
   "source": [
    " Differences between Abstraction vs Encapsulation:--\n",
    " \n",
    ".  Abstraction shows only useful data by providing the most necessary details, whereas Encapsulation wraps code and data for necessary information.\n",
    ".  Abstraction is focused mainly on what should be done, while Encapsulation is focused on how it should be done.\n",
    ".  Abstraction hides complexity by giving you a more abstract picture, while Encapsulation hides internal work so that you can change it later.\n",
    ".  Abstraction helps you to partition the program into many independent portions, whereas Encapsulation is easy to change with new requirements.\n",
    ".  Comparing Encapsulation vs Abstraction, Abstraction solves problems at the design level while Encapsulation solves problems at the implementation level.\n",
    ".  Abstraction hides the irrelevant details found in the code, whereas Encapsulation helps developers to organize the entire code easily.\n",
    "\n",
    "Example of Abstraction:--\n",
    "                          Suppose you want to create a banking application and you are asked to collect all the information about your customer. There are chances that you will come up with the following information about the customer.\n",
    "[Full name,Address,Contact number,tax information,(Favorite Food, Favorite Movie, Favorite Actor)]\n",
    "\n",
    "But, not all of the above information is required to create a banking application.\n",
    "So, you need to select only the useful information for your banking application from that pool. Data like name, address, tax information, etc. make sense for a banking application.\n",
    "[Full name, Address, Contact Number, Tax Information]\n",
    "\n",
    "Since we have fetched/removed/selected the customer information from a larger pool, the process is referred to as Abstraction.\n",
    "However, the same information once extracted can be used for a wide range of applications. For instance, you can use the same data for hospital application, job portal application, a Government database, etc. with little or no modification. Hence, it becomes your Master Data. This is an advantage of Abstraction.\n",
    "\n",
    "\n",
    "\n",
    "Example of Encapsulation:--\n",
    "                            Let’s take an example of mobile device. With the help of mobile devices, you can perform various functions like taking a picture, sending a message, recording video/ audio, access the web and much more.\n",
    "The features mentioned above are functionalities of most of the smartphone. However, you don’t need to understand the internal functioning details of those features before using this program. Example, you don’t need to know how your camera calculates gamma correction or identifies a human face in an image. You just need to learn the software interface. This is encapsulation."
   ]
  },
  {
   "cell_type": "markdown",
   "id": "7dfd669d-ba21-4322-bcd0-ac991b2d6a69",
   "metadata": {},
   "source": [
    "\n",
    "\n",
    "Q3. What is abc module in python? Why is it used?\n",
    "\n"
   ]
  },
  {
   "cell_type": "markdown",
   "id": "a6e932cd-1b06-49a5-9b12-0ef84bb41e72",
   "metadata": {},
   "source": [
    "In Python, the abc module stands for \"Abstract Base Classes.\" It provides the necessary tools and mechanisms to define abstract base classes (ABCs) in Python.\n",
    "\n",
    "Abstract base classes are classes that cannot be instantiated themselves but serve as a template or contract for subclasses. They define a common interface and a set of methods that subclasses are required to implement.\n",
    "\n",
    "The abc module provides the ABC class, which is a metaclass that allows you to create abstract base classes. By inheriting from ABC and using the @abstractmethod decorator, you can define abstract methods within the abstract base class. An abstract method is a method that has no implementation in the base class but must be implemented by any concrete subclass.\n",
    "\n",
    "The abc module in Python is used for the following purposes:--\n",
    "\n",
    "1.Defining Abstract Base Classes (ABCs): The abc module provides the infrastructure to define abstract base classes. An abstract base class can define abstract methods, properties, and class-level attributes. Subclasses of the abstract base class are then expected to provide concrete implementations for these abstract elements.\n",
    "\n",
    "2.Enforcing Method Implementation: Abstract methods defined within an abstract base class act as placeholders that subclasses must override and implement. The use of abstract methods ensures that subclasses adhere to a certain interface or behavior defined by the abstract base class.\n",
    "\n",
    "3.Type Checking and Polymorphism: Abstract base classes can be used for type checking and to establish a common interface among related classes. By using ABCs, you can determine if an object is an instance of a particular abstract base class, even if it belongs to a subclass. This allows for polymorphism and facilitates code that can work with objects of different concrete classes as long as they share the same abstract base class."
   ]
  },
  {
   "cell_type": "markdown",
   "id": "6de36e40-2dbf-434c-9307-f56f0ac21e63",
   "metadata": {},
   "source": [
    "\n",
    "\n",
    "Q4. How can we achieve data abstraction?\n",
    "\n"
   ]
  },
  {
   "cell_type": "markdown",
   "id": "166bc719-a09e-440c-a438-7dbffd88c583",
   "metadata": {},
   "source": [
    "\n",
    "Data abstraction can be achieved in Python through the use of classes, objects, and access modifiers. Here are the steps to achieve data abstraction:\n",
    "\n",
    "1.Create a Class: Define a class that represents the abstraction you want to achieve. This class will encapsulate the data and methods related to the abstraction.\n",
    "\n",
    "2.Define Data Members: Declare private data members within the class using naming conventions such as prefixing them with an underscore (_). Private data members are not meant to be accessed directly from outside the class.\n",
    "\n",
    "3.Define Methods: Create public methods within the class that provide the necessary interface for accessing and modifying the data. These methods should encapsulate the internal implementation details and provide controlled access to the data.\n",
    "\n",
    "4.Access Modifiers: Use access modifiers such as private and public to control the visibility and accessibility of data members and methods. In Python, conventionally, a single underscore (_) prefix is used to indicate a private member, and no prefix or double underscore (__) prefix is used for public members."
   ]
  },
  {
   "cell_type": "markdown",
   "id": "f5848d85-dc28-4943-82ee-25519b3dd441",
   "metadata": {},
   "source": [
    "\n",
    "\n",
    "Q5. Can we create an instance of an abstract class? Explain your answer.\n",
    "\n"
   ]
  },
  {
   "cell_type": "markdown",
   "id": "ec1dbec5-a091-4f76-a29b-8419f87156b0",
   "metadata": {},
   "source": [
    "No, we cannot create an instance of an abstract class in Python. An abstract class is designed to be a blueprint or template for other classes to inherit from and provide their own implementations for the abstract methods defined in the abstract class.\n",
    "\n",
    "Attempting to create an instance of an abstract class directly will raise a TypeError. This is because an abstract class is incomplete and does not provide all the necessary implementations for its abstract methods. Therefore, it is not intended to be instantiated on its own.\n",
    "\n",
    "Here's an example that demonstrates the error when trying to create an instance of an abstract class:"
   ]
  },
  {
   "cell_type": "code",
   "execution_count": 5,
   "id": "c67c2787-8e96-435f-9f8b-bc63dfe9ecdc",
   "metadata": {},
   "outputs": [
    {
     "ename": "TypeError",
     "evalue": "Can't instantiate abstract class AbstractClass with abstract method abstract_method",
     "output_type": "error",
     "traceback": [
      "\u001b[0;31m---------------------------------------------------------------------------\u001b[0m",
      "\u001b[0;31mTypeError\u001b[0m                                 Traceback (most recent call last)",
      "Cell \u001b[0;32mIn[5], line 9\u001b[0m\n\u001b[1;32m      6\u001b[0m         \u001b[38;5;28;01mpass\u001b[39;00m\n\u001b[1;32m      8\u001b[0m \u001b[38;5;66;03m# Attempt to create an instance of the abstract class\u001b[39;00m\n\u001b[0;32m----> 9\u001b[0m instance \u001b[38;5;241m=\u001b[39m \u001b[43mAbstractClass\u001b[49m\u001b[43m(\u001b[49m\u001b[43m)\u001b[49m \n",
      "\u001b[0;31mTypeError\u001b[0m: Can't instantiate abstract class AbstractClass with abstract method abstract_method"
     ]
    }
   ],
   "source": [
    "from abc import ABC, abstractmethod\n",
    "\n",
    "class AbstractClass(ABC):\n",
    "    @abstractmethod\n",
    "    def abstract_method(self):\n",
    "        pass\n",
    "\n",
    "# Attempt to create an instance of the abstract class\n",
    "instance = AbstractClass() "
   ]
  }
 ],
 "metadata": {
  "kernelspec": {
   "display_name": "Python 3 (ipykernel)",
   "language": "python",
   "name": "python3"
  },
  "language_info": {
   "codemirror_mode": {
    "name": "ipython",
    "version": 3
   },
   "file_extension": ".py",
   "mimetype": "text/x-python",
   "name": "python",
   "nbconvert_exporter": "python",
   "pygments_lexer": "ipython3",
   "version": "3.10.8"
  }
 },
 "nbformat": 4,
 "nbformat_minor": 5
}
