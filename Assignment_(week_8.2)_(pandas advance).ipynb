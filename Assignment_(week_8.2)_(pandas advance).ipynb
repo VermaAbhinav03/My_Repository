{
 "cells": [
  {
   "cell_type": "markdown",
   "id": "98bfb910-a59b-45f0-9876-1f8098954567",
   "metadata": {},
   "source": [
    "Q1. List any five functions of the pandas library with execution."
   ]
  },
  {
   "cell_type": "markdown",
   "id": "1103c994-a326-4fd2-b122-b1053ed1a6f9",
   "metadata": {},
   "source": [
    "1. read_csv(): This function is used to retrieve data from CSV files and create a DataFrame."
   ]
  },
  {
   "cell_type": "code",
   "execution_count": null,
   "id": "8ca9882c-2455-4847-9a21-67ea752aec82",
   "metadata": {},
   "outputs": [],
   "source": [
    "import pandas as pd\n",
    "df = pd.read_csv(\"data.csv\")"
   ]
  },
  {
   "cell_type": "markdown",
   "id": "7f61aafe-3329-4d23-b816-33e2595da4a2",
   "metadata": {},
   "source": [
    "2. fillna(): Replace missing values (NaN) in a DataFrame with specific values or methods."
   ]
  },
  {
   "cell_type": "code",
   "execution_count": null,
   "id": "ef4babbf-d045-4def-9153-75658142095e",
   "metadata": {},
   "outputs": [],
   "source": [
    "df.fillna(0)  # Replace NaN with zeros"
   ]
  },
  {
   "cell_type": "markdown",
   "id": "ed908091-0e78-4171-900b-9ff7ffd694ad",
   "metadata": {},
   "source": [
    "3. mean() and std(): Calculate the mean and standard deviation of a Series or DataFrame."
   ]
  },
  {
   "cell_type": "code",
   "execution_count": null,
   "id": "56a571bf-9101-4b09-9e07-7248130e3a6b",
   "metadata": {},
   "outputs": [],
   "source": [
    "average_score = df[\"Score\"].mean()\n",
    "std_deviation = df[\"Score\"].std()"
   ]
  },
  {
   "cell_type": "markdown",
   "id": "18e6fc82-ae95-445f-a425-2adf8ccc7d3c",
   "metadata": {},
   "source": [
    "4. sort_values(): Sort the DataFrame based on one or more columns."
   ]
  },
  {
   "cell_type": "code",
   "execution_count": null,
   "id": "2c147348-7d81-4624-af6a-57288081fa56",
   "metadata": {},
   "outputs": [],
   "source": [
    "sorted_df = df.sort_values(by=\"Score\", ascending=False)"
   ]
  },
  {
   "cell_type": "markdown",
   "id": "acc19b28-d970-460b-aaec-b6807007cf7f",
   "metadata": {},
   "source": [
    "5. unique() and nunique(): Get unique values and count of unique values in a column."
   ]
  },
  {
   "cell_type": "code",
   "execution_count": null,
   "id": "19d1c5c6-d242-44bb-afd3-eaf20749a1ff",
   "metadata": {},
   "outputs": [],
   "source": [
    "unique_values = df[\"Category\"].unique()\n",
    "num_unique = df[\"Category\"].nunique()\n"
   ]
  },
  {
   "cell_type": "markdown",
   "id": "4c7a2df8-3770-4229-a51a-c7b13dca17d2",
   "metadata": {},
   "source": [
    "\n",
    "\n",
    "\n",
    "\n",
    "\n"
   ]
  },
  {
   "cell_type": "markdown",
   "id": "9d8bca35-d467-4995-b365-905b0d26c474",
   "metadata": {},
   "source": [
    "\n",
    "\n",
    "\n",
    "Q2. Given a Pandas DataFrame df with columns 'A', 'B', and 'C', write a Python function to re-index the\n",
    "DataFrame with a new index that starts from 1 and increments by 2 for each row."
   ]
  },
  {
   "cell_type": "code",
   "execution_count": 40,
   "id": "8ff18ba6-56ea-4be0-800b-78450d34f8cb",
   "metadata": {},
   "outputs": [],
   "source": [
    "import pandas as pd\n",
    "data = {'A': [10, 20, 30], 'B': [100, 200, 300], 'C': [1000, 2000, 3000]}\n",
    "df = pd.DataFrame(data)"
   ]
  },
  {
   "cell_type": "code",
   "execution_count": 39,
   "id": "8cc5deec-1cdf-4fe2-90c0-6d659737f1a4",
   "metadata": {},
   "outputs": [
    {
     "data": {
      "text/html": [
       "<div>\n",
       "<style scoped>\n",
       "    .dataframe tbody tr th:only-of-type {\n",
       "        vertical-align: middle;\n",
       "    }\n",
       "\n",
       "    .dataframe tbody tr th {\n",
       "        vertical-align: top;\n",
       "    }\n",
       "\n",
       "    .dataframe thead th {\n",
       "        text-align: right;\n",
       "    }\n",
       "</style>\n",
       "<table border=\"1\" class=\"dataframe\">\n",
       "  <thead>\n",
       "    <tr style=\"text-align: right;\">\n",
       "      <th></th>\n",
       "      <th>Date</th>\n",
       "    </tr>\n",
       "  </thead>\n",
       "  <tbody>\n",
       "    <tr>\n",
       "      <th>0</th>\n",
       "      <td>2023-01-01</td>\n",
       "    </tr>\n",
       "    <tr>\n",
       "      <th>1</th>\n",
       "      <td>2023-01-15</td>\n",
       "    </tr>\n",
       "    <tr>\n",
       "      <th>2</th>\n",
       "      <td>2023-02-10</td>\n",
       "    </tr>\n",
       "    <tr>\n",
       "      <th>3</th>\n",
       "      <td>2023-01-25</td>\n",
       "    </tr>\n",
       "  </tbody>\n",
       "</table>\n",
       "</div>"
      ],
      "text/plain": [
       "        Date\n",
       "0 2023-01-01\n",
       "1 2023-01-15\n",
       "2 2023-02-10\n",
       "3 2023-01-25"
      ]
     },
     "execution_count": 39,
     "metadata": {},
     "output_type": "execute_result"
    }
   ],
   "source": [
    "df"
   ]
  },
  {
   "cell_type": "code",
   "execution_count": 41,
   "id": "8f94b578-e620-4fae-96cc-b803587ace6b",
   "metadata": {},
   "outputs": [
    {
     "name": "stdout",
     "output_type": "stream",
     "text": [
      "    A    B     C\n",
      "1  10  100  1000\n",
      "3  20  200  2000\n",
      "5  30  300  3000\n"
     ]
    }
   ],
   "source": [
    "# Change index values '1' to 'January' and '4' to 'April'\n",
    "df.rename(index={0: '1', 1:'3', 2:'5'}, inplace=True)\n",
    "print(df)\n"
   ]
  },
  {
   "cell_type": "markdown",
   "id": "aef779c6-b444-4ab3-91f7-47fbe49ce009",
   "metadata": {},
   "source": [
    "\n",
    "\n",
    "\n",
    "\n",
    "\n"
   ]
  },
  {
   "cell_type": "markdown",
   "id": "7714a53d-d442-48fc-8cbe-8e72f5bbf272",
   "metadata": {},
   "source": [
    "Q3. You have a Pandas DataFrame df with a column named 'Values'. Write a Python function that\n",
    "iterates over the DataFrame and calculates the sum of the first three values in the 'Values' column. The\n",
    "function should print the sum to the console.\n",
    "For example, if the 'Values' column of df contains the values [10, 20, 30, 40, 50], your function should\n",
    "calculate and print the sum of the first three values, which is 60."
   ]
  },
  {
   "cell_type": "code",
   "execution_count": 43,
   "id": "db341c99-7c17-4f27-aaa4-8f6b205f3e3a",
   "metadata": {},
   "outputs": [],
   "source": [
    "import pandas as pd\n",
    "\n",
    "def calculate_sum_of_first_three(df):\n",
    "  \n",
    "        # Extract the 'Values' column\n",
    "        values_column = df['Values']\n",
    "\n",
    "        # Calculate the sum of the first three values\n",
    "        sum_of_first_three = values_column.iloc[:3].sum()\n",
    "\n",
    "        # Print the result\n",
    "        print(f\"Sum of the first three values: {sum_of_first_three}\")"
   ]
  },
  {
   "cell_type": "code",
   "execution_count": 44,
   "id": "01574ad7-d7fb-417a-a6ec-d77f44f687d4",
   "metadata": {},
   "outputs": [
    {
     "name": "stdout",
     "output_type": "stream",
     "text": [
      "Sum of the first three values: 60\n"
     ]
    }
   ],
   "source": [
    "# Example usage:\n",
    "data = {'Values': [10, 20, 30, 40, 50]}\n",
    "df = pd.DataFrame(data)\n",
    "calculate_sum_of_first_three(df)"
   ]
  },
  {
   "cell_type": "markdown",
   "id": "7cb9a506-e224-4858-8473-93ebb3f7d910",
   "metadata": {},
   "source": [
    "\n",
    "\n",
    "\n",
    "\n"
   ]
  },
  {
   "cell_type": "markdown",
   "id": "702d72aa-b27a-415e-8f69-e37a2ac88c81",
   "metadata": {},
   "source": [
    "Q4. Given a Pandas DataFrame df with a column 'Text', write a Python function to create a new column\n",
    "'Word_Count' that contains the number of words in each row of the 'Text' column."
   ]
  },
  {
   "cell_type": "code",
   "execution_count": 45,
   "id": "5e869bee-a595-48a0-9857-99e7bc4247f4",
   "metadata": {},
   "outputs": [
    {
     "name": "stdout",
     "output_type": "stream",
     "text": [
      "                               Text  Word_Count\n",
      "0        This is a sample sentence.           5\n",
      "1  Another example with more words.           5\n"
     ]
    }
   ],
   "source": [
    "import pandas as pd\n",
    "\n",
    "def add_word_count_column(df):\n",
    "   \n",
    "    df['Word_Count'] = df['Text'].apply(lambda x: len(x.split()))\n",
    "    return df\n",
    "\n",
    "# Example usage:\n",
    "data = {'Text': [\"This is a sample sentence.\", \"Another example with more words.\"]}\n",
    "df = pd.DataFrame(data)\n",
    "result_df = add_word_count_column(df)\n",
    "print(result_df)\n"
   ]
  },
  {
   "cell_type": "markdown",
   "id": "92500663-035e-4e43-a3ff-3f7a6828359c",
   "metadata": {},
   "source": [
    "\n",
    "\n",
    "\n"
   ]
  },
  {
   "cell_type": "markdown",
   "id": "2c53564c-2752-4ed4-bb03-74bcc09f7031",
   "metadata": {},
   "source": []
  },
  {
   "cell_type": "markdown",
   "id": "a4e13b02-fcfa-44a0-9290-cff87aa37c72",
   "metadata": {},
   "source": [
    "\n",
    "\n",
    "\n",
    "\n",
    "\n",
    "Q5. How are DataFrame.size() and DataFrame.shape() different?"
   ]
  },
  {
   "cell_type": "markdown",
   "id": "a4b59d44-5288-4556-a79f-e7188fa8ba76",
   "metadata": {},
   "source": [
    "DataFrame.size():\n",
    "The size() method returns the total number of elements in the DataFrame.\n",
    "For a Series, it returns the number of elements (rows).\n",
    "For a DataFrame, it returns the product of the number of rows and the number of columns.\n",
    "Example:"
   ]
  },
  {
   "cell_type": "code",
   "execution_count": 46,
   "id": "d5b9093a-9fe3-4bcb-a0bf-798dc7d4c8d5",
   "metadata": {},
   "outputs": [
    {
     "name": "stdout",
     "output_type": "stream",
     "text": [
      "Total elements in the DataFrame: 6\n"
     ]
    }
   ],
   "source": [
    "import pandas as pd\n",
    "\n",
    "# Create a sample DataFrame\n",
    "data = {'A': [10, 20, 30], 'B': [100, 200, 300]}\n",
    "df = pd.DataFrame(data)\n",
    "\n",
    "# Get the total number of elements (size)\n",
    "total_elements = df.size\n",
    "print(f\"Total elements in the DataFrame: {total_elements}\")\n"
   ]
  },
  {
   "cell_type": "markdown",
   "id": "6ec6435f-4769-417f-a68d-2c100d13ee26",
   "metadata": {},
   "source": [
    "DataFrame.shape():\n",
    "The shape() method returns a tuple representing the dimensionality of the DataFrame.\n",
    "It provides the number of rows and columns in the DataFrame.\n",
    "The result is in the format (rows, columns).\n",
    "Example:"
   ]
  },
  {
   "cell_type": "code",
   "execution_count": 47,
   "id": "32271cb4-32c6-484f-abb0-e37aaaec5b08",
   "metadata": {},
   "outputs": [
    {
     "name": "stdout",
     "output_type": "stream",
     "text": [
      "Number of rows: 3, Number of columns: 2\n"
     ]
    }
   ],
   "source": [
    "# Get the shape (number of rows and columns)\n",
    "num_rows, num_columns = df.shape\n",
    "print(f\"Number of rows: {num_rows}, Number of columns: {num_columns}\")\n"
   ]
  },
  {
   "cell_type": "markdown",
   "id": "0ce55e4a-8f7d-4415-a9b8-1ef0717c9f96",
   "metadata": {},
   "source": [
    "In summary:\n",
    "\n",
    "size() gives the total number of elements (rows × columns).\n",
    "shape() provides the dimensions (rows, columns) of the DataFrame."
   ]
  },
  {
   "cell_type": "markdown",
   "id": "2f5da733-274a-4276-9c46-1b87a3d5c6c5",
   "metadata": {},
   "source": [
    "\n",
    "\n",
    "\n"
   ]
  },
  {
   "cell_type": "markdown",
   "id": "28ae3ba5-3a97-476a-811e-aebadf5e96ad",
   "metadata": {},
   "source": [
    "Q6. Which function of pandas do we use to read an excel file?"
   ]
  },
  {
   "cell_type": "code",
   "execution_count": null,
   "id": "22eb9707-590d-4140-8747-ff1cbb68a3d2",
   "metadata": {},
   "outputs": [],
   "source": [
    "import pandas as pd\n",
    "\n",
    "# Read an Excel file into a Pandas DataFrame\n",
    "file_path = '/path/to/your/excel/file.xlsx'\n",
    "df = pd.read_excel(file_path)\n",
    "\n",
    "# Now you can work with the DataFrame 'df'\n",
    "print(df.head())"
   ]
  },
  {
   "cell_type": "markdown",
   "id": "e90967db-23a2-4b71-8b87-44d454043ea8",
   "metadata": {},
   "source": [
    "\n",
    "\n",
    "Q7. You have a Pandas DataFrame df that contains a column named 'Email' that contains email\n",
    "addresses in the format 'username@domain.com'. Write a Python function that creates a new column\n",
    "'Username' in df that contains only the username part of each email address.\n",
    "The username is the part of the email address that appears before the '@' symbol. For example, if the\n",
    "email address is 'john.doe@example.com', the 'Username' column should contain 'john.doe'. Your\n",
    "function should extract the username from each email address and store it in the new 'Username'\n",
    "column.\n"
   ]
  },
  {
   "cell_type": "markdown",
   "id": "08aca39d-bc3b-4f3a-8fd8-caedc625b717",
   "metadata": {},
   "source": [
    " Python function that extracts the username from each email address in the ‘Email’ column of the given DataFrame and creates a new ‘Username’ column:"
   ]
  },
  {
   "cell_type": "code",
   "execution_count": 49,
   "id": "fedd7b2b-4586-4704-bb0b-7b7284cfd3b7",
   "metadata": {},
   "outputs": [
    {
     "name": "stdout",
     "output_type": "stream",
     "text": [
      "                    Email    Username\n",
      "0    john.doe@example.com    john.doe\n",
      "1  jane.smith@example.com  jane.smith\n"
     ]
    }
   ],
   "source": [
    "import pandas as pd\n",
    "\n",
    "def extract_username(df):\n",
    "   \n",
    "    # Extract the username part before the '@' symbol\n",
    "    df['Username'] = df['Email'].str.split('@').str[0]\n",
    "    return df\n",
    "\n",
    "# Example usage:\n",
    "data = {'Email': ['john.doe@example.com', 'jane.smith@example.com']}\n",
    "df = pd.DataFrame(data)\n",
    "result_df = extract_username(df)\n",
    "print(result_df)\n"
   ]
  },
  {
   "cell_type": "markdown",
   "id": "8cf4441d-fa29-43dd-9c89-cf20ee2fb8a1",
   "metadata": {},
   "source": [
    "\n",
    "\n",
    "\n",
    "Q8. You have a Pandas DataFrame df with columns 'A', 'B', and 'C'. Write a Python function that selects\n",
    "all rows where the value in column 'A' is greater than 5 and the value in column 'B' is less than 10. The\n",
    "function should return a new DataFrame that contains only the selected rows.\n",
    "For example, if df contains the following values:            \n",
    "\n",
    "  A B C\n",
    "0 3 5 1\n",
    "1 8 2 7\n",
    "2 6 9 4\n",
    "3 2 3 5\n",
    "4 9 1 2\n",
    "\n",
    "Your function should select the following rows: A B C\n",
    "1 8 2 7\n",
    "4 9 1 2\n",
    "\n",
    "\n",
    "The function should return a new DataFrame that contains only the selected rows."
   ]
  },
  {
   "cell_type": "markdown",
   "id": "e767af0b-6651-490e-9205-70030758c296",
   "metadata": {},
   "source": [
    "Python function that selects rows from the given DataFrame df where the value in column ‘A’ is greater than 5 and the value in column ‘B’ is less than 10. It returns a new DataFrame containing only the selected rows:"
   ]
  },
  {
   "cell_type": "code",
   "execution_count": 50,
   "id": "29c8dcfb-58b3-42b0-a104-8672563c8505",
   "metadata": {},
   "outputs": [
    {
     "name": "stdout",
     "output_type": "stream",
     "text": [
      "   A  B  C\n",
      "1  8  2  7\n",
      "2  6  9  4\n",
      "4  9  1  2\n"
     ]
    }
   ],
   "source": [
    "import pandas as pd\n",
    "\n",
    "def select_rows(df):\n",
    "    \n",
    "\n",
    "    \n",
    "    selected_df = df[(df['A'] > 5) & (df['B'] < 10)]\n",
    "    return selected_df\n",
    "\n",
    "# Example usage:\n",
    "data = {'A': [3, 8, 6, 2, 9],\n",
    "        'B': [5, 2, 9, 3, 1],\n",
    "        'C': [1, 7, 4, 5, 2]}\n",
    "df = pd.DataFrame(data)\n",
    "\n",
    "# Select rows based on conditions\n",
    "selected_rows_df = select_rows(df)\n",
    "print(selected_rows_df)\n"
   ]
  },
  {
   "cell_type": "markdown",
   "id": "4440d7b6-ac85-4aa0-8e64-529788752990",
   "metadata": {},
   "source": [
    "Q9. Given a Pandas DataFrame df with a column 'Values', write a Python function to calculate the mean,\n",
    "median, and standard deviation of the values in the 'Values' column.\n"
   ]
  },
  {
   "cell_type": "code",
   "execution_count": 51,
   "id": "21f4fd3c-255e-4ede-a287-0e9fd5759f04",
   "metadata": {},
   "outputs": [
    {
     "name": "stdout",
     "output_type": "stream",
     "text": [
      "mean : 30.0 \n",
      "median : 30.0\n",
      "std : 15.811388300841896\n",
      "(None, None, None)\n"
     ]
    }
   ],
   "source": [
    "import pandas as pd\n",
    "def mean_median_std(df):\n",
    "    \n",
    "    s1 = print(f\"mean : {df['Values'].mean()} \")\n",
    "    s2 = print(f\"median : {df['Values'].median()}\")\n",
    "    s3 = print(f\"std : {df['Values'].std()}\")\n",
    "   \n",
    "    return  (s1,\n",
    "    s2,s3)\n",
    "\n",
    "\n",
    "data = {'Values': [10, 20, 30, 40, 50]}\n",
    "df = pd.DataFrame(data)\n",
    "s =  mean_median_std(df)\n",
    "print(s)"
   ]
  },
  {
   "cell_type": "markdown",
   "id": "eeae800f-5b9d-4382-a32c-01462f51e03d",
   "metadata": {},
   "source": []
  },
  {
   "cell_type": "markdown",
   "id": "5d940416-79c8-4252-aba2-8da8872a68a9",
   "metadata": {},
   "source": [
    "Q10. Given a Pandas DataFrame df with a column 'Sales' and a column 'Date', write a Python function to\n",
    "create a new column 'MovingAverage' that contains the moving average of the sales for the past 7 days\n",
    "for each row in the DataFrame. The moving average should be calculated using a window of size 7 and\n",
    "should include the current day."
   ]
  },
  {
   "cell_type": "code",
   "execution_count": 52,
   "id": "37d39e9f-3767-49c9-b1f5-e8167d5a352b",
   "metadata": {},
   "outputs": [
    {
     "name": "stdout",
     "output_type": "stream",
     "text": [
      "            Sales  MovingAverage\n",
      "Date                            \n",
      "2024-01-01     10           10.0\n",
      "2024-01-02     15           12.5\n",
      "2024-01-03     20           15.0\n",
      "2024-01-04     25           17.5\n"
     ]
    }
   ],
   "source": [
    "import pandas as pd\n",
    "\n",
    "def calculate_moving_average(df):\n",
    "   \n",
    "    try:\n",
    "        # Convert the 'Date' column to datetime if it's not already\n",
    "        df['Date'] = pd.to_datetime(df['Date'])\n",
    "\n",
    "        # Set the 'Date' column as the index\n",
    "        df.set_index('Date', inplace=True)\n",
    "\n",
    "        # Calculate the moving average with a window of size 7\n",
    "        df['MovingAverage'] = df['Sales'].rolling(window=7, min_periods=1).mean()\n",
    "\n",
    "        return df\n",
    "    except KeyError:\n",
    "        print(\"Error: 'Sales' or 'Date' column not found in the DataFrame.\")\n",
    "        return None\n",
    "\n",
    "# Example usage:\n",
    "data = {'Date': ['2024-01-01', '2024-01-02', '2024-01-03', '2024-01-04'],\n",
    "        'Sales': [10, 15, 20, 25]}\n",
    "df = pd.DataFrame(data)\n",
    "\n",
    "# Calculate the moving average\n",
    "result_df = calculate_moving_average(df)\n",
    "print(result_df)\n"
   ]
  },
  {
   "cell_type": "code",
   "execution_count": null,
   "id": "11c0c334-ce0b-4805-aaf0-863d327f06ee",
   "metadata": {},
   "outputs": [],
   "source": []
  },
  {
   "cell_type": "markdown",
   "id": "1b071e49-1b2d-438d-95ff-fc2c354cfa6f",
   "metadata": {},
   "source": [
    "Q11. You have a Pandas DataFrame df with a column 'Date'. Write a Python function that creates a new\n",
    "column 'Weekday' in the DataFrame. The 'Weekday' column should contain the weekday name (e.g.\n",
    "Monday, Tuesday) corresponding to each date in the 'Date' column.\n",
    "For example, if df contains the following values:\n",
    "    Date\n",
    "0 2023-01-01\n",
    "1 2023-01-02\n",
    "2 2023-01-03\n",
    "3 2023-01-04\n",
    "4 2023-01-05\n",
    "\n",
    "Your function should create the following DataFrame:\n",
    "    \n",
    "    Date     Weekday\n",
    "0 2023-01-01 Sunday\n",
    "1 2023-01-02 Monday\n",
    "2 2023-01-03 Tuesday\n",
    "3 2023-01-04 Wednesday\n",
    "4 2023-01-05 Thursday\n",
    "The function should return the modified DataFrame."
   ]
  },
  {
   "cell_type": "code",
   "execution_count": 53,
   "id": "376f383a-4139-4e69-80e8-a1868f615526",
   "metadata": {},
   "outputs": [
    {
     "name": "stdout",
     "output_type": "stream",
     "text": [
      "        Date    Weekday\n",
      "0 2023-01-01     Sunday\n",
      "1 2023-01-02     Monday\n",
      "2 2023-01-03    Tuesday\n",
      "3 2023-01-04  Wednesday\n",
      "4 2023-01-05   Thursday\n"
     ]
    }
   ],
   "source": [
    "import pandas as pd\n",
    "\n",
    "def add_weekday_column(df):\n",
    "   \n",
    "    try:\n",
    "        # Convert the 'Date' column to datetime if it's not already\n",
    "        df['Date'] = pd.to_datetime(df['Date'])\n",
    "\n",
    "        # Add the 'Weekday' column\n",
    "        df['Weekday'] = df['Date'].dt.strftime('%A')  # Get the full weekday name\n",
    "\n",
    "        return df\n",
    "    except KeyError:\n",
    "        print(\"Error: 'Date' column not found in the DataFrame.\")\n",
    "        return None\n",
    "\n",
    "# Example usage:\n",
    "data = {'Date': ['2023-01-01', '2023-01-02', '2023-01-03', '2023-01-04', '2023-01-05']}\n",
    "df = pd.DataFrame(data)\n",
    "\n",
    "# Add the 'Weekday' column\n",
    "result_df = add_weekday_column(df)\n",
    "print(result_df)\n"
   ]
  },
  {
   "cell_type": "markdown",
   "id": "b151cecd-9d28-4cb7-828d-9b2d1e506443",
   "metadata": {},
   "source": [
    "Q12. Given a Pandas DataFrame df with a column 'Date' that contains timestamps, write a Python\n",
    "function to select all rows where the date is between '2023-01-01' and '2023-01-31'.\n"
   ]
  },
  {
   "cell_type": "code",
   "execution_count": 38,
   "id": "9521ae25-2bad-401d-9a53-4583b0cf0701",
   "metadata": {},
   "outputs": [
    {
     "name": "stdout",
     "output_type": "stream",
     "text": [
      "        Date\n",
      "0 2023-01-01\n",
      "1 2023-01-15\n",
      "3 2023-01-25\n"
     ]
    }
   ],
   "source": [
    "import pandas as pd\n",
    "\n",
    "def select_rows_between_dates(df):\n",
    "    \n",
    "    try:\n",
    "        # Convert the 'Date' column to datetime if it's not already\n",
    "        df['Date'] = pd.to_datetime(df['Date'])\n",
    "\n",
    "        # Create a boolean mask for the date range\n",
    "        mask = (df['Date'] >= '2023-01-01') & (df['Date'] <= '2023-01-31')\n",
    "\n",
    "        # Select the rows within the date range\n",
    "        selected_df = df.loc[mask]\n",
    "\n",
    "        return selected_df\n",
    "    except KeyError:\n",
    "        print(\"Error: 'Date' column not found in the DataFrame.\")\n",
    "        return None\n",
    "\n",
    "# Example usage:\n",
    "data = {'Date': ['2023-01-01', '2023-01-15', '2023-02-10', '2023-01-25']}\n",
    "df = pd.DataFrame(data)\n",
    "\n",
    "# Select rows between '2023-01-01' and '2023-01-31'\n",
    "result_df = select_rows_between_dates(df)\n",
    "print(result_df)\n"
   ]
  },
  {
   "cell_type": "markdown",
   "id": "0e33f2c8-9771-4274-b463-0bcad570b8fa",
   "metadata": {},
   "source": [
    "Q13. To use the basic functions of pandas, what is the first and foremost necessary library that needs to\n",
    "be imported?"
   ]
  },
  {
   "cell_type": "markdown",
   "id": "9bdbcccb-d6fb-463a-a46a-f7bd39c46efa",
   "metadata": {},
   "source": [
    "To utilize Pandas functions, begin by importing the Pandas library using the standard convention: import pandas as pd. Once imported, you can access functions through the pd namespace, invoking them on data structures like DataFrames and Series"
   ]
  }
 ],
 "metadata": {
  "kernelspec": {
   "display_name": "Python 3 (ipykernel)",
   "language": "python",
   "name": "python3"
  },
  "language_info": {
   "codemirror_mode": {
    "name": "ipython",
    "version": 3
   },
   "file_extension": ".py",
   "mimetype": "text/x-python",
   "name": "python",
   "nbconvert_exporter": "python",
   "pygments_lexer": "ipython3",
   "version": "3.10.8"
  }
 },
 "nbformat": 4,
 "nbformat_minor": 5
}
