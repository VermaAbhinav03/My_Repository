{
 "cells": [
  {
   "cell_type": "markdown",
   "id": "fdd6226f-b700-4447-b697-8bc9d7f2c2b9",
   "metadata": {},
   "source": [
    "Q1. How do you comment code in Python? What are the different types of comments?\n"
   ]
  },
  {
   "cell_type": "markdown",
   "id": "219d3b26-0787-4ccc-bbea-c602539a1170",
   "metadata": {},
   "source": [
    "Ans_1.\n",
    "\n",
    "\n",
    "There are two types of comments in Python:\n",
    "\n",
    "1.Single-line comments: These comments start with a # character and only extend until the end of the line. They are used to add brief explanations or notes about specific lines of code.\n",
    "\n",
    "2.Multi-line comments (docstrings): These comments are enclosed within triple quotes (''' or \"\"\"). They can span multiple lines and are typically used for documenting modules, classes, functions, or methods. While they are not technically comments, they serve a similar purpose of providing documentation."
   ]
  },
  {
   "cell_type": "code",
   "execution_count": 2,
   "id": "e2d9f174-663c-4bc5-94e0-fa4a2fc25ac6",
   "metadata": {},
   "outputs": [
    {
     "name": "stdout",
     "output_type": "stream",
     "text": [
      "Hello, World!\n"
     ]
    }
   ],
   "source": [
    "# This is a single-line comment in Python\n",
    "print(\"Hello, World!\")  # This is another comment"
   ]
  },
  {
   "cell_type": "code",
   "execution_count": 3,
   "id": "78aafd27-1e1c-44d7-ab45-4f4815e4b0fc",
   "metadata": {},
   "outputs": [
    {
     "name": "stdout",
     "output_type": "stream",
     "text": [
      "Hello, World!\n"
     ]
    }
   ],
   "source": [
    "'''\n",
    "This is a multi-line comment (docstring) in Python.\n",
    "It can span multiple lines and is often used\n",
    "to provide detailed documentation for functions or modules.\n",
    "'''\n",
    "print(\"Hello, World!\")"
   ]
  },
  {
   "cell_type": "markdown",
   "id": "47b4a355-eaf7-4bd6-a3bd-9d1c32c06a58",
   "metadata": {},
   "source": [
    "Q2. What are variables in Python? How do you declare and assign values to variables?"
   ]
  },
  {
   "cell_type": "markdown",
   "id": "a914684c-b913-4216-abd0-6f40f6ddae78",
   "metadata": {},
   "source": [
    "Ans_2.\n",
    "\n",
    "In Python, variables are used to store and manipulate data. A variable is essentially a named storage location in the computer's memory. You can assign values to variables and use them throughout your program."
   ]
  },
  {
   "cell_type": "code",
   "execution_count": 4,
   "id": "b54dab27-084c-4804-ab37-10bbd9851a4c",
   "metadata": {},
   "outputs": [],
   "source": [
    "# Variable declaration and assignment\n",
    "x = 5"
   ]
  },
  {
   "cell_type": "code",
   "execution_count": 5,
   "id": "fb7e53f4-2074-4258-8e43-ec6e70777abc",
   "metadata": {},
   "outputs": [],
   "source": [
    "# Multiple assignment\n",
    "a, b, c = 1, 2, 3\n"
   ]
  },
  {
   "cell_type": "code",
   "execution_count": 6,
   "id": "4adcb7b3-5f26-4dc5-8e75-abb3443e5e53",
   "metadata": {},
   "outputs": [
    {
     "data": {
      "text/plain": [
       "5"
      ]
     },
     "execution_count": 6,
     "metadata": {},
     "output_type": "execute_result"
    }
   ],
   "source": [
    "x"
   ]
  },
  {
   "cell_type": "code",
   "execution_count": 7,
   "id": "f4c358c2-94af-48b0-801a-21b5541252dd",
   "metadata": {},
   "outputs": [
    {
     "data": {
      "text/plain": [
       "(1, 2, 3)"
      ]
     },
     "execution_count": 7,
     "metadata": {},
     "output_type": "execute_result"
    }
   ],
   "source": [
    "a, b, c,"
   ]
  },
  {
   "cell_type": "code",
   "execution_count": 8,
   "id": "d5eb29e7-c83c-45dd-9455-2daf52c077fa",
   "metadata": {},
   "outputs": [
    {
     "data": {
      "text/plain": [
       "1"
      ]
     },
     "execution_count": 8,
     "metadata": {},
     "output_type": "execute_result"
    }
   ],
   "source": [
    "a"
   ]
  },
  {
   "cell_type": "code",
   "execution_count": 9,
   "id": "7d9cff47-be1c-4078-970a-6f77228164e3",
   "metadata": {},
   "outputs": [],
   "source": [
    "#  In this case, the values 1, 2, and 3 are assigned to variables a, b, and c, respectively."
   ]
  },
  {
   "cell_type": "markdown",
   "id": "8fa52af2-d285-46ca-a24b-a94636e22205",
   "metadata": {},
   "source": [
    "Q3. How do you convert one data type to another in Python?\n"
   ]
  },
  {
   "cell_type": "code",
   "execution_count": 10,
   "id": "a4b0fc83-9fde-404c-b9d3-ed4d374106dd",
   "metadata": {},
   "outputs": [],
   "source": [
    "# Explicit type conversion\n",
    "x = 10\n"
   ]
  },
  {
   "cell_type": "code",
   "execution_count": 11,
   "id": "7aecf783-80ac-44c3-bcf9-cf6468f6440f",
   "metadata": {},
   "outputs": [
    {
     "data": {
      "text/plain": [
       "int"
      ]
     },
     "execution_count": 11,
     "metadata": {},
     "output_type": "execute_result"
    }
   ],
   "source": [
    "type(x)"
   ]
  },
  {
   "cell_type": "code",
   "execution_count": 12,
   "id": "5cbefe58-7a9f-4827-9171-aa573287f162",
   "metadata": {},
   "outputs": [],
   "source": [
    "y = float(x)  # Convert integer to float"
   ]
  },
  {
   "cell_type": "code",
   "execution_count": 13,
   "id": "fb90b8f7-fab2-4736-8be1-e072c953d82a",
   "metadata": {},
   "outputs": [
    {
     "data": {
      "text/plain": [
       "float"
      ]
     },
     "execution_count": 13,
     "metadata": {},
     "output_type": "execute_result"
    }
   ],
   "source": [
    "type(y)"
   ]
  },
  {
   "cell_type": "code",
   "execution_count": 14,
   "id": "eb6b24c5-b548-486a-b179-5a77d1d8ffbc",
   "metadata": {},
   "outputs": [],
   "source": [
    "z = str(x)    # Convert integer to string"
   ]
  },
  {
   "cell_type": "code",
   "execution_count": 15,
   "id": "99aa2a3c-28a4-4eab-ac34-b9f8b371caca",
   "metadata": {},
   "outputs": [
    {
     "data": {
      "text/plain": [
       "str"
      ]
     },
     "execution_count": 15,
     "metadata": {},
     "output_type": "execute_result"
    }
   ],
   "source": [
    "type(z)"
   ]
  },
  {
   "cell_type": "markdown",
   "id": "b0724e0f-4a0b-4236-84d9-c657852ce2e1",
   "metadata": {},
   "source": [
    "Q4. How do you write and execute a Python script from the command line?\n"
   ]
  },
  {
   "cell_type": "markdown",
   "id": "75c92d47-fc9c-4f8e-8cc3-b421ac7110a9",
   "metadata": {},
   "source": [
    "Ans_2.\n",
    "\n",
    "\n",
    "To write and execute a Python script from the command line, you can follow these steps:\n",
    "\n",
    "1.Open a text editor and write your Python code. Save the file with a .py extension. For example, you can create a file named myscript.py.\n",
    "\n",
    "2.Open the command line or terminal on your computer.\n",
    "\n",
    "3.Navigate to the directory where your Python script is saved using the cd command. For example, if your script is saved in the \"Documents\" folder, you can navigate to it like this:\n",
    "    \n",
    "    cd Documents\n",
    "    \n",
    "4.Once you are in the correct directory, you can execute the Python script by typing python followed by the name of your script file. For example:\n",
    "    \n",
    "    python myscript.py\n",
    "    \n",
    "    This will run the Python interpreter, which will execute the code in your script file.\n",
    "    \n",
    "5.Press Enter to run the command. The output of your script, if any, will be displayed in the command line.\n",
    "\n",
    "\n",
    "    It's important to ensure that Python is installed on your system and that it is included in your system's PATH environment variable. This allows you to run the python command from any location in the command line."
   ]
  },
  {
   "cell_type": "markdown",
   "id": "60640e5c-fdf1-4542-8ad2-5e7a24c14741",
   "metadata": {},
   "source": [
    "Q5. Given a list my_list = [1, 2, 3, 4, 5], write the code to slice the list and obtain the sub-list [2, 3].\n"
   ]
  },
  {
   "cell_type": "code",
   "execution_count": 19,
   "id": "4e9b29ed-c16f-4a86-9c35-aff68cfb3f39",
   "metadata": {},
   "outputs": [
    {
     "name": "stdout",
     "output_type": "stream",
     "text": [
      "[2, 3]\n"
     ]
    }
   ],
   "source": [
    "my_list = [1, 2, 3, 4, 5]\n",
    "sub_list = my_list[1:3]\n",
    "print(sub_list)"
   ]
  },
  {
   "cell_type": "markdown",
   "id": "26820011-d02c-438f-9ac9-d9deb1cdd5a8",
   "metadata": {},
   "source": [
    "Q6. What is a complex number in mathematics, and how is it represented in Python?\n"
   ]
  },
  {
   "cell_type": "markdown",
   "id": "c12cb371-556d-4ae4-8ef4-79982e3b2a12",
   "metadata": {},
   "source": [
    "Ans_6.\n",
    "\n",
    "\n",
    "In mathematics, a complex number is a number of the form a + bi, where a and b are real numbers, and i is the imaginary unit, defined as the square root of -1. The real part a represents the real portion of the number, while the imaginary part b represents the imaginary portion.\n",
    "\n",
    "In Python, complex numbers are represented using the complex data type. A complex number can be created by using the syntax a + bj, where a represents the real part, b represents the imaginary part, and j is used as the imaginary unit in Python (instead of i).\n",
    "\n",
    "Here's an example that demonstrates the representation of complex numbers in Python:"
   ]
  },
  {
   "cell_type": "code",
   "execution_count": 21,
   "id": "6881737c-0ee6-4563-86e7-79dc6a4a6228",
   "metadata": {},
   "outputs": [
    {
     "name": "stdout",
     "output_type": "stream",
     "text": [
      "(1+7j)\n",
      "(-14+5j)\n"
     ]
    }
   ],
   "source": [
    "# Creating complex numbers\n",
    "z1 = 2 + 3j   # 2 + 3i\n",
    "z2 = -1 + 4j  # -1 + 4i\n",
    "\n",
    "# Operations with complex numbers\n",
    "z3 = z1 + z2  # Addition: (2 + 3i) + (-1 + 4i) = 1 + 7i\n",
    "z4 = z1 * z2  # Multiplication: (2 + 3i) * (-1 + 4i) = -14 + 5i\n",
    "\n",
    "# Printing complex numbers\n",
    "print(z3)     # Output: (1+7j)\n",
    "print(z4)     # Output: (-14+5j)\n"
   ]
  },
  {
   "cell_type": "markdown",
   "id": "853b367a-6956-4cd4-ba2a-ceea45e90bcc",
   "metadata": {},
   "source": [
    "Q7. What is the correct way to declare a variable named age and assign the value 25 to it?\n"
   ]
  },
  {
   "cell_type": "markdown",
   "id": "c0fa3515-15d6-46a9-aaf3-c0e66951452d",
   "metadata": {},
   "source": [
    "Ans_7.\n",
    "\n",
    "The correct way to declare a variable named age and assign the value 25 to it in Python is as follows:"
   ]
  },
  {
   "cell_type": "code",
   "execution_count": 22,
   "id": "0a36f71b-4d8c-4244-9c4c-4a5d6d0b842e",
   "metadata": {},
   "outputs": [],
   "source": [
    "age = 25\n"
   ]
  },
  {
   "cell_type": "code",
   "execution_count": 23,
   "id": "cd58cf5a-2d22-4a1b-9a4b-846da693164b",
   "metadata": {},
   "outputs": [
    {
     "data": {
      "text/plain": [
       "25"
      ]
     },
     "execution_count": 23,
     "metadata": {},
     "output_type": "execute_result"
    }
   ],
   "source": [
    "age"
   ]
  },
  {
   "cell_type": "markdown",
   "id": "edb762a3-4b86-437a-b40c-3fa779d71dfa",
   "metadata": {},
   "source": [
    "Q8. Declare a variable named price and assign the value 9.99 to it. What data type does this variable\n",
    "belong to?\n"
   ]
  },
  {
   "cell_type": "code",
   "execution_count": 24,
   "id": "1e00b73a-a783-4375-b8ac-33251bf53e30",
   "metadata": {},
   "outputs": [],
   "source": [
    "price = 9.99\n"
   ]
  },
  {
   "cell_type": "code",
   "execution_count": 25,
   "id": "84a7dda0-584e-41fe-8ee8-9c737aa1775d",
   "metadata": {},
   "outputs": [
    {
     "data": {
      "text/plain": [
       "float"
      ]
     },
     "execution_count": 25,
     "metadata": {},
     "output_type": "execute_result"
    }
   ],
   "source": [
    "type(price)"
   ]
  },
  {
   "cell_type": "markdown",
   "id": "f7f52a61-b55c-47d8-b8f6-22145a921ae9",
   "metadata": {},
   "source": [
    "Q9. Create a variable named name and assign your full name to it as a string. How would you print the\n",
    "value of this variable?\n"
   ]
  },
  {
   "cell_type": "code",
   "execution_count": 26,
   "id": "52eaa280-7767-4fe6-86cf-2f800652c06f",
   "metadata": {},
   "outputs": [],
   "source": [
    "name = \"Abhinav Verma\"\n"
   ]
  },
  {
   "cell_type": "code",
   "execution_count": 27,
   "id": "376e2c93-1e11-4229-b457-54a43d3419fd",
   "metadata": {},
   "outputs": [
    {
     "name": "stdout",
     "output_type": "stream",
     "text": [
      "Abhinav Verma\n"
     ]
    }
   ],
   "source": [
    "print(name)\n"
   ]
  },
  {
   "cell_type": "markdown",
   "id": "9f05794d-bfe7-41f7-9080-99ba690453d1",
   "metadata": {},
   "source": [
    "Q10. Given the string \"Hello, World!\", extract the substring \"World\".\n"
   ]
  },
  {
   "cell_type": "code",
   "execution_count": 28,
   "id": "187cff3d-108b-439f-89bd-bcda4785928f",
   "metadata": {},
   "outputs": [
    {
     "name": "stdout",
     "output_type": "stream",
     "text": [
      "World\n"
     ]
    }
   ],
   "source": [
    "s = \"Hello, World!\"\n",
    "substring = s[7:12]\n",
    "print(substring)\n"
   ]
  },
  {
   "cell_type": "markdown",
   "id": "24064f88-769d-4671-aaba-549d0e489a0a",
   "metadata": {},
   "source": [
    "Q11. Create a variable named \"is_student\" and assign it a boolean value indicating whether you are\n",
    "currently a student or not."
   ]
  },
  {
   "cell_type": "markdown",
   "id": "c7baac5b-9948-4a49-8e15-a773653f1be7",
   "metadata": {},
   "source": [
    "Ans_11.\n",
    "\n",
    "To create a variable named is_student and assign it a boolean value indicating whether you are currently a student or not, you can use the following code:"
   ]
  },
  {
   "cell_type": "code",
   "execution_count": 30,
   "id": "9118d10d-235c-4ebf-8530-f9753ecef10f",
   "metadata": {},
   "outputs": [],
   "source": [
    "is_student = True\n"
   ]
  },
  {
   "cell_type": "markdown",
   "id": "c8d6813a-ecca-49ba-b689-425ffca795c9",
   "metadata": {},
   "source": [
    "In this code, the variable is_student is declared and assigned the boolean value True. If you are currently a student, you can keep the value as True. If you are not a student, you can assign the value False.\n",
    "\n",
    "By assigning a boolean value (True or False) to the variable is_student, you can indicate whether you are currently a student or not."
   ]
  }
 ],
 "metadata": {
  "kernelspec": {
   "display_name": "Python 3 (ipykernel)",
   "language": "python",
   "name": "python3"
  },
  "language_info": {
   "codemirror_mode": {
    "name": "ipython",
    "version": 3
   },
   "file_extension": ".py",
   "mimetype": "text/x-python",
   "name": "python",
   "nbconvert_exporter": "python",
   "pygments_lexer": "ipython3",
   "version": "3.10.8"
  }
 },
 "nbformat": 4,
 "nbformat_minor": 5
}
