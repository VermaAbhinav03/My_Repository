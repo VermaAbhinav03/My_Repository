{
 "cells": [
  {
   "cell_type": "code",
   "execution_count": 9,
   "id": "2dfee890-175b-4941-b23d-86de90f99497",
   "metadata": {},
   "outputs": [
    {
     "ename": "SyntaxError",
     "evalue": "invalid syntax (2977807913.py, line 1)",
     "output_type": "error",
     "traceback": [
      "\u001b[0;36m  Cell \u001b[0;32mIn[9], line 1\u001b[0;36m\u001b[0m\n\u001b[0;31m    Go to this given URL and solve the following questions\u001b[0m\n\u001b[0m       ^\u001b[0m\n\u001b[0;31mSyntaxError\u001b[0m\u001b[0;31m:\u001b[0m invalid syntax\n"
     ]
    }
   ],
   "source": [
    "Go to this given URL and solve the following questions\n",
    "URL: https://www.youtube.com/@PW-Foundation/videos\n",
    "Q1. Write a python program to extract the video URL of the first five videos.\n",
    "Q2. Write a python program to extract the URL of the video thumbnails of the first five videos.\n",
    "Q3. Write a python program to extract the title of the first five videos.\n",
    "Q4. Write a python program to extract the number of views of the first five videos.\n",
    "Q5. Write a python program to extract the time of posting of video for the first five videos."
   ]
  },
  {
   "cell_type": "markdown",
   "id": "34cfed2b-0fc3-4419-98bb-f1dbac49e4ed",
   "metadata": {},
   "source": [
    "Q1. Write a python program to extract the video URL of the first five videos."
   ]
  },
  {
   "cell_type": "code",
   "execution_count": 14,
   "id": "4dfe0875-03a0-42e2-add9-4a7c61a9b1b9",
   "metadata": {},
   "outputs": [
    {
     "name": "stdout",
     "output_type": "stream",
     "text": [
      "https://www.youtube.com/watch?v=WfSRHasx6ck\n",
      "https://www.youtube.com/watch?v=_UuX9c60kmY\n",
      "https://www.youtube.com/watch?v=jpZZbiQAs_A\n",
      "https://www.youtube.com/watch?v=ZtU889RkJDc\n",
      "https://www.youtube.com/watch?v=Oowq9C2LedA\n"
     ]
    }
   ],
   "source": [
    "import re\n",
    "import json\n",
    "import requests\n",
    "from bs4 import BeautifulSoup as bs\n",
    "from urllib.request import urlopen\n",
    "\n",
    "youtube_search = \"https://www.youtube.com/@PW-Foundation/videos\"\n",
    "\n",
    "url_search = urlopen(youtube_search)\n",
    "youtube_page = url_search.read()\n",
    "\n",
    "\n",
    "youtube_html = bs(youtube_page, \"html.parser\")\n",
    "\n",
    "\n",
    "pattern = r'<script nonce=\"[-\\w]+\">\\n\\s+var ytInitialData = (.+)'\n",
    "script_data = re.search(pattern=pattern, string=youtube_html.prettify())[1].replace(';', '')\n",
    "\n",
    "\n",
    "json_data = json.loads(script_data)\n",
    "\n",
    "videos_container = json_data['contents']['twoColumnBrowseResultsRenderer']['tabs'][1]['tabRenderer']['content']['richGridRenderer']['contents']\n",
    "\n",
    "for video in videos_container[:5]:\n",
    "    video_id = video['richItemRenderer']['content']['videoRenderer']['videoId']\n",
    "    video_url = f\"https://www.youtube.com/watch?v={video_id}\"\n",
    "    print(video_url)\n"
   ]
  },
  {
   "cell_type": "markdown",
   "id": "8392010a-5536-44d1-9adb-32dda16a766d",
   "metadata": {},
   "source": [
    "Q2. Write a python program to extract the URL of the video thumbnails of the first five videos."
   ]
  },
  {
   "cell_type": "code",
   "execution_count": 15,
   "id": "8b569a5b-4fa2-43db-881d-99ba40c2726e",
   "metadata": {},
   "outputs": [
    {
     "name": "stdout",
     "output_type": "stream",
     "text": [
      "https://i.ytimg.com/vi/WfSRHasx6ck/hqdefault.jpg?sqp=-oaymwEiCKgBEF5IWvKriqkDFQgBFQAAAAAYASUAAMhCPQCAokN4AQ==&rs=AOn4CLBLC-fEVBOCipb1Om9-9ub5tlzojA\n",
      "https://i.ytimg.com/vi/_UuX9c60kmY/hqdefault.jpg?sqp=-oaymwEiCKgBEF5IWvKriqkDFQgBFQAAAAAYASUAAMhCPQCAokN4AQ==&rs=AOn4CLBdZ0UyS7Wjcp5dcU3m7VVnNz48kA\n",
      "https://i.ytimg.com/vi/jpZZbiQAs_A/hqdefault.jpg?sqp=-oaymwEiCKgBEF5IWvKriqkDFQgBFQAAAAAYASUAAMhCPQCAokN4AQ==&rs=AOn4CLBXUotjmf4B14zkDJlCwaiF_7tFyQ\n",
      "https://i.ytimg.com/vi/ZtU889RkJDc/hqdefault.jpg?sqp=-oaymwEiCKgBEF5IWvKriqkDFQgBFQAAAAAYASUAAMhCPQCAokN4AQ==&rs=AOn4CLC2pzEhYc-TmvhCiCkH2M-osJMikw\n",
      "https://i.ytimg.com/vi/Oowq9C2LedA/hqdefault.jpg?sqp=-oaymwEiCKgBEF5IWvKriqkDFQgBFQAAAAAYASUAAMhCPQCAokN4AQ==&rs=AOn4CLDh4f4hBlex6kXGK3VbHpbfjGRw0w\n"
     ]
    }
   ],
   "source": [
    "for video in videos_container[:5]:\n",
    "    thumbnail_url = video['richItemRenderer']['content']['videoRenderer']['thumbnail']['thumbnails'][0]['url']\n",
    "    print(thumbnail_url)\n"
   ]
  },
  {
   "cell_type": "markdown",
   "id": "2317c5f5-7f1c-45e3-8a26-71fa2a1e6067",
   "metadata": {},
   "source": [
    "Q3. Write a python program to extract the title of the first five videos."
   ]
  },
  {
   "cell_type": "code",
   "execution_count": 16,
   "id": "fab9bbb7-6fd3-4370-8e09-58870bc5a06f",
   "metadata": {},
   "outputs": [
    {
     "name": "stdout",
     "output_type": "stream",
     "text": [
      "Ab Nahi To Kab ? 😰 || A Must Watch Video For Class 9th & 10th 💯\n",
      "POWERFUL Tips To Become A TOPPER in Class 9th & 10th | WATCH This VIDEO 🚨\n",
      "New Batches For Class 11th Students 🔥 | JEE / NEET, SCIENCE Batch, or NDA Foundation? 🤔\n",
      "Launching Aarambh 2025 & Aarambh PRO 2025 Batch 🔥🔥 For Class 11th Commerce\n",
      "Launching NEEV Batch For Class 9th CBSE Students | Score 95%+ in Class 9th 2025 🎯\n"
     ]
    }
   ],
   "source": [
    "for video in videos_container[:5]:\n",
    "    video_title = video['richItemRenderer']['content']['videoRenderer']['title']['runs'][0]['text']\n",
    "    print(video_title)\n"
   ]
  },
  {
   "cell_type": "markdown",
   "id": "29c9fe35-873b-42b8-866b-9d45e31b1155",
   "metadata": {},
   "source": [
    "Q4. Write a python program to extract the number of views of the first five videos."
   ]
  },
  {
   "cell_type": "code",
   "execution_count": 11,
   "id": "4d7a5c33-dacb-4bf4-9eda-9bd26b5de576",
   "metadata": {},
   "outputs": [
    {
     "name": "stdout",
     "output_type": "stream",
     "text": [
      "15,735 views\n",
      "32,538 views\n",
      "148,367 views\n",
      "97,338 views\n",
      "15,873 views\n"
     ]
    }
   ],
   "source": [
    "for video in videos_container[:5]:\n",
    "    view_count = video['richItemRenderer']['content']['videoRenderer'].get('viewCountText', {}).get('simpleText', 'N/A')\n",
    "    print(view_count)\n"
   ]
  },
  {
   "cell_type": "markdown",
   "id": "b970054a-3d30-4ba8-b2be-50e193e92de1",
   "metadata": {},
   "source": [
    "Q5. Write a python program to extract the time of posting of video for the first five videos."
   ]
  },
  {
   "cell_type": "code",
   "execution_count": 12,
   "id": "0bd1147e-885a-4a29-bdde-d42d71a96960",
   "metadata": {},
   "outputs": [
    {
     "name": "stdout",
     "output_type": "stream",
     "text": [
      "4 days ago\n",
      "4 days ago\n",
      "5 days ago\n",
      "5 days ago\n",
      "6 days ago\n"
     ]
    }
   ],
   "source": [
    "for video in videos_container[:5]:\n",
    "    published_time = video['richItemRenderer']['content']['videoRenderer']['publishedTimeText']['simpleText']\n",
    "    print(published_time)\n"
   ]
  },
  {
   "cell_type": "code",
   "execution_count": null,
   "id": "6847a83c-8b36-47b9-8e92-25c6a4c8600a",
   "metadata": {},
   "outputs": [],
   "source": []
  }
 ],
 "metadata": {
  "kernelspec": {
   "display_name": "Python 3 (ipykernel)",
   "language": "python",
   "name": "python3"
  },
  "language_info": {
   "codemirror_mode": {
    "name": "ipython",
    "version": 3
   },
   "file_extension": ".py",
   "mimetype": "text/x-python",
   "name": "python",
   "nbconvert_exporter": "python",
   "pygments_lexer": "ipython3",
   "version": "3.10.8"
  }
 },
 "nbformat": 4,
 "nbformat_minor": 5
}
