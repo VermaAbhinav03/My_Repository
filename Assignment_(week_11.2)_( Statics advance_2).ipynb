{
 "cells": [
  {
   "cell_type": "markdown",
   "id": "e581ef51-f81f-42f5-84b2-8b2cf979dbe7",
   "metadata": {},
   "source": [
    "Q1: What are the Probability Mass Function (PMF) and Probability Density Function (PDF)? Explain with\n",
    "an example."
   ]
  },
  {
   "cell_type": "markdown",
   "id": "dca7f0ee-fc1f-4e5d-a5a9-c98698a2a04c",
   "metadata": {},
   "source": [
    "1. Probability Mass Function (PMF):\n",
    "The PMF characterizes the distribution of a discrete random variable. It provides the probabilities associated with specific discrete outcomes.\n",
    "For a discrete random variable X, the PMF is denoted as P(X = x) or f(x), where x represents a particular value in the range of X.\n",
    "Key properties of the PMF:\n",
    "Non-negativity: (P(X = x) = f(x) > 0) for all (x) in the range of (X).\n",
    "The PMF is used to calculate probabilities for specific events in discrete scenarios.\n",
    "Example: Consider a fair six-sided die. Let (X) represent the outcome of a single roll. The PMF for (X) is:\n",
    "(P(X = 1) = P(X = 2) = P(X = 3) = P(X = 4) = P(X = 5) = P(X = 6) = 1/6).\n",
    "\n",
    "2.Probability Density Function (PDF):\n",
    "The PDF is associated with continuous random variables. Unlike the PMF, it deals with intervals rather than specific values.\n",
    "For a continuous random variable Y, the PDF is denoted as (f_Y(y)).\n",
    "Key properties of the PDF:\n",
    "Non-negativity: (f_Y(y) \\geq 0) for all (y).\n",
    "Area under the curve: The integral of the PDF over an interval yields the probability of the random variable falling within that interval.\n",
    "The PDF is used in continuous probability distributions (e.g., normal distribution, exponential distribution).\n",
    "Example: Consider a uniform distribution on the interval ([0, 1]). The PDF is:\n",
    "(f_Y(y) = 1) for (0 \\leq y \\leq 1), and (f_Y(y) = 0) otherwise."
   ]
  },
  {
   "cell_type": "markdown",
   "id": "36e273fc-71f8-4879-9c0b-713c77411186",
   "metadata": {},
   "source": [
    "Q2: What is Cumulative Density Function (CDF)? Explain with an example. Why CDF is used?"
   ]
  },
  {
   "cell_type": "markdown",
   "id": "35c7f825-42a0-4849-abfa-6d368bf917a3",
   "metadata": {},
   "source": [
    "Cumulative Distribution Function (CDF):\n",
    "The CDF provides a way to describe the probability distribution of a random variable. Specifically, it gives the probability that the variable takes a value less than or equal to a certain cutoff.\n",
    "For a real-valued random variable X, the CDF is denoted as (F_X(x)) and is defined as: [ F_X(x) = P(X \\leq x) ]\n",
    "Key points about the CDF:\n",
    "It applies to both discrete and continuous random variables.\n",
    "It helps us understand how the probability accumulates as we move along the range of possible values.\n",
    "The CDF is non-decreasing and right-continuous.\n",
    "\n",
    "Example:\n",
    "Consider a continuous random variable representing the height (in centimeters) of adult males. Let’s say the PDF (probability density function) of this variable is given by: [ f_X(x) = \\frac{1}{100} \\quad \\text{for } 150 \\leq x \\leq 250 ]\n",
    "To find the CDF, we integrate the PDF from negative infinity up to a specific value (x): [ F_X(x) = \\int_{-\\infty}^{x} f_X(t) , dt ]\n",
    "For instance:\n",
    "(F_X(180) = \\int_{150}^{180} \\frac{1}{100} , dt = 0.3)\n",
    "(F_X(200) = \\int_{150}^{200} \\frac{1}{100} , dt = 0.5)\n",
    "(F_X(230) = \\int_{150}^{230} \\frac{1}{100} , dt = 0.8)\n",
    "\n",
    "\n",
    "\n",
    "Why CDF is Used:\n",
    "The CDF serves several purposes:\n",
    "Quantifying probabilities: It directly provides probabilities for specific events (e.g., (P(X \\leq x))).\n",
    "Comparison: We can compare probabilities between different values.\n",
    "Reliability analysis: In engineering and reliability studies, CDF helps assess the likelihood of failure.\n",
    "Statistical inference: CDF plays a role in hypothesis testing and confidence intervals."
   ]
  },
  {
   "cell_type": "markdown",
   "id": "b1702970-7e8a-4374-b4a6-674017bb3f37",
   "metadata": {},
   "source": [
    "Q3: What are some examples of situations where the normal distribution might be used as a model?\n",
    "Explain how the parameters of the normal distribution relate to the shape of the distribution."
   ]
  },
  {
   "cell_type": "markdown",
   "id": "d486e50c-a997-448b-bf8c-963ea8aa790c",
   "metadata": {},
   "source": [
    "Height of People:\n",
    "The height of individuals in a specific population often follows a normal distribution.\n",
    "Most people cluster around the average height, with fewer individuals being either extremely tall or extremely short.\n",
    "Parameters:\n",
    "Mean (μ): Determines the center of the distribution (average height).\n",
    "Standard deviation (σ): Controls the spread or variability of heights around the mean.\n",
    "Rolling a Dice:\n",
    "The probabilities associated with rolling a fair six-sided die follow a normal distribution.\n",
    "When we roll the die multiple times, the distribution of outcomes converges toward a bell-shaped curve.\n",
    "Parameters:\n",
    "Mean (μ): Not applicable (since discrete outcomes).\n",
    "Standard deviation (σ): Not applicable.\n",
    "Tossing a Coin:\n",
    "Flipping a coin is a classic example of a binary outcome (heads or tails).\n",
    "The probabilities of getting heads or tails follow a normal distribution.\n",
    "Parameters:\n",
    "Mean (μ): Not applicable (since binary outcomes).\n",
    "Standard deviation (σ): Not applicable.\n",
    "IQ Scores:\n",
    "IQ scores in a population exhibit a normal distribution.\n",
    "Most people fall within the average IQ range, with fewer individuals having significantly higher or lower IQs.\n",
    "Parameters:\n",
    "Mean (μ): Represents the average IQ.\n",
    "Standard deviation (σ): Reflects the variability of IQ scores around the mean.\n",
    "Technical Stock Market Returns:\n",
    "Daily stock market returns often follow a normal distribution.\n",
    "Traders and investors use this assumption for risk analysis and portfolio management.\n",
    "Parameters:\n",
    "Mean (μ): Expected average return.\n",
    "Standard deviation (σ): Measures volatility or risk.\n",
    "Blood Pressure:\n",
    "Blood pressure readings in a population tend to be normally distributed.\n",
    "Most individuals have blood pressure values around the average, with fewer extreme values.\n",
    "Parameters:\n",
    "Mean (μ): Represents the average blood pressure.\n",
    "Standard deviation (σ): Indicates the variability of blood pressure readings."
   ]
  },
  {
   "cell_type": "markdown",
   "id": "f3eeca73-f67f-4ab4-82a7-faf9e6ba1f8f",
   "metadata": {},
   "source": [
    "Q4: Explain the importance of Normal Distribution. Give a few real-life examples of Normal\n",
    "Distribution."
   ]
  },
  {
   "cell_type": "markdown",
   "id": "86432472-b560-49c7-a062-604f26281dd5",
   "metadata": {},
   "source": [
    "Importance of Normal Distribution:\n",
    "The normal distribution, also known as the Gaussian distribution, is fundamental in statistics and probability theory.\n",
    "Its significance lies in its widespread applicability to model various natural and social phenomena.\n",
    "Key properties of the normal distribution:\n",
    "Bell-shaped: The curve is symmetric around its mean.\n",
    "Unimodal: It has one peak.\n",
    "Mean and median equality: Both are located at the center of the distribution.\n",
    "Standard deviation: Determines the spread or variability.\n",
    "Empirical Rule: Describes the proportion of data within specific standard deviation intervals.\n",
    "Real-Life Examples of Normal Distribution:\n",
    "Birthweight of Babies:\n",
    "Newborn babies’ birthweights follow a normal distribution with a mean of approximately 7.5 pounds.\n",
    "Most babies cluster around the average weight, with fewer extreme values.\n",
    "Height of Males:\n",
    "The height of adult males in the U.S. is roughly normally distributed.\n",
    "The mean height is around 70 inches, with a standard deviation of 3 inches.\n",
    "Shoe Sizes:\n",
    "Shoe sizes for males exhibit a normal distribution.\n",
    "The mean shoe size is typically around 10, with a standard deviation of 1."
   ]
  },
  {
   "cell_type": "markdown",
   "id": "0d3fe130-aa34-422b-8468-d86fcd71b4b5",
   "metadata": {},
   "source": [
    "Q5: What is Bernaulli Distribution? Give an Example. What is the difference between Bernoulli\n",
    "Distribution and Binomial Distribution?"
   ]
  },
  {
   "cell_type": "markdown",
   "id": "5b024d62-8b0e-4e3c-ae93-dde028f10aae",
   "metadata": {},
   "source": [
    "Bernoulli Distribution:\n",
    "The Bernoulli distribution models a single trial of an experiment with only two possible outcomes (usually labeled as “Success” or “Failure”).\n",
    "Key points:\n",
    "The random variable in a Bernoulli trial can take values 0 (failure) or 1 (success).\n",
    "Denote the probability of success as (p) and the probability of failure as (q = 1 - p).\n",
    "Examples of Bernoulli trials include coin flips (heads/tails), pass/fail exams, or yes/no responses.\n",
    "Examples:\n",
    "Coin Toss:\n",
    "Outcome: Heads (success) or Tails (failure).\n",
    "Probability of heads ((p)): 0.5 for a fair coin.\n",
    "Disease Prevalence:\n",
    "Outcome: Diseased (success) or Healthy (failure).\n",
    "Probability of disease ((p)): 0.1 (10% prevalence).\n",
    "Binomial Distribution:\n",
    "The binomial distribution describes the number of successes in a fixed number of independent Bernoulli trials.\n",
    "Key points:\n",
    "It summarizes the probabilities of different numbers of successes (e.g., getting heads a certain number of times in multiple coin flips).\n",
    "Parameters: (n) (number of trials), (k) (number of successes), and (p) (probability of success in each trial).\n",
    "Formula for probability of (k) successes: (P(X = k) = \\binom{n}{k} \\cdot p^k \\cdot q^{n-k}).\n",
    "Examples:\n",
    "Multiple Coin Flips:\n",
    "Outcome: Number of heads in (n) coin flips.\n",
    "Probability of heads ((p)): 0.5.\n",
    "Exam Scores:\n",
    "Outcome: Number of students passing out of (n) students.\n",
    "Probability of passing ((p)): 0.8.\n",
    "Differences Between Bernoulli and Binomial:\n",
    "Number of Trials:\n",
    "Bernoulli: Single trial.\n",
    "Binomial: Multiple independent trials.\n",
    "Possible Values:\n",
    "Bernoulli: Only 0 or 1.\n",
    "Binomial: Several values (0 to (n)).\n",
    "Parameters:\n",
    "Bernoulli: Only (p).\n",
    "Binomial: (n), (k), and (p)."
   ]
  },
  {
   "cell_type": "markdown",
   "id": "49af2566-1772-409c-9fbb-22fd829325f9",
   "metadata": {},
   "source": [
    "Q6. Consider a dataset with a mean of 50 and a standard deviation of 10. If we assume that the dataset\n",
    "is normally distributed, what is the probability that a randomly selected observation will be greater\n",
    "than 60? Use the appropriate formula and show your calculations."
   ]
  },
  {
   "cell_type": "markdown",
   "id": "0f509b17-2e4e-43a5-a54a-a97d999ea7f4",
   "metadata": {},
   "source": [
    " Let’s find the probability that a randomly selected observation from a normally distributed dataset with a mean of 50 and a standard deviation of 10 will be greater than 60.\n",
    "\n",
    "We’ll use the z-score approach to calculate this probability:\n",
    "\n",
    "Find the z-score: [ z = \\frac{{x - \\mu}}{{\\sigma}} ] where:\n",
    "(x) is the value we’re interested in (60 in this case).\n",
    "(\\mu) is the mean (50).\n",
    "(\\sigma) is the standard deviation (10).\n",
    "Plugging in the values: [ z = \\frac{{60 - 50}}{{10}} = 1 ]\n",
    "Use the z-table: We’ll look up the z-score of 1 in the standard normal distribution table (z-table). The value corresponding to a z-score of 1 is approximately 0.8413.\n",
    "Calculate the probability: Since we want the probability that the observation is greater than 60, we subtract the value obtained from 1: [ P(X > 60) = 1 - 0.8413 = 0.1587 ]\n",
    "Therefore, the probability that a randomly selected observation will be greater than 60 is approximately 0.1587 or 15.87%."
   ]
  },
  {
   "cell_type": "markdown",
   "id": "7fab1cf3-26af-4ea4-b2d3-571f7126176c",
   "metadata": {},
   "source": [
    "Q7: Explain uniform Distribution with an example."
   ]
  },
  {
   "cell_type": "markdown",
   "id": "cb6917b4-84e1-4ce9-b88b-e46544f66207",
   "metadata": {},
   "source": [
    "Uniform Distribution:\n",
    "The uniform distribution is a type of probability distribution where all outcomes are equally likely to occur.\n",
    "Key characteristics:\n",
    "Constant probability: All values in the distribution have the same probability of occurring.\n",
    "Symmetric shape: The probability density remains constant over a specified interval.\n",
    "Defined by two parameters: The minimum value ((x)) and the maximum value ((y)).\n",
    "It is often denoted as (U(x, y)).\n",
    "Example: Seat Selection in a Theater:\n",
    "Imagine a theater with 10,000 seats.\n",
    "Each seat is equally likely to be chosen by an audience member.\n",
    "The probability of selecting any individual seat is (1/10,000).\n",
    "Whether you choose seat 1, seat 2, or any other seat, the likelihood remains the same."
   ]
  },
  {
   "cell_type": "markdown",
   "id": "b961d71f-625d-45ed-b2ff-26421cdef9bb",
   "metadata": {},
   "source": [
    "Q8: What is the z score? State the importance of the z score."
   ]
  },
  {
   "cell_type": "markdown",
   "id": "1babdb08-d8c4-48c1-aaa4-97567765e48e",
   "metadata": {},
   "source": [
    "The z-score is a statistical measure that quantifies how far a data point deviates from the mean of a dataset, expressed in terms of standard deviations. Let’s explore its definition, formula, and importance:\n",
    "\n",
    "Definition:\n",
    "The z-score (also known as the standard score) provides a standardized way to assess where an individual data point falls within a distribution.\n",
    "It measures the distance between a specific observation and the mean using standard deviations.\n",
    "The z-score can be positive or negative, indicating whether the observation is above or below the mean.\n",
    "Formula for Z-Score:\n",
    "Given a data point (X), the mean (\\mu), and the standard deviation (\\sigma), the z-score is calculated as: [ z = \\frac{{X - \\mu}}{{\\sigma}} ]\n",
    "Importance of Z-Score:\n",
    "Understanding Relative Position:\n",
    "Z-scores allow us to understand where a specific observation fits into a distribution.\n",
    "For example, an SAT score of 1340 might not be meaningful on its own, but a z-score of +2 indicates that it’s significantly above the mean.\n",
    "Comparing Dissimilar Variables:\n",
    "In cases where raw test scores lack real-world interpretations (e.g., SAT, ACT, GRE), z-scores help compare observations across different variables.\n",
    "Z-scores provide a common scale for comparison.\n",
    "Identifying Outliers:\n",
    "Extreme z-scores (far from zero) can indicate outliers.\n",
    "Outliers may be data points that deviate significantly from the norm.\n",
    "Calculating Probabilities and Percentiles:\n",
    "Z-scores are essential for calculating probabilities using the standard normal distribution (z-tables).\n",
    "They help find percentiles (e.g., the top 10% of scores).\n",
    "Hypothesis Testing:\n",
    "Z-scores play a crucial role in hypothesis testing, especially in Z-tests.\n",
    "They allow us to assess whether observed differences are statistically significant."
   ]
  },
  {
   "cell_type": "markdown",
   "id": "9bea0a4a-d37f-405f-8c64-56a68837da4b",
   "metadata": {},
   "source": [
    "Q9: What is Central Limit Theorem? State the significance of the Central Limit Theorem."
   ]
  },
  {
   "cell_type": "markdown",
   "id": "00c923db-db61-4912-8925-a1d9a33119d3",
   "metadata": {},
   "source": [
    "The Central Limit Theorem (CLT) is a fundamental concept in statistics that has far-reaching implications. Let’s explore its definition and significance:\n",
    "\n",
    "Definition of Central Limit Theorem (CLT):\n",
    "The Central Limit Theorem states that, regardless of the shape of the original population distribution, the distribution of sample means (from sufficiently large random samples) will approximate a normal distribution.\n",
    "In other words, as we repeatedly sample from a population and calculate the mean of each sample, the resulting distribution of those sample means will tend to be bell-shaped (normal).\n",
    "Key Characteristics of the CLT:\n",
    "The CLT holds under the following conditions:\n",
    "The sample size ((n)) is sufficiently large (typically (n \\geq 30)).\n",
    "The samples are drawn independently.\n",
    "The population has a finite variance (or standard deviation).\n",
    "Significance of the Central Limit Theorem:\n",
    "1. Robustness to Population Distribution:\n",
    "The CLT allows us to make inferences about population parameters (such as the mean) even when we don’t know the exact shape of the population distribution.\n",
    "It bridges the gap between real-world data (which may not be normally distributed) and theoretical statistical methods (which often assume normality).\n",
    "2. Confidence Intervals and Hypothesis Testing:\n",
    "The CLT is crucial for constructing confidence intervals around sample statistics (e.g., mean, proportion).\n",
    "It enables us to perform hypothesis tests by comparing sample statistics to hypothesized population parameters.\n",
    "3. Real-Life Applications:\n",
    "The CLT is widely used in fields such as quality control, finance, social sciences, and engineering.\n",
    "It allows us to analyze data even when the underlying distribution is unknown or complex.\n",
    "4. Election Polls and Surveys:\n",
    "When estimating proportions (e.g., political support), the CLT helps calculate confidence intervals.\n",
    "News outlets often report poll results with confidence intervals based on the CLT.\n",
    "5. Normal Approximation:\n",
    "The CLT justifies why the normal distribution is frequently used in statistical modeling.\n",
    "Many statistical techniques (e.g., t-tests, ANOVA) rely on the assumption of normality, which is often justified by the CLT."
   ]
  },
  {
   "cell_type": "code",
   "execution_count": null,
   "id": "763a1e0b-d4ce-415b-a53c-3b9129bf3692",
   "metadata": {},
   "outputs": [],
   "source": [
    "Q10: State the assumptions of the Central Limit Theorem."
   ]
  },
  {
   "cell_type": "code",
   "execution_count": null,
   "id": "4bf65045-6302-4176-9c1c-b5fb0864afae",
   "metadata": {},
   "outputs": [],
   "source": [
    "The Central Limit Theorem (CLT) is a powerful concept in statistics, but it relies on specific assumptions. Let’s discuss these assumptions:\n",
    "\n",
    "Random Sampling:\n",
    "The samples should be drawn randomly from the population.\n",
    "Random sampling ensures that each observation has an equal chance of being included in the sample.\n",
    "Independence of Samples:\n",
    "The samples should be independent of each other.\n",
    "Independence means that the outcome of one sample does not influence the outcome of another sample.\n",
    "Sample Size:\n",
    "The sample size should be sufficiently large (typically (n \\geq 30)).\n",
    "Larger sample sizes lead to better approximations of normality.\n",
    "However, for small sample sizes, the CLT may still hold if the population distribution is approximately normal.\n",
    "Population Variance:\n",
    "The population should have a finite variance (or standard deviation).\n",
    "This assumption ensures that the sample means are well-behaved and converge to a normal distribution."
   ]
  }
 ],
 "metadata": {
  "kernelspec": {
   "display_name": "Python 3 (ipykernel)",
   "language": "python",
   "name": "python3"
  },
  "language_info": {
   "codemirror_mode": {
    "name": "ipython",
    "version": 3
   },
   "file_extension": ".py",
   "mimetype": "text/x-python",
   "name": "python",
   "nbconvert_exporter": "python",
   "pygments_lexer": "ipython3",
   "version": "3.10.8"
  }
 },
 "nbformat": 4,
 "nbformat_minor": 5
}
