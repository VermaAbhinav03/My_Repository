{
 "cells": [
  {
   "cell_type": "markdown",
   "id": "22d65977-b7a1-4a36-91b6-aa2e604b1340",
   "metadata": {},
   "source": [
    "Q1: What is Estimation Statistics? Explain point estimate and interval estimate."
   ]
  },
  {
   "cell_type": "markdown",
   "id": "02d2a1bb-0b36-4d09-a9e1-429787a8b8a9",
   "metadata": {},
   "source": [
    "Estimation in Statistics involves making inferences about unknown parameters based on observed data. Two common types of estimation are point estimation and interval estimation. Let’s delve into each:\n",
    "\n",
    "Point Estimation:\n",
    "A point estimator is a statistic used to estimate a parameter from a sample.\n",
    "The point estimate is the specific value obtained from the point estimator using a particular sample.\n",
    "Essentially, point estimation provides a single value as an estimate for the parameter.\n",
    "\n",
    "Interval Estimation:\n",
    "An interval estimate provides a range of values where the parameter is expected to lie.\n",
    "The most common type of interval estimate is the confidence interval.\n",
    "A confidence interval gives us a sense of the uncertainty associated with our estimate.\n",
    "It recognizes both data variability and estimation uncertainty.\n",
    "The point estimate lies at the center of the confidence interval.\n",
    "Example: If we estimate the number of jelly beans in a jar, it’s better to provide a range (confidence interval) rather than a single guess."
   ]
  },
  {
   "cell_type": "markdown",
   "id": "9a52fb76-cdc6-46f8-8106-33fbec51a67d",
   "metadata": {},
   "source": [
    "Q2. Write a Python function to estimate the population mean using a sample mean and standard\n",
    "deviation."
   ]
  },
  {
   "cell_type": "markdown",
   "id": "c090cc54-8d1d-4cf6-b0d2-3192aafaca89",
   "metadata": {},
   "source": [
    "To estimate the population mean using a sample mean and standard deviation, we can use the concept of confidence intervals. Let’s create a function in Python that calculates a confidence interval for the population mean based on a given sample."
   ]
  },
  {
   "cell_type": "code",
   "execution_count": 1,
   "id": "f6d5bf44-9a00-48ed-aa66-34f50ed0d85a",
   "metadata": {},
   "outputs": [
    {
     "name": "stdout",
     "output_type": "stream",
     "text": [
      "Confidence Interval (95%): [70.23, 74.77]\n"
     ]
    }
   ],
   "source": [
    "def estimate_population_mean(sample_mean, sample_std_dev, sample_size, confidence_level=0.95):\n",
    "  \n",
    "    import scipy.stats as stats\n",
    "\n",
    "    # Calculate the standard error (standard deviation of the sample mean)\n",
    "    standard_error = sample_std_dev / (sample_size ** 0.5)\n",
    "\n",
    "    # Determine the critical value based on the confidence level\n",
    "    alpha = 1 - confidence_level\n",
    "    z_critical = stats.norm.ppf(1 - alpha / 2)\n",
    "\n",
    "    # Calculate the margin of error\n",
    "    margin_of_error = z_critical * standard_error\n",
    "\n",
    "    # Calculate the confidence interval\n",
    "    lower_bound = sample_mean - margin_of_error\n",
    "    upper_bound = sample_mean + margin_of_error\n",
    "\n",
    "    return lower_bound, upper_bound\n",
    "\n",
    "# Example usage:\n",
    "sample_mean = 72.5  # Sample mean\n",
    "sample_std_dev = 8.2  # Sample standard deviation\n",
    "sample_size = 50  # Sample size\n",
    "confidence_level = 0.95  # Confidence level (default is 95%)\n",
    "\n",
    "lower, upper = estimate_population_mean(sample_mean, sample_std_dev, sample_size, confidence_level)\n",
    "print(f\"Confidence Interval (95%): [{lower:.2f}, {upper:.2f}]\")\n"
   ]
  },
  {
   "cell_type": "markdown",
   "id": "6fdf118a-fc89-4f66-92ba-34b810ac295f",
   "metadata": {},
   "source": [
    "In this function:\n",
    "\n",
    "We calculate the standard error using the sample standard deviation and sample size.\n",
    "We determine the critical value based on the desired confidence level (e.g., 95%).\n",
    "The margin of error is obtained by multiplying the standard error by the critical value.\n",
    "Finally, we compute the confidence interval by adding/subtracting the margin of error from the sample mean."
   ]
  },
  {
   "cell_type": "markdown",
   "id": "bf336a7b-84fa-42e9-bab0-0c566552c14c",
   "metadata": {},
   "source": [
    "\n",
    "Q3: What is Hypothesis testing? Why is it used? State the importance of Hypothesis testing.\n"
   ]
  },
  {
   "cell_type": "markdown",
   "id": "a78a4c15-f1f5-42d9-b8c8-314235b24c67",
   "metadata": {},
   "source": [
    "Hypothesis testing is a fundamental procedure in statistics that allows us to make informed decisions based on empirical evidence. Let’s explore its significance and the key concepts involved:\n",
    "\n",
    "Definition of Hypothesis Testing:\n",
    "Hypothesis testing involves formulating assumptions about population parameters based on sample statistics.\n",
    "It rigorously evaluates these assumptions against observed data.\n",
    "The goal is to determine which of two mutually exclusive statements about a population is best supported by the sample data.\n",
    "Example: Suppose we assume that the average height in a class is 30 inches or that boys are taller than girls. Hypothesis testing provides a mathematical way to validate these assumptions.\n",
    "\n",
    "Defining Hypotheses:\n",
    "Null Hypothesis (H0): A general statement or default position that asserts no relationship between two measured cases or among groups.\n",
    "Example: A company’s mean production is 50 units per day (H0: μ = 50).\n",
    "Alternative Hypothesis (H1): Contrary to the null hypothesis.\n",
    "Example: The company’s production is not equal to 50 units per day (H1: μ ≠ 50).\n",
    "\n",
    "Key Terms in Hypothesis Testing:\n",
    "Level of Significance: Represents the degree of confidence in accepting or rejecting the null hypothesis. Commonly set at 5% (α = 0.05).\n",
    "P-Value: The probability of observing extreme results when the null hypothesis is true. If P-value < α, we reject H0.\n",
    "Test Statistic: A numerical value calculated from sample data, used to decide whether to reject H0.\n",
    "Critical Value: A threshold used to determine rejection of H0.\n",
    "Degrees of Freedom: Associated with variability in estimating a parameter.\n",
    "\n",
    "Importance of Hypothesis Testing:\n",
    "Data-Driven Decisions: Hypothesis testing helps businesses and researchers make informed decisions based on data rather than assumptions or guesses.\n",
    "Strategy Evaluation: Businesses can assess the effectiveness of strategies by testing hypotheses related to performance metrics.\n",
    "Scientific Research: Scientists use hypothesis testing to validate predictions arising from theories.\n",
    "Quality Control: Industries use it to ensure product quality and safety."
   ]
  },
  {
   "cell_type": "markdown",
   "id": "d72a1a0b-5cf9-4fe7-806d-a8344db1c1f1",
   "metadata": {},
   "source": [
    "\n",
    "Q4. Create a hypothesis that states whether the average weight of male college students is greater than\n",
    "the average weight of female college students."
   ]
  },
  {
   "cell_type": "markdown",
   "id": "95b4967d-6de3-494d-9a81-5a920f2b9bbb",
   "metadata": {},
   "source": [
    "Null Hypothesis (H0):\n",
    "\n",
    "The average weight of male college students is not greater than the average weight of female college students.\n",
    "\n",
    "Mathematically: \n",
    "                H0​:μmale​≤μfemale​\n",
    "\n",
    "\n",
    "\n",
    "\n",
    "Alternative Hypothesis (H1):\n",
    "\n",
    "The average weight of male college students is greater than the average weight of female college students.\n",
    "\n",
    "Mathematically: \n",
    "                 H1​:μmale​>μfemale​\n",
    "\n",
    "\n",
    "\n",
    "\n",
    "Here,               μmale​\n",
    " represents the population mean weight of male college students, and \n",
    " \n",
    "                    μfemale​\n",
    " represents the population mean weight of female college students.\n",
    "We can test this hypothesis using statistical methods such as t-tests or z-tests, based on sample data. If the evidence supports the alternative hypothesis, we can conclude that male college students tend to have a greater average weight than female college students. "
   ]
  },
  {
   "cell_type": "markdown",
   "id": "bc7f5aa4-a661-4733-a479-621e50433471",
   "metadata": {},
   "source": [
    "\n",
    "Q5. Write a Python script to conduct a hypothesis test on the difference between two population means,\n",
    "given a sample from each population."
   ]
  },
  {
   "cell_type": "markdown",
   "id": "e1aad644-892f-40c4-bca6-901ddc1cc6d1",
   "metadata": {},
   "source": [
    " Python script to conduct a hypothesis test for the difference between two population means using a sample from each population. We’ll assume that the samples are independent and normally distributed.\n",
    "\n",
    "Here’s an example using a two-sample t-test for comparing means:"
   ]
  },
  {
   "cell_type": "code",
   "execution_count": 2,
   "id": "9d39a7d7-76bc-4bfe-9f0e-fbd18ad0e02e",
   "metadata": {},
   "outputs": [
    {
     "name": "stdout",
     "output_type": "stream",
     "text": [
      "Two-Sample T-Test Results:\n",
      "t-statistic: 3.7354\n",
      "p-value: 0.0078\n",
      "Reject the null hypothesis: The average weight of male students is greater than female students.\n"
     ]
    }
   ],
   "source": [
    "import numpy as np\n",
    "import scipy.stats as stats\n",
    "\n",
    "def two_sample_t_test(sample1, sample2, alpha=0.05):\n",
    "    \n",
    "    t_statistic, p_value = stats.ttest_ind(sample1, sample2, equal_var=False)\n",
    "\n",
    "    # Compare p-value with significance level\n",
    "    reject_null = p_value < alpha\n",
    "\n",
    "    return t_statistic, p_value, reject_null\n",
    "\n",
    "# Example usage:\n",
    "sample_male = np.array([72, 75, 78, 70, 74])  # Sample weights of male students\n",
    "sample_female = np.array([65, 68, 70, 67, 69])  # Sample weights of female students\n",
    "\n",
    "t_stat, p_val, reject_null = two_sample_t_test(sample_male, sample_female)\n",
    "\n",
    "print(f\"Two-Sample T-Test Results:\")\n",
    "print(f\"t-statistic: {t_stat:.4f}\")\n",
    "print(f\"p-value: {p_val:.4f}\")\n",
    "\n",
    "if reject_null:\n",
    "    print(\"Reject the null hypothesis: The average weight of male students is greater than female students.\")\n",
    "else:\n",
    "    print(\"Fail to reject the null hypothesis: No significant difference in average weight between male and female students.\")\n"
   ]
  },
  {
   "cell_type": "markdown",
   "id": "a4b9157e-fbc4-4b8a-afdb-e2079b40dc52",
   "metadata": {},
   "source": [
    "In this script:\n",
    "\n",
    "We calculate the t-statistic and p-value using the ttest_ind function.\n",
    "The null hypothesis assumes that the population means are equal.\n",
    "If the p-value is less than the chosen significance level (e.g., 0.05), we reject the null hypothesis."
   ]
  },
  {
   "cell_type": "markdown",
   "id": "c66e5895-d097-457e-876c-ff63dfb08610",
   "metadata": {},
   "source": [
    "\n",
    "Q6: What is a null and alternative hypothesis? Give some examples."
   ]
  },
  {
   "cell_type": "markdown",
   "id": "7d4a93f1-0676-438d-8fd9-16f337fdbc1f",
   "metadata": {},
   "source": [
    "Null Hypothesis (H0):\n",
    "The null hypothesis represents the default assumption or status quo.\n",
    "It states that there is no significant effect, no difference, or no relationship between variables.\n",
    "Denoted as H0.\n",
    "Example scenarios:\n",
    "Medical Trial: The new drug has no effect on patients’ recovery time.\n",
    "Quality Control: The mean weight of cereal boxes is equal to the specified weight.\n",
    "Education: The average test scores of two teaching methods are the same.\n",
    "\n",
    "\n",
    "Alternative Hypothesis (H1 or Ha):\n",
    "The alternative hypothesis contradicts the null hypothesis.\n",
    "It asserts that there is a significant effect, difference, or relationship.\n",
    "Denoted as H1 or Ha.\n",
    "Example scenarios:\n",
    "Medical Trial: The new drug reduces patients’ recovery time.\n",
    "Quality Control: The mean weight of cereal boxes is different from the specified weight.\n",
    "Education: The average test scores of two teaching methods are not the same.\n",
    "Examples in hypothesis format:\n",
    "\n",
    "Population Mean Weight:\n",
    "H0: The average weight of male college students is not greater than the average weight of female college students.\n",
    "H1: The average weight of male college students is greater than the average weight of female college students.\n",
    "\n",
    "\n",
    "Conversion Rate:\n",
    "H0: The conversion rate of an ad campaign is equal to the industry average.\n",
    "H1: The conversion rate of the ad campaign is different from the industry average."
   ]
  },
  {
   "cell_type": "markdown",
   "id": "e5614948-c90b-4b31-b86c-a297e02e6bae",
   "metadata": {},
   "source": [
    "Q7: Write down the steps involved in hypothesis testing."
   ]
  },
  {
   "cell_type": "markdown",
   "id": "f4a073a9-e6b0-4c96-8954-73ae95aa12c2",
   "metadata": {},
   "source": [
    "Hypothesis testing is a formal procedure used in statistics to investigate ideas about the world based on data. Here are the five main steps involved in hypothesis testing:\n",
    "\n",
    "State Your Null and Alternative Hypotheses:\n",
    "Formulate your initial research hypothesis (prediction) and restate it as both the null hypothesis (H0) and the alternative hypothesis (H1).\n",
    "The null hypothesis predicts no relationship between variables, while the alternative hypothesis predicts a specific relationship.\n",
    "Example:\n",
    "H0: Men are, on average, not taller than women.\n",
    "H1: Men are, on average, taller than women.\n",
    "\n",
    "Collect Data:\n",
    "Gather data in a way that is designed to test your hypothesis.\n",
    "Ensure that your sample is representative of the population you are interested in.\n",
    "Example:\n",
    "Collect height data from both men and women, considering various socio-economic classes and other relevant variables.\n",
    "\n",
    "Perform an Appropriate Statistical Test:\n",
    "Choose a statistical test based on your research question and the type of data (e.g., t-test, ANOVA, chi-square).\n",
    "Calculate relevant statistics (e.g., t-statistic, F-statistic) using your sample data.\n",
    "Example:\n",
    "Use a two-sample t-test to compare average heights between men and women.\n",
    "\n",
    "Decide Whether to Reject or Fail to Reject the Null Hypothesis:\n",
    "Compare the calculated test statistic (e.g., t-statistic) with critical values or p-values.\n",
    "If the p-value is less than your chosen significance level (usually 0.05), reject the null hypothesis.\n",
    "If the p-value is greater, fail to reject the null hypothesis.\n",
    "Example:\n",
    "If p-value < 0.05, reject H0; otherwise, fail to reject H0.\n",
    "\n",
    "Present Your Findings:\n",
    "Communicate the results in your research report or discussion section.\n",
    "Include the test statistic, p-value, and your conclusion.\n",
    "Example:\n",
    "“Based on our sample data, we reject the null hypothesis and conclude that men are, on average, taller than women.”"
   ]
  },
  {
   "cell_type": "markdown",
   "id": "2e4a2ad1-3e94-4e0e-b955-83af4a0a04ed",
   "metadata": {},
   "source": [
    "Q8. Define p-value and explain its significance in hypothesis testing."
   ]
  },
  {
   "cell_type": "markdown",
   "id": "f883baa4-e724-4bd1-b8aa-935e7395bec5",
   "metadata": {},
   "source": [
    "Definition of P-Value:\n",
    "The p-value (probability value) is a crucial statistical measure used in hypothesis testing.\n",
    "It quantifies how likely it is to observe the data you have collected, assuming that the null hypothesis (H0) is true.\n",
    "In other words, the p-value tells you the probability of obtaining the observed results (or more extreme results) if there were truly no effect or difference (as suggested by the null hypothesis).\n",
    "\n",
    "Interpreting P-Values:\n",
    "A small p-value indicates strong evidence against the null hypothesis.\n",
    "If the p-value is less than your chosen significance level (often denoted as α, commonly set at 0.05), you reject the null hypothesis.\n",
    "Conversely, if the p-value is greater than α, you fail to reject the null hypothesis.\n",
    "The smaller the p-value, the stronger the evidence against H0.\n",
    "\n",
    "Significance Levels:\n",
    "The significance level (α) represents the threshold for statistical significance.\n",
    "Commonly used values are 0.05 (5%) or 0.01 (1%).\n",
    "If p-value < α, you reject H0; otherwise, you fail to reject H0.\n",
    "\n",
    "Practical Significance vs. Statistical Significance:\n",
    "Statistical significance: Indicates whether an effect exists (based on data).\n",
    "Practical significance: Considers whether the effect is meaningful or relevant in real-world terms.\n",
    "A statistically significant result may not always be practically significant.\n",
    "\n",
    "Example:\n",
    "Suppose you conduct a study comparing two diets (A and B) and measure weight loss.\n",
    "Null hypothesis (H0): The average weight loss is the same for both diets (μA = μB).\n",
    "Alternative hypothesis (H1): The average weight loss differs between diets (μA ≠ μB).\n",
    "If the p-value is very small (e.g., p < 0.05), you reject H0, suggesting that the diets have different effects on weight loss."
   ]
  },
  {
   "cell_type": "markdown",
   "id": "72a6236b-b2a9-4ac8-b90a-5b138ed19cd1",
   "metadata": {},
   "source": [
    "Q9. Generate a Student's t-distribution plot using Python's matplotlib library, with the degrees of freedom\n",
    "parameter set to 10."
   ]
  },
  {
   "cell_type": "code",
   "execution_count": 4,
   "id": "680d4e97-4426-4ef9-9ba4-eeaa84c5ce14",
   "metadata": {},
   "outputs": [
    {
     "data": {
      "image/png": "[encoded data removed]",
      "text/plain": [
       "<Figure size 800x600 with 1 Axes>"
      ]
     },
     "metadata": {},
     "output_type": "display_data"
    }
   ],
   "source": [
    "import numpy as np\n",
    "import matplotlib.pyplot as plt\n",
    "import scipy.stats as stats\n",
    "\n",
    "# Set the degrees of freedom\n",
    "df = 10\n",
    "\n",
    "# Generate t-distributed data points\n",
    "x = np.linspace(-4, 4, 1000)\n",
    "y = stats.t.pdf(x, df)\n",
    "\n",
    "# Create the plot\n",
    "plt.figure(figsize=(8, 6))\n",
    "plt.plot(x, y, label=f\"t-distribution (df = {df})\", color='b')\n",
    "plt.fill_between(x, y, alpha=0.2, color='b')\n",
    "\n",
    "# Add labels and title\n",
    "plt.xlabel(\"x\")\n",
    "plt.ylabel(\"Probability Density\")\n",
    "plt.title(\"Student's t-Distribution\")\n",
    "\n",
    "# Add vertical line at t=0\n",
    "plt.axvline(x=0, color='r', linestyle='--', label=\"t = 0\")\n",
    "\n",
    "# Customize ticks\n",
    "plt.xticks(np.arange(-4, 5, 1))\n",
    "plt.yticks([])\n",
    "\n",
    "# Add legend\n",
    "plt.legend()\n",
    "\n",
    "# Show the plot\n",
    "plt.grid(True)\n",
    "plt.show()\n"
   ]
  },
  {
   "cell_type": "markdown",
   "id": "ec72b1e3-d861-4988-a886-2fa7b8ec37f8",
   "metadata": {},
   "source": [
    "\n",
    "Q10. Write a Python program to calculate the two-sample t-test for independent samples, given two\n",
    "random samples of equal size and a null hypothesis that the population means are equal."
   ]
  },
  {
   "cell_type": "markdown",
   "id": "04e41976-97b2-4bd9-871d-2cfc085c03eb",
   "metadata": {},
   "source": [
    "Python program that calculates the two-sample t-test for independent samples when you have two random samples of equal size and a null hypothesis that the population means are equal. We’ll assume that the samples are normally distributed and have equal variances."
   ]
  },
  {
   "cell_type": "code",
   "execution_count": 5,
   "id": "605142d3-6ba2-4ed0-a94f-af107c84eada",
   "metadata": {},
   "outputs": [
    {
     "name": "stdout",
     "output_type": "stream",
     "text": [
      "Two-Sample T-Test Results:\n",
      "t-statistic: 0.9001\n",
      "p-value: 0.3944\n",
      "Fail to reject the null hypothesis: Population means are equal.\n"
     ]
    }
   ],
   "source": [
    "import numpy as np\n",
    "import scipy.stats as stats\n",
    "\n",
    "def two_sample_t_test(sample1, sample2, alpha=0.05):\n",
    " \n",
    "    # Calculate sample statistics\n",
    "    n1 = len(sample1)\n",
    "    n2 = len(sample2)\n",
    "    mean1 = np.mean(sample1)\n",
    "    mean2 = np.mean(sample2)\n",
    "    var1 = np.var(sample1, ddof=1)\n",
    "    var2 = np.var(sample2, ddof=1)\n",
    "\n",
    "    # Calculate the pooled standard error\n",
    "    pooled_se = np.sqrt((var1 / n1) + (var2 / n2))\n",
    "\n",
    "    # Calculate the t-statistic\n",
    "    t_statistic = (mean1 - mean2) / pooled_se\n",
    "\n",
    "    # Determine degrees of freedom\n",
    "    df = n1 + n2 - 2\n",
    "\n",
    "    # Calculate the p-value (two-tailed test)\n",
    "    p_value = 2 * (1 - stats.t.cdf(np.abs(t_statistic), df))\n",
    "\n",
    "    # Compare p-value with significance level\n",
    "    reject_null = p_value < alpha\n",
    "\n",
    "    return t_statistic, p_value, reject_null\n",
    "\n",
    "# Example usage:\n",
    "sample1 = np.array([23, 25, 28, 30, 27])  # First sample data\n",
    "sample2 = np.array([21, 24, 26, 29, 25])  # Second sample data\n",
    "\n",
    "t_stat, p_val, reject_null = two_sample_t_test(sample1, sample2)\n",
    "\n",
    "print(f\"Two-Sample T-Test Results:\")\n",
    "print(f\"t-statistic: {t_stat:.4f}\")\n",
    "print(f\"p-value: {p_val:.4f}\")\n",
    "\n",
    "if reject_null:\n",
    "    print(\"Reject the null hypothesis: Population means are not equal.\")\n",
    "else:\n",
    "    print(\"Fail to reject the null hypothesis: Population means are equal.\")\n"
   ]
  },
  {
   "cell_type": "markdown",
   "id": "205ee470-7b00-4044-9035-fbc09c417479",
   "metadata": {},
   "source": [
    "Q11: What is Student’s t distribution? When to use the t-Distribution."
   ]
  },
  {
   "cell_type": "markdown",
   "id": "d2d99340-76ed-4135-885f-b50d97357ca1",
   "metadata": {},
   "source": [
    " Student’s t-distribution, is a statistical probability distribution that plays a crucial role in various analyses. Let’s explore its characteristics and when to use it:\n",
    "\n",
    "What is the Student’s t-Distribution?\n",
    "\n",
    "The t-distribution describes data that follow a bell-shaped curve (similar to the normal distribution) but with heavier tails.\n",
    "It is used when:\n",
    "Sample sizes are small (typically less than 30).\n",
    "The population variance is unknown.\n",
    "The t-distribution accounts for the uncertainty introduced by estimating the population variance from the sample.\n",
    "\n",
    "Key Features:\n",
    "\n",
    "Degrees of Freedom (df): Determines the shape of the t-distribution.\n",
    "As df increases, the t-distribution approaches the standard normal distribution (z-distribution).\n",
    "For practical purposes, when df > 30, the t-distribution closely resembles the z-distribution.\n",
    "Tails: The t-distribution has fatter tails than the normal distribution.\n",
    "Centered at 0: The mean of the t-distribution is 0.\n",
    "\n",
    "When to Use the t-Distribution:\n",
    "\n",
    "Confidence Intervals: Estimate population parameters (e.g., mean) with confidence intervals.\n",
    "Hypothesis Testing:\n",
    "Compare sample means (t-tests).\n",
    "Regression analysis.\n",
    "Small Sample Sizes:\n",
    "When the sample size is small, the t-distribution provides more accurate estimates.\n",
    "Unknown Population Variance:\n",
    "When the population variance is unknown, use the t-distribution.\n",
    "\n",
    "Example:\n",
    "Suppose you measure the blood pressure of 20 patients after administering a new drug.\n",
    "You want to estimate the confidence interval for the population mean blood pressure.\n",
    "Since the sample size is small and the population variance is unknown, you use the t-distribution."
   ]
  },
  {
   "cell_type": "markdown",
   "id": "b04e8151-3d42-4727-b72b-b17a7b987f1d",
   "metadata": {},
   "source": [
    "Q12: What is t-statistic? State the formula for t-statistic."
   ]
  },
  {
   "cell_type": "markdown",
   "id": "37881a51-e0bc-411c-9927-6c39fb231a88",
   "metadata": {},
   "source": [
    "The t-statistic is a measure used in hypothesis testing to assess whether the difference between sample means is statistically significant. It quantifies how far the sample mean deviates from the hypothesized population mean (under the null hypothesis) in terms of standard errors.\n",
    "Here’s the formula for the t-statistic:\n",
    "                                          t=((\\bar{x})−μ)/(s/√n)"
   ]
  },
  {
   "cell_type": "markdown",
   "id": "ac365f7b-7d48-4d68-b95a-ac2a5d1b49fc",
   "metadata": {},
   "source": [
    "Where:\n",
    "\n",
    "(t) represents the t-statistic.\n",
    "\n",
    "(\\bar{x}) is the sample mean.\n",
    "\n",
    "(\\mu) is the population mean (often a hypothesized value).\n",
    "\n",
    "(s) is the sample standard deviation.\n",
    "\n",
    "(n) is the sample size.\n",
    "\n",
    "In practical terms, the t-statistic quantifies how far the sample mean deviates from the hypothesized population mean, considering the variability within the sample. It helps us assess whether the observed difference is statistically significant."
   ]
  },
  {
   "cell_type": "markdown",
   "id": "b355168e-4d9a-453b-a6ef-f2cff9c56596",
   "metadata": {},
   "source": [
    "Q13. A coffee shop owner wants to estimate the average daily revenue for their shop. They take a random\n",
    "sample of 50 days and find the sample mean revenue to be $500 with a standard deviation of $50.\n",
    "Estimate the population mean revenue with a 95% confidence interval."
   ]
  },
  {
   "cell_type": "markdown",
   "id": "4ccbdb6e-982d-4baa-8cf7-33906d80b555",
   "metadata": {},
   "source": [
    "estimate the population mean revenue with a 95% confidence interval.\n",
    "\n",
    "Given the sample information:\n",
    "\n",
    "Sample mean revenue ((\\bar{x})) = $500\n",
    "Sample standard deviation ((s)) = $50\n",
    "Sample size ((n)) = 50\n",
    "We’ll use the t-distribution since the population standard deviation is unknown. The formula for the confidence interval is:\n",
    "\n",
    "[ \\text{Confidence Interval} = \\bar{x} \\pm t_{\\alpha/2} \\left( \\frac{s}{\\sqrt{n}} \\right) ]\n",
    "\n",
    "First, we need to find the critical t-value for a 95% confidence level. Since we have a sample size of 50, the degrees of freedom ((df)) are (n - 1 = 49). Using a t-table or calculator, we find:\n",
    "For a 95% confidence level, (\\alpha/2 = 0.025).\n",
    "The critical t-value (two-tailed) with 49 degrees of freedom is approximately 2.0096.\n",
    "Next, calculate the margin of error: [ \\text{Margin of Error} = t_{\\alpha/2} \\left( \\frac{s}{\\sqrt{n}} \\right) = 2.0096 \\left( \\frac{50}{\\sqrt{50}} \\right) \\approx 14.24 ]\n",
    "Finally, construct the confidence interval: [ \\text{Confidence Interval} = $500 \\pm 14.24 ] The lower bound is (500 - 14.24 = 485.76), and the upper bound is (500 + 14.24 = 514.24).\n",
    "Therefore, the 95% confidence interval for the population mean revenue is approximately $485.76 to $514.24. This means we are 95% confident that the true average daily revenue falls within this range"
   ]
  },
  {
   "cell_type": "markdown",
   "id": "6ad666c8-158c-4a45-bac2-348cda608a9c",
   "metadata": {},
   "source": [
    "Q14. A researcher hypothesizes that a new drug will decrease blood pressure by 10 mmHg. They conduct a\n",
    "clinical trial with 100 patients and find that the sample mean decrease in blood pressure is 8 mmHg with a\n",
    "standard deviation of 3 mmHg. Test the hypothesis with a significance level of 0.05."
   ]
  },
  {
   "cell_type": "markdown",
   "id": "dd1dd57c-85f0-463e-9a2e-5ecad3db9363",
   "metadata": {},
   "source": [
    "Null Hypothesis ((H_0)): The new drug has no effect (i.e., the mean decrease in blood pressure is 0 mmHg).\n",
    "Alternative Hypothesis ((H_1)): The new drug decreases blood pressure by 10 mmHg (i.e., the mean decrease is (\\mu_d = -10) mmHg).\n",
    "Sample size ((n)) = 100\n",
    "Sample mean decrease ((\\bar{x})) = 8 mmHg\n",
    "Sample standard deviation ((s)) = 3 mmHg\n",
    "Significance level ((\\alpha)) = 0.05\n",
    "We’ll perform a one-sample t-test to evaluate whether the sample evidence supports the alternative hypothesis.\n",
    "\n",
    "Calculate the t-statistic: [ t = \\frac{{\\bar{x} - \\mu_d}}{{s / \\sqrt{n}}} ] Substituting the given values: [ t = \\frac{{8 - (-10)}}{{3 / \\sqrt{100}}} = \\frac{{18}}{{0.3}} = 60 ]\n",
    "Find the degrees of freedom ((df)): Since we have a sample size of 100, (df = n - 1 = 99).\n",
    "Determine the critical t-value for a one-tailed test (left-tailed) at a significance level of 0.05: Using a t-table or calculator, we find the critical t-value to be approximately -1.660.\n",
    "Compare the calculated t-statistic with the critical t-value:\n",
    "If (t < -1.660), reject the null hypothesis.\n",
    "Otherwise, fail to reject the null hypothesis.\n",
    "Since (t = 60 > -1.660), we reject the null hypothesis.\n",
    "Interpretation:\n",
    "The evidence suggests that the new drug has a statistically significant effect on blood pressure.\n",
    "The mean decrease in blood pressure is likely different from 0 mmHg.\n",
    "Therefore, at a significance level of 0.05, we conclude that the new drug decreases blood pressure by approximately 10 mmHg"
   ]
  },
  {
   "cell_type": "markdown",
   "id": "49a264bc-da31-407d-8933-fbc33e0f5c30",
   "metadata": {},
   "source": [
    "Q15. An electronics company produces a certain type of product with a mean weight of 5 pounds and a\n",
    "standard deviation of 0.5 pounds. A random sample of 25 products is taken, and the sample mean weight\n",
    "is found to be 4.8 pounds. Test the hypothesis that the true mean weight of the products is less than 5\n",
    "pounds with a significance level of 0.01."
   ]
  },
  {
   "cell_type": "markdown",
   "id": "bf7dcd95-f9d0-4dc5-a161-6e804692bce9",
   "metadata": {},
   "source": [
    "Null Hypothesis ((H_0)): The true mean weight of the products is 5 pounds (i.e., (\\mu = 5)).\n",
    "\n",
    "Alternative Hypothesis ((H_1)): The true mean weight of the products is less than 5 pounds (i.e., (\\mu < 5)).\n",
    "\n",
    "Sample size ((n)) = 25\n",
    "\n",
    "Sample mean weight ((\\bar{x})) = 4.8 pounds\n",
    "\n",
    "Population standard deviation ((\\sigma)) = 0.5 pounds\n",
    "\n",
    "Significance level ((\\alpha)) = 0.01\n",
    "\n",
    "We’ll perform a one-sample t-test to evaluate whether the sample evidence supports the alternative hypothesis.\n",
    "\n",
    "Calculate the t-statistic: [ t = \\frac{{\\bar{x} - \\mu}}{{\\sigma / \\sqrt{n}}} ] Substituting the given values: [ t = \\frac{{4.8 - 5}}{{0.5 / \\sqrt{25}}} = \\frac{{-0.2}}{{0.1}} = -2 ]\n",
    "\n",
    "Find the degrees of freedom ((df)): Since we have a sample size of 25, (df = n - 1 = 24).\n",
    "\n",
    "Determine the critical t-value for a one-tailed test (left-tailed) at a significance level of 0.01: Using a t-table or calculator, we find the critical t-value to be approximately -2.492.\n",
    "\n",
    "Compare the calculated t-statistic with the critical t-value:\n",
    "If (t < -2.492), reject the null hypothesis.\n",
    "Otherwise, fail to reject the null hypothesis.\n",
    "Since (t = -2 < -2.492), we reject the null hypothesis.\n",
    "\n",
    "Interpretation:\n",
    "The evidence suggests that the true mean weight of the products is likely less than 5 pounds.\n",
    "The sample data provides support for the alternative hypothesis.\n",
    "\n",
    "\n",
    "Therefore, at a significance level of 0.01, we conclude that there is evidence that the mean weight of the products is less than 5 pounds."
   ]
  },
  {
   "cell_type": "markdown",
   "id": "1428d7ef-f87d-4b45-a6ae-55f6c8cb00c0",
   "metadata": {},
   "source": [
    "Q16. Two groups of students are given different study materials to prepare for a test. The first group (n1 =\n",
    "30) has a mean score of 80 with a standard deviation of 10, and the second group (n2 = 40) has a mean\n",
    "score of 75 with a standard deviation of 8. Test the hypothesis that the population means for the two\n",
    "groups are equal with a significance level of 0.01."
   ]
  },
  {
   "cell_type": "markdown",
   "id": "c33a648a-d981-43ad-8698-bbac7d0f7763",
   "metadata": {},
   "source": [
    "Null Hypothesis ((H_0)): The population means for the two groups are equal (i.e., (\\mu_1 = \\mu_2)).\n",
    "\n",
    "Alternative Hypothesis ((H_1)): The population means for the two groups are not equal (i.e., (\\mu_1 \\neq \\mu_2)).\n",
    "\n",
    "Sample size for Group 1 ((n_1)) = 30\n",
    "\n",
    "Sample mean score for Group 1 ((\\bar{x}_1)) = 80\n",
    "\n",
    "Sample standard deviation for Group 1 ((s_1)) = 10\n",
    "\n",
    "Sample size for Group 2 ((n_2)) = 40\n",
    "\n",
    "Sample mean score for Group 2 ((\\bar{x}_2)) = 75\n",
    "\n",
    "Sample standard deviation for Group 2 ((s_2)) = 8\n",
    "\n",
    "Significance level ((\\alpha)) = 0.01\n",
    "\n",
    "We’ll perform an independent samples t-test to evaluate whether the sample evidence supports the alternative hypothesis.\n",
    "\n",
    "Calculate the pooled standard deviation: [ s_p = \\sqrt{\\frac{{(n_1 - 1)s_1^2 + (n_2 - 1)s_2^2}}{{n_1 + n_2 - 2}}} ] Substituting the given values: [ s_p = \\sqrt{\\frac{{(30 - 1) \\cdot 10^2 + (40 - 1) \\cdot 8^2}}{{30 + 40 - 2}}} = 9.06 ]\n",
    "Calculate the t-statistic: [ t = \\frac{{\\bar{x}_1 - \\bar{x}_2}}{{s_p \\cdot \\sqrt{\\frac{1}{n_1} + \\frac{1}{n_2}}}} ] Substituting the given values: [ t = \\frac{{80 - 75}}{{9.06 \\cdot \\sqrt{\\frac{1}{30} + \\frac{1}{40}}}} = 2.79 ]\n",
    "Find the degrees of freedom ((df)): Since we have independent samples, (df = n_1 + n_2 - 2 = 30 + 40 - 2 = 68).\n",
    "Determine the critical t-value for a two-tailed test at a significance level of 0.01: Using a t-table or calculator, we find the critical t-value to be approximately ±2.625 (since it’s a two-tailed test).\n",
    "Compare the calculated t-statistic with the critical t-values:\n",
    "If (|t| > 2.625), reject the null hypothesis.\n",
    "Otherwise, fail to reject the null hypothesis.\n",
    "Since (|2.79| > 2.625), we reject the null hypothesis.\n",
    "Interpretation:\n",
    "The evidence suggests that the population means for the two groups are likely different.\n",
    "The sample data provides support for the alternative hypothesis.\n",
    "Therefore, at a significance level of 0.01, we conclude that there is evidence of a difference in mean scores between the two groups. "
   ]
  },
  {
   "cell_type": "markdown",
   "id": "af690038-4376-4f2c-9034-975dce5c031a",
   "metadata": {},
   "source": [
    "Q17. A marketing company wants to estimate the average number of ads watched by viewers during a TV\n",
    "program. They take a random sample of 50 viewers and find that the sample mean is 4 with a standard\n",
    "deviation of 1.5. Estimate the population mean with a 99% confidence interval."
   ]
  },
  {
   "cell_type": "markdown",
   "id": "1bc78180-80c3-4eb0-a5d0-255849659c43",
   "metadata": {},
   "source": [
    "Given the sample information:\n",
    "\n",
    "\n",
    "Sample mean ((\\bar{x})) = 4\n",
    "\n",
    "Sample standard deviation ((s)) = 1.5\n",
    "\n",
    "Sample size ((n)) = 50\n",
    "\n",
    "We’ll use the t-distribution since the population standard deviation is unknown. The formula for the confidence interval is:\n",
    "\n",
    "[ \\text{Confidence Interval} = \\bar{x} \\pm t_{\\alpha/2} \\left( \\frac{s}{\\sqrt{n}} \\right) ]\n",
    "\n",
    "First, we need to find the critical t-value for a 99% confidence level. Since we have a sample size of 50, the degrees of freedom ((df)) are (n - 1 = 49). Using a t-table or calculator, we find:\n",
    "For a 99% confidence level, (\\alpha/2 = 0.005).\n",
    "The critical t-value (two-tailed) with 49 degrees of freedom is approximately 2.684.\n",
    "\n",
    "Next, calculate the margin of error: [ \\text{Margin of Error} = t_{\\alpha/2} \\left( \\frac{s}{\\sqrt{n}} \\right) = 2.684 \\left( \\frac{1.5}{\\sqrt{50}} \\right) \\approx 0.603 ]\n",
    "\n",
    "\n",
    "Finally, construct the confidence interval: [ \\text{Confidence Interval} = 4 \\pm 0.603 ] The lower bound is (4 - 0.603 = 3.397), and the upper bound is (4 + 0.603 = 4.603).\n",
    "Therefore, the 99% confidence interval for the population mean number of ads watched by viewers during a TV program is approximately 3.397 to 4.603. This means we are 99% confident that the true average number of ads falls within this range"
   ]
  }
 ],
 "metadata": {
  "kernelspec": {
   "display_name": "Python 3 (ipykernel)",
   "language": "python",
   "name": "python3"
  },
  "language_info": {
   "codemirror_mode": {
    "name": "ipython",
    "version": 3
   },
   "file_extension": ".py",
   "mimetype": "text/x-python",
   "name": "python",
   "nbconvert_exporter": "python",
   "pygments_lexer": "ipython3",
   "version": "3.10.8"
  }
 },
 "nbformat": 4,
 "nbformat_minor": 5
}
