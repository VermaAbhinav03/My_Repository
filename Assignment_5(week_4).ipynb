{
 "cells": [
  {
   "cell_type": "markdown",
   "id": "a915fbbf-1cc8-4a9e-a825-7f1d6fec3136",
   "metadata": {},
   "source": [
    "Q1, Create a vehicle class with an init method having instance variables as name_of_vehicle, max_speed\n",
    "and average_of_vehicle."
   ]
  },
  {
   "cell_type": "code",
   "execution_count": 1,
   "id": "241f4efe-378c-45ec-8b77-f64a3b12877e",
   "metadata": {},
   "outputs": [],
   "source": [
    "class vehicle :\n",
    "    \n",
    "    def __init__(self , name_of_vehicle , max_speed , average_of_vehicle) :\n",
    "        \n",
    "        self.name_of_vehicle = name_of_vehicle\n",
    "        self.max_speed = max_speed\n",
    "        self.average_of_vehicle = average_of_vehicle\n",
    "        \n",
    "    def vehicle_details(self):\n",
    "        print(self.name_of_vehicle , self.max_speed , self.average_of_vehicle)"
   ]
  },
  {
   "cell_type": "code",
   "execution_count": 2,
   "id": "1b700200-6f61-4961-acd8-d08829c1bde2",
   "metadata": {},
   "outputs": [],
   "source": [
    "V = vehicle(\"fortuner\" , 190 , 10)"
   ]
  },
  {
   "cell_type": "code",
   "execution_count": 4,
   "id": "ddae1df3-5beb-49dc-ae6f-cd949ea05db4",
   "metadata": {},
   "outputs": [
    {
     "data": {
      "text/plain": [
       "'fortuner'"
      ]
     },
     "execution_count": 4,
     "metadata": {},
     "output_type": "execute_result"
    }
   ],
   "source": [
    "V.name_of_vehicle"
   ]
  },
  {
   "cell_type": "code",
   "execution_count": 5,
   "id": "d35f3274-8683-4273-b7ca-a68331e95983",
   "metadata": {},
   "outputs": [
    {
     "data": {
      "text/plain": [
       "190"
      ]
     },
     "execution_count": 5,
     "metadata": {},
     "output_type": "execute_result"
    }
   ],
   "source": [
    "V.max_speed"
   ]
  },
  {
   "cell_type": "code",
   "execution_count": 31,
   "id": "66073230-db0c-4a88-84ec-c135e9c65c5c",
   "metadata": {},
   "outputs": [
    {
     "data": {
      "text/plain": [
       "10"
      ]
     },
     "execution_count": 31,
     "metadata": {},
     "output_type": "execute_result"
    }
   ],
   "source": [
    "V.average_of_vehicle"
   ]
  },
  {
   "cell_type": "code",
   "execution_count": 8,
   "id": "3f5e40fd-42bf-4ed2-ae7c-fc8840d143c2",
   "metadata": {},
   "outputs": [
    {
     "name": "stdout",
     "output_type": "stream",
     "text": [
      "fortuner 190 10\n"
     ]
    }
   ],
   "source": [
    "V.vehicle_details()"
   ]
  },
  {
   "cell_type": "markdown",
   "id": "16b95fd9-b037-4abd-8dab-e62b3560027f",
   "metadata": {},
   "source": [
    "Q2. Create a child class car from the vehicle class created in Que 1, which will inherit the vehicle class.\n",
    "Create a method named seating_capacity which takes capacity as an argument and returns the name of\n",
    "the vehicle and its seating capacity.\n"
   ]
  },
  {
   "cell_type": "code",
   "execution_count": 27,
   "id": "122fb647-2c00-45cc-8dc4-c500c567b7d0",
   "metadata": {},
   "outputs": [],
   "source": [
    "class Vehicle:\n",
    "    def __init__(self, name_of_vehicle, max_speed, average_speed):\n",
    "        self.name_of_vehicle = name_of_vehicle\n",
    "        self.max_speed = max_speed\n",
    "        self.average_speed = average_speed"
   ]
  },
  {
   "cell_type": "code",
   "execution_count": 30,
   "id": "0c87ebcd-2058-4f50-bcab-8e368b7d9574",
   "metadata": {},
   "outputs": [],
   "source": [
    "V = Vehicle(\"Tesla Model S\", 250, 120)\n"
   ]
  },
  {
   "cell_type": "code",
   "execution_count": 31,
   "id": "8c21903e-51d5-44a2-b717-fba4159de5e6",
   "metadata": {},
   "outputs": [
    {
     "data": {
      "text/plain": [
       "250"
      ]
     },
     "execution_count": 31,
     "metadata": {},
     "output_type": "execute_result"
    }
   ],
   "source": [
    "V.max_speed"
   ]
  },
  {
   "cell_type": "code",
   "execution_count": 32,
   "id": "d16b9095-7749-46c0-a974-6d524be25a52",
   "metadata": {},
   "outputs": [],
   "source": [
    "class Car(Vehicle):\n",
    "    def seating_capacity(self, capacity):\n",
    "        return f\"The {self.name_of_vehicle} has a seating capacity of {capacity} people.\"\n"
   ]
  },
  {
   "cell_type": "code",
   "execution_count": 33,
   "id": "aada18d8-513b-4d04-b3ea-653e0ac298da",
   "metadata": {},
   "outputs": [
    {
     "name": "stdout",
     "output_type": "stream",
     "text": [
      "The Tesla Model S has a seating capacity of 4 people.\n"
     ]
    }
   ],
   "source": [
    "car = Car(\"Tesla Model S\", 250, 120)\n",
    "print(car.seating_capacity(4))\n"
   ]
  },
  {
   "cell_type": "markdown",
   "id": "b1c6d656-3407-4099-8008-df873cedc84b",
   "metadata": {},
   "source": [
    "Q3. What is multiple inheritance? Write a python code to demonstrate multiple inheritance.\n"
   ]
  },
  {
   "cell_type": "code",
   "execution_count": 48,
   "id": "ab2e05fe-cfce-4115-b3b9-21d734abfea0",
   "metadata": {},
   "outputs": [],
   "source": [
    "class class1 :\n",
    "    def test_class1(self) : \n",
    "        print(\"this is my class1 \" )"
   ]
  },
  {
   "cell_type": "code",
   "execution_count": 49,
   "id": "31b91bce-9efd-456e-951e-c0c2088c0fa2",
   "metadata": {},
   "outputs": [],
   "source": [
    "class class2(class1) : \n",
    "    def test_class2(self) : \n",
    "        print(\"this is my class2\" )"
   ]
  },
  {
   "cell_type": "code",
   "execution_count": 50,
   "id": "ecbe0822-f976-455b-8df2-ba29b94603fe",
   "metadata": {},
   "outputs": [],
   "source": [
    "class class3(class2) : \n",
    "    def test_class3(self) : \n",
    "        print(\"this is my class3 \")"
   ]
  },
  {
   "cell_type": "code",
   "execution_count": 51,
   "id": "e4ea1f81-8d0c-4f62-9922-092a65c42984",
   "metadata": {},
   "outputs": [],
   "source": [
    "obj_class3  = class3()"
   ]
  },
  {
   "cell_type": "code",
   "execution_count": 53,
   "id": "9c061678-b220-41fc-9c31-14995d607fac",
   "metadata": {},
   "outputs": [
    {
     "name": "stdout",
     "output_type": "stream",
     "text": [
      "this is my class1 \n"
     ]
    }
   ],
   "source": [
    "obj_class3.test_class1()"
   ]
  },
  {
   "cell_type": "code",
   "execution_count": 54,
   "id": "ece451c5-105f-4e90-afe8-c27e3e4f29b5",
   "metadata": {},
   "outputs": [
    {
     "name": "stdout",
     "output_type": "stream",
     "text": [
      "this is my class2\n"
     ]
    }
   ],
   "source": [
    "obj_class3.test_class2()"
   ]
  },
  {
   "cell_type": "code",
   "execution_count": 55,
   "id": "384f7025-bf9d-4a2c-9bcf-9aaa19c4f291",
   "metadata": {},
   "outputs": [
    {
     "name": "stdout",
     "output_type": "stream",
     "text": [
      "this is my class3 \n"
     ]
    }
   ],
   "source": [
    "obj_class3.test_class3()"
   ]
  },
  {
   "cell_type": "markdown",
   "id": "70e70fbc-1043-4a95-8002-2a322971f8db",
   "metadata": {},
   "source": [
    "Q4. What are getter and setter in python? Create a class and create a getter and a setter method in this\n",
    "class.\n"
   ]
  },
  {
   "cell_type": "markdown",
   "id": "0407f8f8-051f-42ab-9757-312e5ea572ce",
   "metadata": {},
   "source": [
    "In Python, getters and setters are methods used to access and modify the values of class attributes (instance variables). They provide a way to encapsulate the access and modification of attribute values, allowing for better control and flexibility"
   ]
  },
  {
   "cell_type": "code",
   "execution_count": 54,
   "id": "3e920f35-2948-461b-8850-d0850c503734",
   "metadata": {},
   "outputs": [],
   "source": [
    "class Person:\n",
    "    def __init__(self,fname,lname):\n",
    "        self.__fname = fname\n",
    "        self.__lname = lname\n",
    "        self.__name = fname + lname\n",
    "    @property\n",
    "    def name_access(self):\n",
    "        return self.__name\n",
    "\n",
    "    @name_access.setter\n",
    "    def name_set(self, name):\n",
    "        self._name = name\n",
    "        \n",
    "    @name_access.deleter\n",
    "    def delete_name(self):\n",
    "        del self.__name\n"
   ]
  },
  {
   "cell_type": "code",
   "execution_count": 55,
   "id": "61e6807e-e861-46c0-b5cd-f49d69bc14ec",
   "metadata": {},
   "outputs": [],
   "source": [
    "person_obj = Person(\"Abhinav\" , \" Verma\")"
   ]
  },
  {
   "cell_type": "code",
   "execution_count": 56,
   "id": "9aa89f34-b53f-43ae-9220-a45e7411f1ef",
   "metadata": {},
   "outputs": [
    {
     "data": {
      "text/plain": [
       "'Abhinav Verma'"
      ]
     },
     "execution_count": 56,
     "metadata": {},
     "output_type": "execute_result"
    }
   ],
   "source": [
    "person_obj.name_access"
   ]
  },
  {
   "cell_type": "code",
   "execution_count": 58,
   "id": "2f77f9ba-152d-4a03-a778-1f095446c38e",
   "metadata": {},
   "outputs": [],
   "source": [
    "del person_obj.delete_name"
   ]
  },
  {
   "cell_type": "code",
   "execution_count": 59,
   "id": "bd1f7cc3-ec79-453e-b4a5-ea4616ad3a5b",
   "metadata": {},
   "outputs": [
    {
     "ename": "AttributeError",
     "evalue": "'Person' object has no attribute '_Person__name'",
     "output_type": "error",
     "traceback": [
      "\u001b[0;31m---------------------------------------------------------------------------\u001b[0m",
      "\u001b[0;31mAttributeError\u001b[0m                            Traceback (most recent call last)",
      "Cell \u001b[0;32mIn[59], line 1\u001b[0m\n\u001b[0;32m----> 1\u001b[0m \u001b[43mperson_obj\u001b[49m\u001b[38;5;241;43m.\u001b[39;49m\u001b[43mname_access\u001b[49m\n",
      "Cell \u001b[0;32mIn[54], line 8\u001b[0m, in \u001b[0;36mPerson.name_access\u001b[0;34m(self)\u001b[0m\n\u001b[1;32m      6\u001b[0m \u001b[38;5;129m@property\u001b[39m\n\u001b[1;32m      7\u001b[0m \u001b[38;5;28;01mdef\u001b[39;00m \u001b[38;5;21mname_access\u001b[39m(\u001b[38;5;28mself\u001b[39m):\n\u001b[0;32m----> 8\u001b[0m     \u001b[38;5;28;01mreturn\u001b[39;00m \u001b[38;5;28;43mself\u001b[39;49m\u001b[38;5;241;43m.\u001b[39;49m\u001b[43m__name\u001b[49m\n",
      "\u001b[0;31mAttributeError\u001b[0m: 'Person' object has no attribute '_Person__name'"
     ]
    }
   ],
   "source": [
    "person_obj.name_access"
   ]
  },
  {
   "cell_type": "code",
   "execution_count": 60,
   "id": "45650a6b-28c8-4d87-adaf-1d078f86eca9",
   "metadata": {},
   "outputs": [],
   "source": [
    "person_obj.name_set = (\"Abhi\" , \" Verma\")"
   ]
  },
  {
   "cell_type": "markdown",
   "id": "7953c224-34cb-4923-a8bf-348c7daaff65",
   "metadata": {},
   "source": [
    "Q5.What is method overriding in python? Write a python code to demonstrate method overriding."
   ]
  },
  {
   "cell_type": "markdown",
   "id": "bf0db3db-f0ff-4590-a415-f5c38eb66251",
   "metadata": {},
   "source": [
    "Method overriding is a feature in object-oriented programming where a subclass provides its own implementation of a method that is already defined in its superclass. The method in the subclass overrides the implementation of the same-named method in the superclass, allowing for different behavior based on the specific subclass."
   ]
  },
  {
   "cell_type": "code",
   "execution_count": 1,
   "id": "8f6097ff-18ae-4846-a87f-f9c640cf1d22",
   "metadata": {},
   "outputs": [
    {
     "name": "stdout",
     "output_type": "stream",
     "text": [
      "This is a vehicle.\n",
      "This is a car.\n",
      "This is a motorcycle.\n"
     ]
    }
   ],
   "source": [
    "class Vehicle:\n",
    "    def display_info(self):\n",
    "        print(\"This is a vehicle.\")\n",
    "\n",
    "class Car(Vehicle):\n",
    "    def display_info(self):\n",
    "        print(\"This is a car.\")\n",
    "\n",
    "class Motorcycle(Vehicle):\n",
    "    def display_info(self):\n",
    "        print(\"This is a motorcycle.\")\n",
    "\n",
    "# Create instances and call the overridden method\n",
    "vehicle = Vehicle()\n",
    "car = Car()\n",
    "motorcycle = Motorcycle()\n",
    "\n",
    "vehicle.display_info()    \n",
    "car.display_info()       \n",
    "motorcycle.display_info() \n"
   ]
  }
 ],
 "metadata": {
  "kernelspec": {
   "display_name": "Python 3 (ipykernel)",
   "language": "python",
   "name": "python3"
  },
  "language_info": {
   "codemirror_mode": {
    "name": "ipython",
    "version": 3
   },
   "file_extension": ".py",
   "mimetype": "text/x-python",
   "name": "python",
   "nbconvert_exporter": "python",
   "pygments_lexer": "ipython3",
   "version": "3.10.8"
  }
 },
 "nbformat": 4,
 "nbformat_minor": 5
}
