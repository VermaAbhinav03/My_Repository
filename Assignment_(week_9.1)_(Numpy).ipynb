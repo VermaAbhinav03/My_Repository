{
 "cells": [
  {
   "cell_type": "markdown",
   "id": "06909f3c-6e1f-4c80-b679-55c4d7ba1d89",
   "metadata": {},
   "source": [
    "Consider the below code to answer further questions:\n",
    "import numpy as np\n",
    "list_ = [ ‘1’ , ’2’ , ‘3’ , ‘4’ , ‘5’ ]\n",
    "array_list = np.array(object = list_)\n",
    "Q1. Is there any difference in the data type of variables list_ and array_list? If there is then write a code\n",
    "to print the data types of both the variables.\n",
    "Q2. Write a code to print the data type of each and every element of both the variables list_ and\n",
    "arra_list.\n",
    "Q3. Considering the following changes in the variable, array_list:\n",
    "array_list = np.array(object = list_, dtype = int)\n",
    "Will there be any difference in the data type of the elements present in both the variables, list_ and\n",
    "arra_list? If so then print the data types of each and every element present in both the variables, list_\n",
    "and arra_list.\n",
    "Consider the below code to answer further questions:\n",
    "import numpy as np\n",
    "num_list = [ [ 1 , 2 , 3 ] , [ 4 , 5 , 6 ] ]\n",
    "num_array = np.array(object = num_list)\n",
    "Q4. Write a code to find the following characteristics of variable, num_array:\n",
    "(i) shape\n",
    "(ii) size\n",
    "Q5. Write a code to create numpy array of 3*3 matrix containing zeros only, using a numpy array\n",
    "creation function.\n",
    "[Hint: The size of the array will be 9 and the shape will be (3,3).]\n",
    "Q6. Create an identity matrix of shape (5,5) using numpy functions?\n",
    "[Hint: An identity matrix is a matrix containing 1 diagonally and other elements will be 0.]"
   ]
  },
  {
   "cell_type": "markdown",
   "id": "9081fdc2-55a8-492d-a305-fdf8c88c2841",
   "metadata": {},
   "source": [
    "Q1. Is there any difference in the data type of variables list_ and array_list? If there is then write a code\n",
    "to print the data types of both the variables."
   ]
  },
  {
   "cell_type": "markdown",
   "id": "dacc4e26-bd97-4afd-8be3-c080c63c55d1",
   "metadata": {},
   "source": [
    "Lists:\n",
    "Lists are dynamic data structures in Python.\n",
    "They can hold elements of different data types.\n",
    "Lists allow for easy resizing during runtime.\n",
    "You can perform operations like appending, inserting, or deleting elements.\n",
    "Lists are more flexible due to their adaptability.\n",
    "Arrays:\n",
    "Arrays are fundamental data structures.\n",
    "They store elements of the same data type in contiguous memory.\n",
    "Arrays have a fixed size set during creation.\n",
    "Accessing elements in arrays is faster due to direct indexing.\n",
    "Arrays are less flexible as their size cannot be easily changed."
   ]
  },
  {
   "cell_type": "code",
   "execution_count": 1,
   "id": "712d7db6-0b0d-4271-b2ce-e52f7ee3d35f",
   "metadata": {},
   "outputs": [
    {
     "name": "stdout",
     "output_type": "stream",
     "text": [
      "Data type of 'list_': <class 'list'>\n",
      "Data type of 'array_list': <class 'numpy.ndarray'>\n"
     ]
    }
   ],
   "source": [
    "import numpy as np\n",
    "\n",
    "list_ = ['1', '2', '3', '4', '5']\n",
    "\n",
    "array_list = np.array(object=list_)\n",
    "\n",
    "print(f\"Data type of 'list_': {type(list_)}\")\n",
    "print(f\"Data type of 'array_list': {type(array_list)}\")\n"
   ]
  },
  {
   "cell_type": "markdown",
   "id": "ef609a7c-8c04-414b-9082-385c0d64dd1e",
   "metadata": {},
   "source": [
    "Q2. Write a code to print the data type of each and every element of both the variables list_ and\n",
    "arra_list."
   ]
  },
  {
   "cell_type": "code",
   "execution_count": 2,
   "id": "6a812c60-f002-443c-8790-ae9133b648af",
   "metadata": {},
   "outputs": [
    {
     "name": "stdout",
     "output_type": "stream",
     "text": [
      "Data types in 'list_':\n",
      "Element '1' has data type: <class 'str'>\n",
      "Element '2' has data type: <class 'str'>\n",
      "Element '3' has data type: <class 'str'>\n",
      "Element '4' has data type: <class 'str'>\n",
      "Element '5' has data type: <class 'str'>\n",
      "\n",
      "Data types in 'array_list':\n",
      "Element '1' has data type: <class 'numpy.str_'>\n",
      "Element '2' has data type: <class 'numpy.str_'>\n",
      "Element '3' has data type: <class 'numpy.str_'>\n",
      "Element '4' has data type: <class 'numpy.str_'>\n",
      "Element '5' has data type: <class 'numpy.str_'>\n"
     ]
    }
   ],
   "source": [
    "import numpy as np\n",
    "\n",
    "# Create a list\n",
    "list_ = ['1', '2', '3', '4', '5']\n",
    "\n",
    "# Create an array from the list\n",
    "array_list = np.array(object=list_)\n",
    "\n",
    "# Print data types of each element in 'list_'\n",
    "print(\"Data types in 'list_':\")\n",
    "for item in list_:\n",
    "    print(f\"Element '{item}' has data type: {type(item)}\")\n",
    "\n",
    "# Print data types of each element in 'array_list'\n",
    "print(\"\\nData types in 'array_list':\")\n",
    "for item in array_list:\n",
    "    print(f\"Element '{item}' has data type: {type(item)}\")\n"
   ]
  },
  {
   "cell_type": "markdown",
   "id": "efd49a3a-fdd8-474c-ad49-15d7cb662406",
   "metadata": {},
   "source": [
    "Q3. Considering the following changes in the variable, array_list:\n",
    "array_list = np.array(object = list_, dtype = int)\n",
    "Will there be any difference in the data type of the elements present in both the variables, list_ and\n",
    "arra_list? If so then print the data types of each and every element present in both the variables, list_\n",
    "and arra_list."
   ]
  },
  {
   "cell_type": "code",
   "execution_count": 3,
   "id": "269207be-ffbd-4ea5-8b03-7580fad34e3a",
   "metadata": {},
   "outputs": [
    {
     "name": "stdout",
     "output_type": "stream",
     "text": [
      "Data types in 'list_':\n",
      "Element '1' has data type: <class 'str'>\n",
      "Element '2' has data type: <class 'str'>\n",
      "Element '3' has data type: <class 'str'>\n",
      "Element '4' has data type: <class 'str'>\n",
      "Element '5' has data type: <class 'str'>\n",
      "\n",
      "Data types in 'array_list':\n",
      "Element '1' has data type: <class 'numpy.int64'>\n",
      "Element '2' has data type: <class 'numpy.int64'>\n",
      "Element '3' has data type: <class 'numpy.int64'>\n",
      "Element '4' has data type: <class 'numpy.int64'>\n",
      "Element '5' has data type: <class 'numpy.int64'>\n"
     ]
    }
   ],
   "source": [
    "import numpy as np\n",
    "\n",
    "# Create a list\n",
    "list_ = ['1', '2', '3', '4', '5']\n",
    "\n",
    "# Create an array from the list\n",
    "array_list = np.array(object=list_ , dtype = int)\n",
    "\n",
    "# Print data types of each element in 'list_'\n",
    "print(\"Data types in 'list_':\")\n",
    "for item in list_:\n",
    "    print(f\"Element '{item}' has data type: {type(item)}\")\n",
    "\n",
    "# Print data types of each element in 'array_list'\n",
    "print(\"\\nData types in 'array_list':\")\n",
    "for item in array_list:\n",
    "    print(f\"Element '{item}' has data type: {type(item)}\")"
   ]
  },
  {
   "cell_type": "markdown",
   "id": "64298a6d-288e-4a24-b3e6-700683f77a5a",
   "metadata": {},
   "source": [
    "import numpy as np\n",
    "num_list = [ [ 1 , 2 , 3 ] , [ 4 , 5 , 6 ] ]\n",
    "num_array = np.array(object = num_list)\n",
    "Q4. Write a code to find the following characteristics of variable, num_array:\n",
    "(i) shape\n",
    "(ii) size"
   ]
  },
  {
   "cell_type": "code",
   "execution_count": 4,
   "id": "d4851060-f539-43e2-959f-2412b7ea9809",
   "metadata": {},
   "outputs": [
    {
     "name": "stdout",
     "output_type": "stream",
     "text": [
      "Shape of num_array: (2, 3)\n",
      "Size of num_array: 6\n"
     ]
    }
   ],
   "source": [
    "import numpy as np\n",
    "\n",
    "# Given list\n",
    "num_list = [[1, 2, 3], [4, 5, 6]]\n",
    "\n",
    "# Create a NumPy array\n",
    "num_array = np.array(object=num_list)\n",
    "\n",
    "# (i) Shape of the array\n",
    "shape = num_array.shape\n",
    "\n",
    "# (ii) Size of the array\n",
    "size = num_array.size\n",
    "\n",
    "print(f\"Shape of num_array: {shape}\")\n",
    "print(f\"Size of num_array: {size}\")\n"
   ]
  },
  {
   "cell_type": "markdown",
   "id": "e2b29e3f-4073-4f99-8d43-392c38eb25eb",
   "metadata": {},
   "source": [
    "The shape (2, 3) indicates that num_array has 2 rows and 3 columns.\n",
    "The size 6 represents the total number of elements in the array."
   ]
  },
  {
   "cell_type": "markdown",
   "id": "d2d010af-40a3-4ef8-a76f-60212de0f5bd",
   "metadata": {},
   "source": [
    "Q5. Write a code to create numpy array of 3*3 matrix containing zeros only, using a numpy array\n",
    "creation function."
   ]
  },
  {
   "cell_type": "code",
   "execution_count": 11,
   "id": "046f773d-fec6-406c-a252-549fe33a53ec",
   "metadata": {},
   "outputs": [
    {
     "name": "stdout",
     "output_type": "stream",
     "text": [
      "3x3 Matrix of Zeros:\n",
      "[[0. 0. 0.]\n",
      " [0. 0. 0.]\n",
      " [0. 0. 0.]]\n",
      "array shape : (3, 3)\n",
      "array shape : 9\n"
     ]
    }
   ],
   "source": [
    "import numpy as np\n",
    "\n",
    "# Create a 3x3 matrix of zeros\n",
    "zero_matrix = np.zeros((3, 3))\n",
    "\n",
    "print(\"3x3 Matrix of Zeros:\")\n",
    "print(zero_matrix)\n",
    "print(f\"array shape : {np.shape(zero_matrix)}\")\n",
    "print(f\"array shape : {np.size(zero_matrix)}\")"
   ]
  },
  {
   "cell_type": "markdown",
   "id": "0e01172e-af2f-49e4-a202-eeeb2b7c5718",
   "metadata": {},
   "source": [
    "Q6. Create an identity matrix of shape (5,5) using numpy functions?"
   ]
  },
  {
   "cell_type": "code",
   "execution_count": 13,
   "id": "0d2c1c73-4e58-4091-8237-7f2ecc9180ea",
   "metadata": {},
   "outputs": [
    {
     "name": "stdout",
     "output_type": "stream",
     "text": [
      "5x5 Identity Matrix:\n",
      "[[1. 0. 0. 0. 0.]\n",
      " [0. 1. 0. 0. 0.]\n",
      " [0. 0. 1. 0. 0.]\n",
      " [0. 0. 0. 1. 0.]\n",
      " [0. 0. 0. 0. 1.]]\n"
     ]
    }
   ],
   "source": [
    "import numpy as np\n",
    "\n",
    "# Create a 5x5 identity matrix\n",
    "identity_matrix = np.eye(5,5)\n",
    "\n",
    "print(\"5x5 Identity Matrix:\")\n",
    "print(identity_matrix)\n"
   ]
  }
 ],
 "metadata": {
  "kernelspec": {
   "display_name": "Python 3 (ipykernel)",
   "language": "python",
   "name": "python3"
  },
  "language_info": {
   "codemirror_mode": {
    "name": "ipython",
    "version": 3
   },
   "file_extension": ".py",
   "mimetype": "text/x-python",
   "name": "python",
   "nbconvert_exporter": "python",
   "pygments_lexer": "ipython3",
   "version": "3.10.8"
  }
 },
 "nbformat": 4,
 "nbformat_minor": 5
}
