{
 "cells": [
  {
   "cell_type": "markdown",
   "id": "8ff2892d-0726-4cf9-b85a-8a1454c1a09d",
   "metadata": {},
   "source": [
    "Q1. Create a Pandas Series that contains the following data: 4, 8, 15, 16, 23, and 42. Then, print the series."
   ]
  },
  {
   "cell_type": "code",
   "execution_count": 1,
   "id": "cc201700-2692-4179-bd19-762c2499ec4a",
   "metadata": {},
   "outputs": [
    {
     "name": "stdout",
     "output_type": "stream",
     "text": [
      "0     4\n",
      "1     8\n",
      "2    15\n",
      "3    16\n",
      "4    23\n",
      "5    42\n",
      "dtype: int64\n"
     ]
    }
   ],
   "source": [
    "import pandas as pd\n",
    "\n",
    "# Create the Series\n",
    "my_series = pd.Series([4, 8, 15, 16, 23, 42])\n",
    "\n",
    "# Print the Series\n",
    "print(my_series)\n"
   ]
  },
  {
   "cell_type": "markdown",
   "id": "1dd7cf71-bbb7-4467-a1d4-ab7ae3fc0802",
   "metadata": {},
   "source": [
    "Q2. Create a variable of list type containing 10 elements in it, and apply pandas.Series function on the\n",
    "variable print it."
   ]
  },
  {
   "cell_type": "code",
   "execution_count": 2,
   "id": "a4e538c0-b579-403a-b5c8-d7286bf4f81e",
   "metadata": {},
   "outputs": [
    {
     "name": "stdout",
     "output_type": "stream",
     "text": [
      "0     4\n",
      "1     8\n",
      "2    15\n",
      "3    16\n",
      "4    23\n",
      "5    42\n",
      "6     7\n",
      "7    11\n",
      "8     9\n",
      "9     5\n",
      "dtype: int64\n"
     ]
    }
   ],
   "source": [
    "import pandas as pd\n",
    "\n",
    "# Create a list with 10 elements\n",
    "my_list = [4, 8, 15, 16, 23, 42, 7, 11, 9, 5]\n",
    "\n",
    "# Create a Pandas Series from the list\n",
    "my_series = pd.Series(my_list)\n",
    "\n",
    "# Print the Series\n",
    "print(my_series)\n"
   ]
  },
  {
   "cell_type": "markdown",
   "id": "e9eb6bef-1af5-4853-be4f-e9703bd0be46",
   "metadata": {},
   "source": [
    "Q3. Create a Pandas DataFrame that contains the following data:\n",
    "    \n",
    "Name     age        gender\n",
    "Alice     25        Female\n",
    "Bob       30        Male\n",
    "Claire    27        Female\n",
    "\n",
    "\n",
    "Then, print the DataFrame."
   ]
  },
  {
   "cell_type": "code",
   "execution_count": 3,
   "id": "e02e9df5-f1d6-4948-9e96-5465bc329b08",
   "metadata": {},
   "outputs": [
    {
     "name": "stdout",
     "output_type": "stream",
     "text": [
      "     Name  age  gender\n",
      "0   Alice   25  Female\n",
      "1     Bob   30    Male\n",
      "2  Claire   27  Female\n"
     ]
    }
   ],
   "source": [
    "import pandas as pd\n",
    "\n",
    "# Create a dictionary with the data\n",
    "data = {\n",
    "    'Name': ['Alice', 'Bob', 'Claire'],\n",
    "    'age': [25, 30, 27],\n",
    "    'gender': ['Female', 'Male', 'Female']\n",
    "}\n",
    "\n",
    "# Create the DataFrame\n",
    "df = pd.DataFrame(data)\n",
    "\n",
    "# Print the DataFrame\n",
    "print(df)\n"
   ]
  },
  {
   "cell_type": "markdown",
   "id": "770dbab3-0afb-43fc-b94b-4bb4ef3306a0",
   "metadata": {},
   "source": [
    "\n",
    "\n",
    "\n",
    "Q4. What is ‘DataFrame’ in pandas and how is it different from pandas.series? Explain with an example."
   ]
  },
  {
   "cell_type": "markdown",
   "id": "a271ec70-5e3c-430c-8c64-6ffbd26017ce",
   "metadata": {},
   "source": [
    "Pandas Series:\n",
    "A Pandas Series is a one-dimensional array-like object that can hold data of any type (integer, float, string, etc.).\n",
    "Each element in a Series has a unique identifier called an index.\n",
    "Think of a Series as a single column in a spreadsheet or a database table.\n",
    "It’s a fundamental data structure in Pandas, commonly used for data manipulation and analysis tasks.\n",
    "You can create a Series from lists, arrays, dictionaries, or existing Series objects.\n",
    "Example:"
   ]
  },
  {
   "cell_type": "code",
   "execution_count": 4,
   "id": "35699573-fea2-42ea-982c-8127e5263c7a",
   "metadata": {},
   "outputs": [
    {
     "name": "stdout",
     "output_type": "stream",
     "text": [
      "0     4\n",
      "1     8\n",
      "2    15\n",
      "3    16\n",
      "4    23\n",
      "5    42\n",
      "dtype: int64\n"
     ]
    }
   ],
   "source": [
    "import pandas as pd\n",
    "\n",
    "# Creating a Series from a list\n",
    "data = [4, 8, 15, 16, 23, 42]\n",
    "my_series = pd.Series(data)\n",
    "print(my_series)\n"
   ]
  },
  {
   "cell_type": "markdown",
   "id": "83327978-1704-45eb-a071-c4c3dad601ed",
   "metadata": {},
   "source": [
    "Pandas DataFrame:\n",
    "A Pandas DataFrame is a two-dimensional table-like structure consisting of multiple Series objects.\n",
    "It’s essentially a collection of Series, where each Series represents a column.\n",
    "DataFrames are used for more complex data manipulation, exploration, and analysis.\n",
    "You can think of a DataFrame as a spreadsheet or a database table with rows and columns.\n",
    "Example:"
   ]
  },
  {
   "cell_type": "code",
   "execution_count": 5,
   "id": "cf37cf05-8c06-4620-bb31-ed6dac675128",
   "metadata": {},
   "outputs": [
    {
     "name": "stdout",
     "output_type": "stream",
     "text": [
      "     Name  Age  Gender\n",
      "0   Alice   25  Female\n",
      "1     Bob   30    Male\n",
      "2  Claire   27  Female\n"
     ]
    }
   ],
   "source": [
    "# Creating a DataFrame from a dictionary\n",
    "data = {\n",
    "    'Name': ['Alice', 'Bob', 'Claire'],\n",
    "    'Age': [25, 30, 27],\n",
    "    'Gender': ['Female', 'Male', 'Female']\n",
    "}\n",
    "df = pd.DataFrame(data)\n",
    "print(df)\n"
   ]
  },
  {
   "cell_type": "markdown",
   "id": "10166e9c-aad5-4a3b-b13e-e5e305301d1a",
   "metadata": {},
   "source": [
    "Differences:\n",
    "A Series is one-dimensional, while a DataFrame is two-dimensional.\n",
    "A Series represents a single column, whereas a DataFrame contains multiple columns.\n",
    "Series are more straightforward and efficient for actions involving one column of data, while DataFrames are more versatile for handling tabular data."
   ]
  },
  {
   "cell_type": "markdown",
   "id": "671eaf15-d21f-44fd-9ed3-27611c506697",
   "metadata": {},
   "source": [
    "\n",
    "\n",
    "\n",
    "Q5. What are some common functions you can use to manipulate data in a Pandas DataFrame? Can\n",
    "you give an example of when you might use one of these functions?"
   ]
  },
  {
   "cell_type": "markdown",
   "id": "ddf9b6b7-4329-4407-893b-8e6f1fb2c6fc",
   "metadata": {},
   "source": [
    "read_csv(): This function allows you to load data from a CSV file into a DataFrame. It’s handy when you need to work with tabular data stored in a CSV format1. Example:"
   ]
  },
  {
   "cell_type": "code",
   "execution_count": null,
   "id": "1b194b81-755b-4ca8-b082-f27b2e510682",
   "metadata": {},
   "outputs": [],
   "source": [
    "import pandas as pd\n",
    "df = pd.read_csv(\"data.csv\")"
   ]
  },
  {
   "cell_type": "markdown",
   "id": "f7ca5087-06ad-41a6-85dd-5d90abe4ee2d",
   "metadata": {},
   "source": [
    "AI-generated code. Review and use carefully. More info on FAQ.\n",
    "fillna(): When dealing with missing values (NaN), you can use fillna() to replace those missing values with specific values or methods (e.g., mean, median, etc.)1. Example:"
   ]
  },
  {
   "cell_type": "code",
   "execution_count": null,
   "id": "424b7947-4602-4c86-8a95-04bd408c61e9",
   "metadata": {},
   "outputs": [],
   "source": [
    "df.fillna(0)  # Replace NaN with zeros"
   ]
  },
  {
   "cell_type": "markdown",
   "id": "e9bb2169-2c68-4416-9eb4-278e13568a31",
   "metadata": {},
   "source": [
    "mean() and std(): These functions calculate the mean and standard deviation of a Series or DataFrame, respectively. Useful for understanding data distribution and variability1. Example:"
   ]
  },
  {
   "cell_type": "code",
   "execution_count": null,
   "id": "9e185081-062b-4508-85c4-4b5b65be242d",
   "metadata": {},
   "outputs": [],
   "source": [
    "average_score = df[\"Score\"].mean()\n",
    "std_deviation = df[\"Score\"].std()"
   ]
  },
  {
   "cell_type": "markdown",
   "id": "5b1fe2a7-2f88-44e0-af95-a573f6780170",
   "metadata": {},
   "source": [
    "sort_values(): Sorts the DataFrame based on one or more columns. You might use this to arrange data in ascending or descending order1. Example:"
   ]
  },
  {
   "cell_type": "code",
   "execution_count": null,
   "id": "6a1b0f6b-c0db-4a4a-be16-3e753a750d8a",
   "metadata": {},
   "outputs": [],
   "source": [
    "sorted_df = df.sort_values(by=\"Score\", ascending=False)"
   ]
  },
  {
   "cell_type": "markdown",
   "id": "d9b1687a-2fa9-45ed-9273-26ab5dbc1fe1",
   "metadata": {},
   "source": [
    "drop(): Removes rows or columns from a DataFrame. Useful when you want to eliminate specific data points or features2. Example:"
   ]
  },
  {
   "cell_type": "code",
   "execution_count": null,
   "id": "cba34899-be14-4927-8575-38063858dabe",
   "metadata": {},
   "outputs": [],
   "source": [
    "df.drop(columns=[\"Column1\", \"Column2\"], inplace=True)  # Remove specific columns"
   ]
  },
  {
   "cell_type": "markdown",
   "id": "62c9f6eb-7e45-442d-94d8-4f75d4b845d9",
   "metadata": {},
   "source": [
    "rename(): Renames columns or indices in the DataFrame. Helpful for making column names more descriptive or consistent2. Example:\n",
    "Python"
   ]
  },
  {
   "cell_type": "code",
   "execution_count": null,
   "id": "f4eb3d0e-644c-4291-82a0-cb0e8f40c38e",
   "metadata": {},
   "outputs": [],
   "source": [
    "df.rename(columns={\"OldName\": \"NewName\"}, inplace=True)\n"
   ]
  },
  {
   "cell_type": "markdown",
   "id": "677b79ee-d40d-4c4c-8bbe-db6f70608b00",
   "metadata": {},
   "source": [
    "Creating a New Column: You can add a new column to an existing DataFrame by simply declaring a new list as a column3. Example:"
   ]
  },
  {
   "cell_type": "code",
   "execution_count": null,
   "id": "89d6c41e-b17a-4833-b27e-6cf48ca78986",
   "metadata": {},
   "outputs": [],
   "source": [
    "df[\"NewColumn\"] = [1, 2, 3, 4, 5]  # Adding a new column with values\n"
   ]
  },
  {
   "cell_type": "markdown",
   "id": "e5bb77eb-d755-4117-affa-b073f1f84d4f",
   "metadata": {},
   "source": [
    "\n",
    "\n",
    "\n",
    "Q6. Which of the following is mutable in nature Series, DataFrame, Panel?"
   ]
  },
  {
   "cell_type": "markdown",
   "id": "f9b09088-6230-45b4-ac1c-f1f95e81db0b",
   "metadata": {},
   "source": [
    "A DataFrame is mutable in nature. You can modify its contents by adding or removing rows and columns, changing cell values, and performing various data manipulation operations. A DataFrame is like a two-dimensional table, allowing flexibility in data modification.\n",
    "\n",
    "On the other hand, a Series (which represents a single column) is also mutable, but it’s more limited in scope. You can change individual values within a Series, but you cannot add or remove columns directly.\n",
    "\n",
    "As for the Panel, it was deprecated in recent versions of Pandas and is no longer recommended for use. Instead, multi-dimensional data is typically handled using DataFrames or other specialized data structures.\n",
    "\n",
    "Remember, when working with mutable objects, be cautious about unintended side effects! "
   ]
  },
  {
   "cell_type": "markdown",
   "id": "c4b4b1cc-c896-4fda-9258-f67e08f3ccd1",
   "metadata": {},
   "source": [
    "Q7. Create a DataFrame using multiple Series. Explain with an example."
   ]
  },
  {
   "cell_type": "markdown",
   "id": "6d485917-ec1f-48ce-8730-af012d98fb88",
   "metadata": {},
   "source": [
    " Pandas DataFrame using multiple Series. A DataFrame is a two-dimensional table-like structure that can hold data in rows and columns. We’ll use the pd.concat() method to combine several Series into a DataFrame.\n",
    "\n",
    "Consider the following example:\n",
    "\n",
    "First, we’ll create three Pandas Series:\n",
    "courses: A Series containing course names.\n",
    "fees: A Series containing corresponding course fees.\n",
    "discount: A Series with discount amounts for each course."
   ]
  },
  {
   "cell_type": "code",
   "execution_count": 7,
   "id": "d768f5df-85bd-42c2-bd03-4e14f1f60c8b",
   "metadata": {},
   "outputs": [],
   "source": [
    "import pandas as pd\n",
    "\n",
    "# Create Pandas Series\n",
    "courses = pd.Series([\"Spark\", \"PySpark\", \"Hadoop\"])\n",
    "fees = pd.Series([22000, 25000, 23000])\n",
    "discount = pd.Series([1000, 2300, 1000])\n"
   ]
  },
  {
   "cell_type": "markdown",
   "id": "2e63396f-3d17-4491-b153-65fceaf2bf40",
   "metadata": {},
   "source": [
    "Next, we’ll concatenate these Series into a DataFrame using pd.concat():"
   ]
  },
  {
   "cell_type": "code",
   "execution_count": 8,
   "id": "51573559-5055-4f40-8faf-b6fc9eab3c5c",
   "metadata": {},
   "outputs": [
    {
     "name": "stdout",
     "output_type": "stream",
     "text": [
      "         0      1     2\n",
      "0    Spark  22000  1000\n",
      "1  PySpark  25000  2300\n",
      "2   Hadoop  23000  1000\n"
     ]
    }
   ],
   "source": [
    "# Combine the Series into a DataFrame\n",
    "df = pd.concat([courses, fees, discount], axis=1)\n",
    "\n",
    "# Print the resulting DataFrame\n",
    "print(df)\n"
   ]
  },
  {
   "cell_type": "markdown",
   "id": "0f15ed88-e01b-4e3f-9eb1-ff803ed27922",
   "metadata": {},
   "source": [
    "In this DataFrame:\n",
    "\n",
    "Column 0 corresponds to the course names.\n",
    "Column 1 contains the course fees.\n",
    "Column 2 represents the discount amounts."
   ]
  }
 ],
 "metadata": {
  "kernelspec": {
   "display_name": "Python 3 (ipykernel)",
   "language": "python",
   "name": "python3"
  },
  "language_info": {
   "codemirror_mode": {
    "name": "ipython",
    "version": 3
   },
   "file_extension": ".py",
   "mimetype": "text/x-python",
   "name": "python",
   "nbconvert_exporter": "python",
   "pygments_lexer": "ipython3",
   "version": "3.10.8"
  }
 },
 "nbformat": 4,
 "nbformat_minor": 5
}
