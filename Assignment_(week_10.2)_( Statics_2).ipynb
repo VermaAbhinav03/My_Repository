{
 "cells": [
  {
   "cell_type": "markdown",
   "id": "21f66b61-a953-4cea-bb3e-d83535086075",
   "metadata": {},
   "source": [
    "Q1. What are the three measures of central tendency?"
   ]
  },
  {
   "cell_type": "markdown",
   "id": "ec9d68e2-2eb3-4e41-8d7a-aee8fe22effe",
   "metadata": {},
   "source": [
    "The three most common measures of central tendency are:\n",
    "\n",
    "Mean (Arithmetic Average):\n",
    "Definition: The mean is the sum of all values divided by the total number of values.\n",
    "Example: Calculating the average test score of students in a class.\n",
    "Use: It provides a representative value for the entire dataset.\n",
    "Median:\n",
    "Definition: The median is the middle number in an ordered dataset (or the average of the two middle values if there’s an even number of values).\n",
    "Example: Finding the middle salary in a list of employee salaries.\n",
    "Use: It’s robust to extreme values and represents the central position.\n",
    "Mode:\n",
    "Definition: The mode is the most frequently occurring value in the dataset.\n",
    "Example: Identifying the most common blood type in a population.\n",
    "Use: It highlights the most typical value."
   ]
  },
  {
   "cell_type": "markdown",
   "id": "2ca81ad0-191b-4ba6-8701-f68e936e7222",
   "metadata": {},
   "source": [
    "Q2. What is the difference between the mean, median, and mode? How are they used to measure the\n",
    "central tendency of a dataset?"
   ]
  },
  {
   "cell_type": "markdown",
   "id": "e564bc43-c9d9-47bd-9d2a-348da4375d22",
   "metadata": {},
   "source": [
    "Mean (Arithmetic Average):\n",
    "Definition: The mean is the sum of all values divided by the total number of values. It represents the average value.\n",
    "Example: Suppose we have test scores for a class: 85, 67, 90, 78, and 92. The mean is calculated as follows: [ \\text{Mean} = \\frac{85 + 67 + 90 + 78 + 92}{5} = 82.4 ]\n",
    "Use:\n",
    "Provides a representative value for the entire dataset.\n",
    "Widely used in research, business, and everyday life.\n",
    "Median:\n",
    "Definition: The median is the middle value when data is arranged in order (or the average of the two middle values if there’s an even number of values).\n",
    "Example: Consider the heights (in inches) of a group of people: 64, 68, 70, 72, 75. The median is 70 (middle value).\n",
    "Use:\n",
    "Robust to extreme values (outliers).\n",
    "Represents the central position.\n",
    "Mode:\n",
    "Definition: The mode is the most frequently occurring value in the dataset.\n",
    "Example: In a survey about favorite colors, if “blue” appears most often, “blue” is the mode.\n",
    "Use:\n",
    "Highlights the most typical value.\n",
    "Useful for categorical data.\n",
    "How They Are Used:\n",
    "\n",
    "Researchers, analysts, and decision-makers use these measures:\n",
    "Business: Mean salary calculations, median home prices, and mode of customer preferences.\n",
    "Healthcare: Median patient waiting times, mean drug dosages, and mode of symptoms.\n",
    "Education: Mean exam scores, median class sizes, and mode of student preferences."
   ]
  },
  {
   "cell_type": "markdown",
   "id": "1cf6e31c-d526-4ba4-be37-9e428e0246fc",
   "metadata": {},
   "source": [
    "Q3. Measure the three measures of central tendency for the given height data:\n",
    "[178,177,176,177,178.2,178,175,179,180,175,178.9,176.2,177,172.5,178,176.5]"
   ]
  },
  {
   "cell_type": "code",
   "execution_count": 17,
   "id": "d50858d5-aa20-48dd-95ea-002f880818bb",
   "metadata": {},
   "outputs": [
    {
     "name": "stdout",
     "output_type": "stream",
     "text": [
      "mean : 177.01875\n",
      "mean : 177.0\n",
      "mean : 177.0\n"
     ]
    },
    {
     "name": "stderr",
     "output_type": "stream",
     "text": [
      "/tmp/ipykernel_162/2433246695.py:6: FutureWarning: Unlike other reduction functions (e.g. `skew`, `kurtosis`), the default behavior of `mode` typically preserves the axis it acts along. In SciPy 1.11.0, this behavior will change: the default value of `keepdims` will become False, the `axis` over which the statistic is taken will be eliminated, and the value None will no longer be accepted. Set `keepdims` to True or False to avoid this warning.\n",
      "  print(f\"mean : {stats.mode(data).mode[0]}\")\n"
     ]
    }
   ],
   "source": [
    "import numpy as np\n",
    "from scipy import stats\n",
    "data = [178,177,176,177,178.2,178,175,179,180,175,178.9,176.2,177,172.5,178,176.5]\n",
    "print(f\"mean : {np.mean(data)}\")\n",
    "print(f\"mean : {np.median(data)}\")\n",
    "print(f\"mean : {stats.mode(data).mode[0]}\")"
   ]
  },
  {
   "cell_type": "markdown",
   "id": "20955053-27b4-498b-8f50-98388861ac2f",
   "metadata": {},
   "source": [
    "Mean (Arithmetic Average):\n",
    "Sum of all heights: (178 + 177 + 176 + 177 + 178.2 + 178 + 175 + 179 + 180 + 175 + 178.9 + 176.2 + 177 + 172.5 + 178 + 176.5 = 2838.3)\n",
    "Total number of heights: 16\n",
    "Mean height: 2832.3/16=177.018\n",
    "Median:\n",
    "Arrange the heights in ascending order: 172.5, 175, 175, 176, 176, 176.2, 177, 177, 177, 178, 178, 178, 178.2, 178.9, 179, 180.\n",
    "Since there are 16 data points, the median is the average of the 8th and 9th values: {177 + 177}/{2} = 177\n",
    "Mode:\n",
    "The mode is the most frequently occurring value. In this dataset, the height 178 and 177 appears most often (three times).\n",
    "\n",
    "In summary:\n",
    "Mean: Approximately 177.018\n",
    "Median: 177\n",
    "Mode: 177 and 178"
   ]
  },
  {
   "cell_type": "markdown",
   "id": "e6e4043b-c7f3-4cdb-b6b4-4b048cb22dc3",
   "metadata": {},
   "source": [
    "Q4. Find the standard deviation for the given data:\n",
    "[178,177,176,177,178.2,178,175,179,180,175,178.9,176.2,177,172.5,178,176.5]"
   ]
  },
  {
   "cell_type": "code",
   "execution_count": 18,
   "id": "274b8cf5-364b-425d-9f09-0a779358fb95",
   "metadata": {},
   "outputs": [
    {
     "name": "stdout",
     "output_type": "stream",
     "text": [
      "standard deviation : 1.7885814036548633\n"
     ]
    }
   ],
   "source": [
    "import numpy as np\n",
    "data = [178,177,176,177,178.2,178,175,179,180,175,178.9,176.2,177,172.5,178,176.5]\n",
    "print(f\"standard deviation : {np.std(data)}\")"
   ]
  },
  {
   "cell_type": "markdown",
   "id": "34624cc8-c2c5-46f6-9c92-1558e6365430",
   "metadata": {},
   "source": [
    "Q5. How are measures of dispersion such as range, variance, and standard deviation used to describe\n",
    "the spread of a dataset? Provide an example."
   ]
  },
  {
   "cell_type": "markdown",
   "id": "23d94f8c-9743-4689-9052-36985d6984b0",
   "metadata": {},
   "source": [
    "Measures of dispersion play a crucial role in describing the spread or variability of a dataset. Let’s explore how each measure is used, along with an example:\n",
    "\n",
    "Range:\n",
    "Definition: The range is the difference between the largest and smallest data points in a dataset.\n",
    "Use:\n",
    "It provides a quick overview of the spread.\n",
    "Useful for understanding the data’s extent.\n",
    "Example:\n",
    "Consider the heights (in inches) of a group of basketball players: 72, 75, 78, 80, 82.\n",
    "Range = Largest height (82) - Smallest height (72) = 10 inches.\n",
    "Variance:\n",
    "Definition: Variance measures how much individual data points deviate from the mean.\n",
    "Use:\n",
    "It quantifies the average squared deviation from the mean.\n",
    "Indicates the overall variability.\n",
    "Example:\n",
    "Suppose we have exam scores (out of 100): 85, 67, 90, 78, 92.\n",
    "Calculate the mean (average) score: (\\text{Mean} = \\frac{85 + 67 + 90 + 78 + 92}{5} = 82.4).\n",
    "Deviations from the mean: -0.4, -15.4, 7.6, -4.4, 9.6.\n",
    "Variance = (\\frac{(-0.4)^2 + (-15.4)^2 + 7.6^2 + (-4.4)^2 + 9.6^2}{5} = 56.16).\n",
    "Standard Deviation:\n",
    "Definition: The standard deviation is the square root of the variance.\n",
    "Use:\n",
    "It provides a more interpretable measure of variability.\n",
    "Indicates how spread out the data is from the mean.\n",
    "Example:\n",
    "Using the same exam scores data, the standard deviation is approximately 7.49 (rounded to two decimal places).\n",
    "In summary:\n",
    "\n",
    "Range: Simple but limited; only considers two extreme values.\n",
    "Variance: Captures overall variability but in squared units.\n",
    "Standard Deviation: More intuitive; in the same units as the data."
   ]
  },
  {
   "cell_type": "markdown",
   "id": "5392eafb-b954-487a-8749-fd634820f1bf",
   "metadata": {},
   "source": [
    "Q6. What is a Venn diagram?"
   ]
  },
  {
   "cell_type": "markdown",
   "id": "3cacf1ce-487d-4d82-b69c-63d4f907c051",
   "metadata": {},
   "source": [
    "A Venn diagram is a widely used graphical representation that visually shows the logical relationships between sets and their elements. It was popularized by John Venn in the 1880s. Here are the key points about Venn diagrams:\n",
    "\n",
    "Purpose:\n",
    "To illustrate the relationships between different sets and their intersections.\n",
    "Widely used in set theory, logic, mathematics, business, teaching, computer science, and statistics.\n",
    "Components:\n",
    "Venn diagrams use intersecting and non-intersecting circles (or other closed figures) to denote relationships between sets.\n",
    "A large rectangle represents the universal set (denoted by (E) or sometimes (U)).\n",
    "Circles or closed figures within the rectangle represent specific sets.\n",
    "Example:\n",
    "Consider a Venn diagram showing the correlation between two sets of numbers:\n",
    "Set A contains even numbers from 1 to 25.\n",
    "Set B contains numbers in the 5x table from 1 to 25.\n",
    "The intersecting part shows that 10 and 20 are both even numbers and also multiples of 5 between 1 and 25."
   ]
  },
  {
   "cell_type": "markdown",
   "id": "dded2cf4-df16-47f9-be5d-d0ff35c287f1",
   "metadata": {},
   "source": [
    "Q7. For the two given sets A = (2,3,4,5,6,7) & B = (0,2,6,8,10). Find:\n",
    "(i) A ∩ B\n",
    "(ii) A ⋃ B"
   ]
  },
  {
   "cell_type": "markdown",
   "id": "33f48c75-48f6-447d-bd94-ec6d65664154",
   "metadata": {},
   "source": [
    "Intersection (A ∩ B):\n",
    "The intersection of sets A and B contains elements that are common to both sets.\n",
    "Elements in A: {2, 3, 4, 5, 6, 7}\n",
    "Elements in B: {0, 2, 6, 8, 10}\n",
    "Common elements: {2, 6}\n",
    "Therefore, (A ∩ B = {2, 6})\n",
    "\n",
    "Union (A ⋃ B):\n",
    "The union of sets A and B contains all distinct elements from both sets.\n",
    "Elements in A: {2, 3, 4, 5, 6, 7}\n",
    "Elements in B: {0, 2, 6, 8, 10}\n",
    "Combined elements (without duplicates): {0, 2, 3, 4, 5, 6, 7, 8, 10}\n",
    "Therefore, (A ⋃ B = {0, 2, 3, 4, 5, 6, 7, 8, 10})"
   ]
  },
  {
   "cell_type": "markdown",
   "id": "13524856-ebd8-4695-8511-5028e1f1d077",
   "metadata": {},
   "source": [
    "Q8. What do you understand about skewness in data?"
   ]
  },
  {
   "cell_type": "markdown",
   "id": "df295d7b-be06-4426-8502-f12f5820f8d3",
   "metadata": {},
   "source": [
    "Skewness is a statistical measure that assesses the asymmetry of a probability distribution of a real-valued random variable about its mean. Let’s explore the key points about skewness:\n",
    "\n",
    "Definition:\n",
    "Skewness quantifies how different a distribution’s shape is from a perfectly symmetrical (normal) distribution.\n",
    "It indicates whether the data is skewed (shifted) to one side.\n",
    "Types of Skewness:\n",
    "Right Skew (Positive Skew):\n",
    "A right-skewed distribution is longer on the right side of its peak (tail extends to the right).\n",
    "Positive skewness indicates that the data has a longer tail on the right.\n",
    "Left Skew (Negative Skew):\n",
    "A left-skewed distribution is longer on the left side of its peak (tail extends to the left).\n",
    "Negative skewness indicates that the data has a longer tail on the left.\n",
    "Interpretation:\n",
    "In a right-skewed distribution, the mean is greater than the median.\n",
    "In a left-skewed distribution, the mean is less than the median.\n",
    "Practical Use:\n",
    "Skewness helps us:\n",
    "Describe the distribution of a variable alongside other descriptive statistics.\n",
    "Determine if a variable is normally distributed (a key assumption for many statistical procedures).\n",
    "Visual Check:\n",
    "The easiest way to check skewness is to plot the data in a histogram.\n",
    "If the distribution is approximately symmetrical, it has zero skew."
   ]
  },
  {
   "cell_type": "markdown",
   "id": "73daed22-2a10-438f-998d-0d6fcc68761d",
   "metadata": {},
   "source": [
    " Q9. If a data is right skewed then what will be the position of median with respect to mean?"
   ]
  },
  {
   "cell_type": "markdown",
   "id": "101c0ba1-d96a-45b2-b856-fc88b0e0fdb9",
   "metadata": {},
   "source": [
    "If a dataset is right-skewed, the position of the median will be less than the position of the mean. In other words:\n",
    "\n",
    "The mean will be pulled to the right by the long tail of larger values.\n",
    "The median, being less sensitive to extreme values, will be closer to the center of the data."
   ]
  },
  {
   "cell_type": "markdown",
   "id": "278db992-dff7-4c92-ae33-b2269cfc000a",
   "metadata": {},
   "source": [
    "Q10. Explain the difference between covariance and correlation. How are these measures used in\n",
    "statistical analysis?"
   ]
  },
  {
   "cell_type": "markdown",
   "id": "cd04733b-2ac8-477e-bf0d-67bcaa632649",
   "metadata": {},
   "source": [
    "Covariance:\n",
    "Definition: Covariance measures the direction of the linear relationship between two continuous variables.\n",
    "Interpretation:\n",
    "A positive covariance indicates that when one variable increases, the other tends to increase as well.\n",
    "A negative covariance suggests that when one variable increases, the other tends to decrease.\n",
    "Use:\n",
    "Assess the direction of the relationship between variables.\n",
    "Not standardized, so interpretation depends on the scale of the data.\n",
    "Correlation:\n",
    "Definition: Correlation measures both the strength and direction of the linear relationship between two continuous variables.\n",
    "Interpretation:\n",
    "A positive correlation (close to 1) indicates a strong positive linear relationship.\n",
    "A negative correlation (close to -1) suggests a strong negative linear relationship.\n",
    "A correlation near 0 indicates weak or no linear relationship.\n",
    "Use:\n",
    "Standardized, always falls between -1 and 1.\n",
    "Helps assess both strength and direction across different units.\n",
    "Applications:\n",
    "Finance: Correlation helps analyze the relationship between stock prices.\n",
    "Economics: Covariance is used in portfolio optimization.\n",
    "Healthcare: Correlation assesses the relationship between risk factors and health outcomes.\n",
    "Social Sciences: Both measures help understand relationships in survey data.\n",
    "In summary:\n",
    "\n",
    "Covariance assesses direction but not strength.\n",
    "Correlation provides both direction and strength, standardized for easy interpretation."
   ]
  },
  {
   "cell_type": "markdown",
   "id": "dc61e96b-c46d-4e90-98b5-f37123b8e15a",
   "metadata": {},
   "source": [
    "Q11. What is the formula for calculating the sample mean? Provide an example calculation for a\n",
    "dataset."
   ]
  },
  {
   "cell_type": "markdown",
   "id": "2803874c-5289-4158-b701-2ff8aa96dec7",
   "metadata": {},
   "source": [
    "Sample Mean Formula\n",
    "The sample mean formula is written as\n",
    "\n",
    "Sample Mean = (Sum of terms) ÷ (Number of Terms) =∑xi/n=(x1+x2+x3+⋯+x)/n\n",
    "Where,\n",
    "\n",
    "∑xi = sum of terms\n",
    "n = number of terms\n",
    "Let us see the applications of the sample mean formula in the section below.\n",
    "\n",
    "Examples on Sample Mean Formula\n",
    "Example 1: Find the sample mean of 60, 57, 109, 50.\n",
    "\n",
    "Solution: \n",
    "\n",
    "To find: Sample mean\n",
    "Sum of terms = 60 + 57 + 109 + 50 = 276\n",
    "Number of terms = 4\n",
    "Using sample mean formula,\n",
    "mean = (sum of terms)/(number of terms)\n",
    "mean = 276/4 = 69\n",
    "\n",
    "Answer: The sample mean of 60, 57, 109, 50 is  69."
   ]
  },
  {
   "cell_type": "markdown",
   "id": "a5c03db9-bd89-467e-883c-4b2db042f18f",
   "metadata": {},
   "source": [
    "Q12. For a normal distribution data what is the relationship between its measure of central tendency?"
   ]
  },
  {
   "cell_type": "markdown",
   "id": "443918fe-1dd6-4b88-9046-8ef9c0cf2077",
   "metadata": {},
   "source": [
    "In a normal distribution (also known as a bell curve), the three measures of central tendency—mean, median, and mode—have a specific relationship:\n",
    "\n",
    "Mean:\n",
    "The mean (average) of a normal distribution is located at the center of the distribution.\n",
    "It coincides with the peak of the bell curve.\n",
    "Median:\n",
    "The median of a normal distribution is also located at the center of the distribution.\n",
    "It is equal to the mean in a perfectly symmetrical normal distribution.\n",
    "Mode:\n",
    "The mode of a normal distribution is also located at the center (peak) of the distribution.\n",
    "In a perfectly symmetrical normal distribution, the mode is equal to the mean and median.\n",
    "In summary, for a normal distribution, all three measures of central tendency are aligned at the center of the distribution."
   ]
  },
  {
   "cell_type": "markdown",
   "id": "e5c7e9fd-06a5-466c-8936-345bd4856daa",
   "metadata": {},
   "source": [
    "Q13. How is covariance different from correlation?"
   ]
  },
  {
   "cell_type": "markdown",
   "id": "f4ada326-d5f1-4784-b4bb-8f45f6ba5b4b",
   "metadata": {},
   "source": [
    "Covariance and correlation are two statistical tools that are closely related but different in nature. Both techniques interpret the relationship between random variables and determine the type of dependence between them.\n",
    "\n",
    "Covariance is a measure of correlation, while correlation is a scaled version of covariance. This means correlation is a special case of covariance which can be achieved when the data is in standardized form.\n",
    "\n",
    "Covariance tells us the direction of the relationship between two variables, while correlation provides an indication as to how strong the relationship between the two variables is, in addition to the direction of correlated variables.\n",
    "\n",
    "Correlation values range from +1 to -1. On the other hand, covariance values can exceed this scale, ranging from +-∞ to +∞.\n",
    "Both correlation and covariance can be positive or negative, depending on the values of the variables.\n",
    "\n",
    "A positive covariance always leads to a positive correlation, and a negative covariance always outputs a negative correlation. This is due to the fact that correlation coefficient is a function of covariance."
   ]
  }
 ],
 "metadata": {
  "kernelspec": {
   "display_name": "Python 3 (ipykernel)",
   "language": "python",
   "name": "python3"
  },
  "language_info": {
   "codemirror_mode": {
    "name": "ipython",
    "version": 3
   },
   "file_extension": ".py",
   "mimetype": "text/x-python",
   "name": "python",
   "nbconvert_exporter": "python",
   "pygments_lexer": "ipython3",
   "version": "3.10.8"
  }
 },
 "nbformat": 4,
 "nbformat_minor": 5
}
